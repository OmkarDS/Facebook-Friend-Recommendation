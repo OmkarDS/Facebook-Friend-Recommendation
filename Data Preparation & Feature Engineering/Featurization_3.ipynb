{
  "nbformat": 4,
  "nbformat_minor": 0,
  "metadata": {
    "colab": {
      "name": "Featurization_3.ipynb",
      "provenance": [],
      "collapsed_sections": [
        "T0fGpzs51T8n",
        "1Ee3UmoPx_A2",
        "IkLrX2a1-3xN"
      ]
    },
    "kernelspec": {
      "name": "python3",
      "display_name": "Python 3"
    },
    "language_info": {
      "name": "python"
    }
  },
  "cells": [
    {
      "cell_type": "code",
      "execution_count": 1,
      "metadata": {
        "id": "-PkeUTCtsZQp"
      },
      "outputs": [],
      "source": [
        "# This notebook was built on Google colab and uses data form google drive\n",
        "# Also the notebook was built using multiple sessions saving the intermediate outputs to avoid overshooting the RAM"
      ]
    },
    {
      "cell_type": "code",
      "source": [
        "import numpy as np\n",
        "import pandas as pd\n",
        "import matplotlib.pyplot as plt\n",
        "\n",
        "import networkx as nx\n",
        "import math\n",
        "import pickle"
      ],
      "metadata": {
        "id": "PLuz-s670nnc"
      },
      "execution_count": 2,
      "outputs": []
    },
    {
      "cell_type": "markdown",
      "source": [
        "### Load data"
      ],
      "metadata": {
        "id": "tpfP8qjInJ6D"
      }
    },
    {
      "cell_type": "code",
      "source": [
        "parent_folder = \"/content/drive/MyDrive/AAIC/Projects/Facebook Friend Recommendation /data\"\n",
        "train_graph = nx.read_edgelist(parent_folder + '/train_pos.csv', delimiter=',', create_using=nx.DiGraph(), nodetype=int)\n",
        "print(nx.info(train_graph))"
      ],
      "metadata": {
        "colab": {
          "base_uri": "https://localhost:8080/"
        },
        "outputId": "e2efa658-af9a-461b-9e40-5efe4b8e366c",
        "id": "C9ecIhZrnJ6E"
      },
      "execution_count": 4,
      "outputs": [
        {
          "output_type": "stream",
          "name": "stdout",
          "text": [
            "DiGraph with 1780722 nodes and 7550015 edges\n"
          ]
        }
      ]
    },
    {
      "cell_type": "code",
      "source": [
        "df_final_train = pd.read_hdf(parent_folder + '/Features/sample_with_features_2.h5', 'train_df',mode='r')\n",
        "df_final_test = pd.read_hdf(parent_folder + '/Features/sample_with_features_2.h5', 'test_df',mode='r')"
      ],
      "metadata": {
        "id": "e-YT715UaYmz"
      },
      "execution_count": 5,
      "outputs": []
    },
    {
      "cell_type": "code",
      "source": [
        "df_final_train.shape"
      ],
      "metadata": {
        "colab": {
          "base_uri": "https://localhost:8080/"
        },
        "id": "wCPLZHX7bgCb",
        "outputId": "ec015783-3163-433a-e103-e6d1b838d893"
      },
      "execution_count": 6,
      "outputs": [
        {
          "output_type": "execute_result",
          "data": {
            "text/plain": [
              "(100001, 13)"
            ]
          },
          "metadata": {},
          "execution_count": 6
        }
      ]
    },
    {
      "cell_type": "code",
      "source": [
        "df_final_train.head()"
      ],
      "metadata": {
        "colab": {
          "base_uri": "https://localhost:8080/",
          "height": 270
        },
        "id": "Rvj7eaNCbiI7",
        "outputId": "61ac9801-2c8e-4cd6-c38b-22dd20cff481"
      },
      "execution_count": 7,
      "outputs": [
        {
          "output_type": "execute_result",
          "data": {
            "text/plain": [
              "   source_node  destination_node  indicator_link  num_followers_s  \\\n",
              "0       273084           1505602               1               11   \n",
              "1      1593259            673140               1                8   \n",
              "2       355711           1610892               1                9   \n",
              "3        80115           1473881               1                3   \n",
              "4       336918            226190               1               14   \n",
              "\n",
              "   num_followers_d  num_following_s  num_following_d  inter_followers  \\\n",
              "0               15                6                8                0   \n",
              "1                3               19                8                0   \n",
              "2               18                2                1                1   \n",
              "3               55               83               99                1   \n",
              "4               16                7                5                0   \n",
              "\n",
              "   inter_following  does_follow_back  shortest_path  same_wcc_com  adar_index  \n",
              "0                0                 0              4             1     0.00000  \n",
              "1                0                 0              4             1     0.00000  \n",
              "2                0                 1              3             1     0.00000  \n",
              "3               12                 0              2             1     6.12441  \n",
              "4                0                 1              4             1     0.00000  "
            ],
            "text/html": [
              "\n",
              "  <div id=\"df-3e650a6a-cd88-45ff-a62f-ed203886950f\">\n",
              "    <div class=\"colab-df-container\">\n",
              "      <div>\n",
              "<style scoped>\n",
              "    .dataframe tbody tr th:only-of-type {\n",
              "        vertical-align: middle;\n",
              "    }\n",
              "\n",
              "    .dataframe tbody tr th {\n",
              "        vertical-align: top;\n",
              "    }\n",
              "\n",
              "    .dataframe thead th {\n",
              "        text-align: right;\n",
              "    }\n",
              "</style>\n",
              "<table border=\"1\" class=\"dataframe\">\n",
              "  <thead>\n",
              "    <tr style=\"text-align: right;\">\n",
              "      <th></th>\n",
              "      <th>source_node</th>\n",
              "      <th>destination_node</th>\n",
              "      <th>indicator_link</th>\n",
              "      <th>num_followers_s</th>\n",
              "      <th>num_followers_d</th>\n",
              "      <th>num_following_s</th>\n",
              "      <th>num_following_d</th>\n",
              "      <th>inter_followers</th>\n",
              "      <th>inter_following</th>\n",
              "      <th>does_follow_back</th>\n",
              "      <th>shortest_path</th>\n",
              "      <th>same_wcc_com</th>\n",
              "      <th>adar_index</th>\n",
              "    </tr>\n",
              "  </thead>\n",
              "  <tbody>\n",
              "    <tr>\n",
              "      <th>0</th>\n",
              "      <td>273084</td>\n",
              "      <td>1505602</td>\n",
              "      <td>1</td>\n",
              "      <td>11</td>\n",
              "      <td>15</td>\n",
              "      <td>6</td>\n",
              "      <td>8</td>\n",
              "      <td>0</td>\n",
              "      <td>0</td>\n",
              "      <td>0</td>\n",
              "      <td>4</td>\n",
              "      <td>1</td>\n",
              "      <td>0.00000</td>\n",
              "    </tr>\n",
              "    <tr>\n",
              "      <th>1</th>\n",
              "      <td>1593259</td>\n",
              "      <td>673140</td>\n",
              "      <td>1</td>\n",
              "      <td>8</td>\n",
              "      <td>3</td>\n",
              "      <td>19</td>\n",
              "      <td>8</td>\n",
              "      <td>0</td>\n",
              "      <td>0</td>\n",
              "      <td>0</td>\n",
              "      <td>4</td>\n",
              "      <td>1</td>\n",
              "      <td>0.00000</td>\n",
              "    </tr>\n",
              "    <tr>\n",
              "      <th>2</th>\n",
              "      <td>355711</td>\n",
              "      <td>1610892</td>\n",
              "      <td>1</td>\n",
              "      <td>9</td>\n",
              "      <td>18</td>\n",
              "      <td>2</td>\n",
              "      <td>1</td>\n",
              "      <td>1</td>\n",
              "      <td>0</td>\n",
              "      <td>1</td>\n",
              "      <td>3</td>\n",
              "      <td>1</td>\n",
              "      <td>0.00000</td>\n",
              "    </tr>\n",
              "    <tr>\n",
              "      <th>3</th>\n",
              "      <td>80115</td>\n",
              "      <td>1473881</td>\n",
              "      <td>1</td>\n",
              "      <td>3</td>\n",
              "      <td>55</td>\n",
              "      <td>83</td>\n",
              "      <td>99</td>\n",
              "      <td>1</td>\n",
              "      <td>12</td>\n",
              "      <td>0</td>\n",
              "      <td>2</td>\n",
              "      <td>1</td>\n",
              "      <td>6.12441</td>\n",
              "    </tr>\n",
              "    <tr>\n",
              "      <th>4</th>\n",
              "      <td>336918</td>\n",
              "      <td>226190</td>\n",
              "      <td>1</td>\n",
              "      <td>14</td>\n",
              "      <td>16</td>\n",
              "      <td>7</td>\n",
              "      <td>5</td>\n",
              "      <td>0</td>\n",
              "      <td>0</td>\n",
              "      <td>1</td>\n",
              "      <td>4</td>\n",
              "      <td>1</td>\n",
              "      <td>0.00000</td>\n",
              "    </tr>\n",
              "  </tbody>\n",
              "</table>\n",
              "</div>\n",
              "      <button class=\"colab-df-convert\" onclick=\"convertToInteractive('df-3e650a6a-cd88-45ff-a62f-ed203886950f')\"\n",
              "              title=\"Convert this dataframe to an interactive table.\"\n",
              "              style=\"display:none;\">\n",
              "        \n",
              "  <svg xmlns=\"http://www.w3.org/2000/svg\" height=\"24px\"viewBox=\"0 0 24 24\"\n",
              "       width=\"24px\">\n",
              "    <path d=\"M0 0h24v24H0V0z\" fill=\"none\"/>\n",
              "    <path d=\"M18.56 5.44l.94 2.06.94-2.06 2.06-.94-2.06-.94-.94-2.06-.94 2.06-2.06.94zm-11 1L8.5 8.5l.94-2.06 2.06-.94-2.06-.94L8.5 2.5l-.94 2.06-2.06.94zm10 10l.94 2.06.94-2.06 2.06-.94-2.06-.94-.94-2.06-.94 2.06-2.06.94z\"/><path d=\"M17.41 7.96l-1.37-1.37c-.4-.4-.92-.59-1.43-.59-.52 0-1.04.2-1.43.59L10.3 9.45l-7.72 7.72c-.78.78-.78 2.05 0 2.83L4 21.41c.39.39.9.59 1.41.59.51 0 1.02-.2 1.41-.59l7.78-7.78 2.81-2.81c.8-.78.8-2.07 0-2.86zM5.41 20L4 18.59l7.72-7.72 1.47 1.35L5.41 20z\"/>\n",
              "  </svg>\n",
              "      </button>\n",
              "      \n",
              "  <style>\n",
              "    .colab-df-container {\n",
              "      display:flex;\n",
              "      flex-wrap:wrap;\n",
              "      gap: 12px;\n",
              "    }\n",
              "\n",
              "    .colab-df-convert {\n",
              "      background-color: #E8F0FE;\n",
              "      border: none;\n",
              "      border-radius: 50%;\n",
              "      cursor: pointer;\n",
              "      display: none;\n",
              "      fill: #1967D2;\n",
              "      height: 32px;\n",
              "      padding: 0 0 0 0;\n",
              "      width: 32px;\n",
              "    }\n",
              "\n",
              "    .colab-df-convert:hover {\n",
              "      background-color: #E2EBFA;\n",
              "      box-shadow: 0px 1px 2px rgba(60, 64, 67, 0.3), 0px 1px 3px 1px rgba(60, 64, 67, 0.15);\n",
              "      fill: #174EA6;\n",
              "    }\n",
              "\n",
              "    [theme=dark] .colab-df-convert {\n",
              "      background-color: #3B4455;\n",
              "      fill: #D2E3FC;\n",
              "    }\n",
              "\n",
              "    [theme=dark] .colab-df-convert:hover {\n",
              "      background-color: #434B5C;\n",
              "      box-shadow: 0px 1px 3px 1px rgba(0, 0, 0, 0.15);\n",
              "      filter: drop-shadow(0px 1px 2px rgba(0, 0, 0, 0.3));\n",
              "      fill: #FFFFFF;\n",
              "    }\n",
              "  </style>\n",
              "\n",
              "      <script>\n",
              "        const buttonEl =\n",
              "          document.querySelector('#df-3e650a6a-cd88-45ff-a62f-ed203886950f button.colab-df-convert');\n",
              "        buttonEl.style.display =\n",
              "          google.colab.kernel.accessAllowed ? 'block' : 'none';\n",
              "\n",
              "        async function convertToInteractive(key) {\n",
              "          const element = document.querySelector('#df-3e650a6a-cd88-45ff-a62f-ed203886950f');\n",
              "          const dataTable =\n",
              "            await google.colab.kernel.invokeFunction('convertToInteractive',\n",
              "                                                     [key], {});\n",
              "          if (!dataTable) return;\n",
              "\n",
              "          const docLinkHtml = 'Like what you see? Visit the ' +\n",
              "            '<a target=\"_blank\" href=https://colab.research.google.com/notebooks/data_table.ipynb>data table notebook</a>'\n",
              "            + ' to learn more about interactive tables.';\n",
              "          element.innerHTML = '';\n",
              "          dataTable['output_type'] = 'display_data';\n",
              "          await google.colab.output.renderOutput(dataTable, element);\n",
              "          const docLink = document.createElement('div');\n",
              "          docLink.innerHTML = docLinkHtml;\n",
              "          element.appendChild(docLink);\n",
              "        }\n",
              "      </script>\n",
              "    </div>\n",
              "  </div>\n",
              "  "
            ]
          },
          "metadata": {},
          "execution_count": 7
        }
      ]
    },
    {
      "cell_type": "code",
      "source": [
        "df_final_test.shape"
      ],
      "metadata": {
        "colab": {
          "base_uri": "https://localhost:8080/"
        },
        "outputId": "dca3d940-0199-4d2d-9f10-29424865670e",
        "id": "Syia1dYEnJ6G"
      },
      "execution_count": 8,
      "outputs": [
        {
          "output_type": "execute_result",
          "data": {
            "text/plain": [
              "(50001, 13)"
            ]
          },
          "metadata": {},
          "execution_count": 8
        }
      ]
    },
    {
      "cell_type": "code",
      "source": [
        "df_final_test.head()"
      ],
      "metadata": {
        "colab": {
          "base_uri": "https://localhost:8080/",
          "height": 270
        },
        "outputId": "5b8de1a0-0ad9-4593-996e-c9eae2cf5799",
        "id": "8bOK0I0fnJ6H"
      },
      "execution_count": 9,
      "outputs": [
        {
          "output_type": "execute_result",
          "data": {
            "text/plain": [
              "   source_node  destination_node  indicator_link  num_followers_s  \\\n",
              "0       848424            784690               1                6   \n",
              "1      1190268            217891               1               34   \n",
              "2      1095925            325140               1                0   \n",
              "3       571364            684722               1                1   \n",
              "4      1851322            840484               1                5   \n",
              "\n",
              "   num_followers_d  num_following_s  num_following_d  inter_followers  \\\n",
              "0                6               14                9                1   \n",
              "1               35               17               21                3   \n",
              "2                2               12               13                0   \n",
              "3                6                7                2                0   \n",
              "4                7                7               13                2   \n",
              "\n",
              "   inter_following  does_follow_back  shortest_path  same_wcc_com  adar_index  \n",
              "0                0                 1              2             1    0.000000  \n",
              "1                5                 1              2             1    3.450508  \n",
              "2                1                 0              2             1    1.183295  \n",
              "3                0                 0              2             1    0.000000  \n",
              "4                5                 1              2             1   12.434176  "
            ],
            "text/html": [
              "\n",
              "  <div id=\"df-4732c4e8-0130-4aa3-95c0-1825148f2c43\">\n",
              "    <div class=\"colab-df-container\">\n",
              "      <div>\n",
              "<style scoped>\n",
              "    .dataframe tbody tr th:only-of-type {\n",
              "        vertical-align: middle;\n",
              "    }\n",
              "\n",
              "    .dataframe tbody tr th {\n",
              "        vertical-align: top;\n",
              "    }\n",
              "\n",
              "    .dataframe thead th {\n",
              "        text-align: right;\n",
              "    }\n",
              "</style>\n",
              "<table border=\"1\" class=\"dataframe\">\n",
              "  <thead>\n",
              "    <tr style=\"text-align: right;\">\n",
              "      <th></th>\n",
              "      <th>source_node</th>\n",
              "      <th>destination_node</th>\n",
              "      <th>indicator_link</th>\n",
              "      <th>num_followers_s</th>\n",
              "      <th>num_followers_d</th>\n",
              "      <th>num_following_s</th>\n",
              "      <th>num_following_d</th>\n",
              "      <th>inter_followers</th>\n",
              "      <th>inter_following</th>\n",
              "      <th>does_follow_back</th>\n",
              "      <th>shortest_path</th>\n",
              "      <th>same_wcc_com</th>\n",
              "      <th>adar_index</th>\n",
              "    </tr>\n",
              "  </thead>\n",
              "  <tbody>\n",
              "    <tr>\n",
              "      <th>0</th>\n",
              "      <td>848424</td>\n",
              "      <td>784690</td>\n",
              "      <td>1</td>\n",
              "      <td>6</td>\n",
              "      <td>6</td>\n",
              "      <td>14</td>\n",
              "      <td>9</td>\n",
              "      <td>1</td>\n",
              "      <td>0</td>\n",
              "      <td>1</td>\n",
              "      <td>2</td>\n",
              "      <td>1</td>\n",
              "      <td>0.000000</td>\n",
              "    </tr>\n",
              "    <tr>\n",
              "      <th>1</th>\n",
              "      <td>1190268</td>\n",
              "      <td>217891</td>\n",
              "      <td>1</td>\n",
              "      <td>34</td>\n",
              "      <td>35</td>\n",
              "      <td>17</td>\n",
              "      <td>21</td>\n",
              "      <td>3</td>\n",
              "      <td>5</td>\n",
              "      <td>1</td>\n",
              "      <td>2</td>\n",
              "      <td>1</td>\n",
              "      <td>3.450508</td>\n",
              "    </tr>\n",
              "    <tr>\n",
              "      <th>2</th>\n",
              "      <td>1095925</td>\n",
              "      <td>325140</td>\n",
              "      <td>1</td>\n",
              "      <td>0</td>\n",
              "      <td>2</td>\n",
              "      <td>12</td>\n",
              "      <td>13</td>\n",
              "      <td>0</td>\n",
              "      <td>1</td>\n",
              "      <td>0</td>\n",
              "      <td>2</td>\n",
              "      <td>1</td>\n",
              "      <td>1.183295</td>\n",
              "    </tr>\n",
              "    <tr>\n",
              "      <th>3</th>\n",
              "      <td>571364</td>\n",
              "      <td>684722</td>\n",
              "      <td>1</td>\n",
              "      <td>1</td>\n",
              "      <td>6</td>\n",
              "      <td>7</td>\n",
              "      <td>2</td>\n",
              "      <td>0</td>\n",
              "      <td>0</td>\n",
              "      <td>0</td>\n",
              "      <td>2</td>\n",
              "      <td>1</td>\n",
              "      <td>0.000000</td>\n",
              "    </tr>\n",
              "    <tr>\n",
              "      <th>4</th>\n",
              "      <td>1851322</td>\n",
              "      <td>840484</td>\n",
              "      <td>1</td>\n",
              "      <td>5</td>\n",
              "      <td>7</td>\n",
              "      <td>7</td>\n",
              "      <td>13</td>\n",
              "      <td>2</td>\n",
              "      <td>5</td>\n",
              "      <td>1</td>\n",
              "      <td>2</td>\n",
              "      <td>1</td>\n",
              "      <td>12.434176</td>\n",
              "    </tr>\n",
              "  </tbody>\n",
              "</table>\n",
              "</div>\n",
              "      <button class=\"colab-df-convert\" onclick=\"convertToInteractive('df-4732c4e8-0130-4aa3-95c0-1825148f2c43')\"\n",
              "              title=\"Convert this dataframe to an interactive table.\"\n",
              "              style=\"display:none;\">\n",
              "        \n",
              "  <svg xmlns=\"http://www.w3.org/2000/svg\" height=\"24px\"viewBox=\"0 0 24 24\"\n",
              "       width=\"24px\">\n",
              "    <path d=\"M0 0h24v24H0V0z\" fill=\"none\"/>\n",
              "    <path d=\"M18.56 5.44l.94 2.06.94-2.06 2.06-.94-2.06-.94-.94-2.06-.94 2.06-2.06.94zm-11 1L8.5 8.5l.94-2.06 2.06-.94-2.06-.94L8.5 2.5l-.94 2.06-2.06.94zm10 10l.94 2.06.94-2.06 2.06-.94-2.06-.94-.94-2.06-.94 2.06-2.06.94z\"/><path d=\"M17.41 7.96l-1.37-1.37c-.4-.4-.92-.59-1.43-.59-.52 0-1.04.2-1.43.59L10.3 9.45l-7.72 7.72c-.78.78-.78 2.05 0 2.83L4 21.41c.39.39.9.59 1.41.59.51 0 1.02-.2 1.41-.59l7.78-7.78 2.81-2.81c.8-.78.8-2.07 0-2.86zM5.41 20L4 18.59l7.72-7.72 1.47 1.35L5.41 20z\"/>\n",
              "  </svg>\n",
              "      </button>\n",
              "      \n",
              "  <style>\n",
              "    .colab-df-container {\n",
              "      display:flex;\n",
              "      flex-wrap:wrap;\n",
              "      gap: 12px;\n",
              "    }\n",
              "\n",
              "    .colab-df-convert {\n",
              "      background-color: #E8F0FE;\n",
              "      border: none;\n",
              "      border-radius: 50%;\n",
              "      cursor: pointer;\n",
              "      display: none;\n",
              "      fill: #1967D2;\n",
              "      height: 32px;\n",
              "      padding: 0 0 0 0;\n",
              "      width: 32px;\n",
              "    }\n",
              "\n",
              "    .colab-df-convert:hover {\n",
              "      background-color: #E2EBFA;\n",
              "      box-shadow: 0px 1px 2px rgba(60, 64, 67, 0.3), 0px 1px 3px 1px rgba(60, 64, 67, 0.15);\n",
              "      fill: #174EA6;\n",
              "    }\n",
              "\n",
              "    [theme=dark] .colab-df-convert {\n",
              "      background-color: #3B4455;\n",
              "      fill: #D2E3FC;\n",
              "    }\n",
              "\n",
              "    [theme=dark] .colab-df-convert:hover {\n",
              "      background-color: #434B5C;\n",
              "      box-shadow: 0px 1px 3px 1px rgba(0, 0, 0, 0.15);\n",
              "      filter: drop-shadow(0px 1px 2px rgba(0, 0, 0, 0.3));\n",
              "      fill: #FFFFFF;\n",
              "    }\n",
              "  </style>\n",
              "\n",
              "      <script>\n",
              "        const buttonEl =\n",
              "          document.querySelector('#df-4732c4e8-0130-4aa3-95c0-1825148f2c43 button.colab-df-convert');\n",
              "        buttonEl.style.display =\n",
              "          google.colab.kernel.accessAllowed ? 'block' : 'none';\n",
              "\n",
              "        async function convertToInteractive(key) {\n",
              "          const element = document.querySelector('#df-4732c4e8-0130-4aa3-95c0-1825148f2c43');\n",
              "          const dataTable =\n",
              "            await google.colab.kernel.invokeFunction('convertToInteractive',\n",
              "                                                     [key], {});\n",
              "          if (!dataTable) return;\n",
              "\n",
              "          const docLinkHtml = 'Like what you see? Visit the ' +\n",
              "            '<a target=\"_blank\" href=https://colab.research.google.com/notebooks/data_table.ipynb>data table notebook</a>'\n",
              "            + ' to learn more about interactive tables.';\n",
              "          element.innerHTML = '';\n",
              "          dataTable['output_type'] = 'display_data';\n",
              "          await google.colab.output.renderOutput(dataTable, element);\n",
              "          const docLink = document.createElement('div');\n",
              "          docLink.innerHTML = docLinkHtml;\n",
              "          element.appendChild(docLink);\n",
              "        }\n",
              "      </script>\n",
              "    </div>\n",
              "  </div>\n",
              "  "
            ]
          },
          "metadata": {},
          "execution_count": 9
        }
      ]
    },
    {
      "cell_type": "markdown",
      "source": [
        "### Jaccard Index\n",
        "\\begin{equation}\n",
        "j = \\frac{|X\\cap Y|}{|X \\cup Y|} \n",
        "\\end{equation}"
      ],
      "metadata": {
        "id": "T0fGpzs51T8n"
      }
    },
    {
      "cell_type": "markdown",
      "source": [
        "Reference : https://www.statisticshowto.com/jaccard-index/<br>\n",
        "A = {0,1,2,5,6}<br>\n",
        "B = {0,2,3,4,5,7,9}<br>\n",
        "J(A,B) = |A∩B| / |A∪B| = |{0,2,5}| / |{0,1,2,3,4,5,6,7,9}| = 3/9 = 0.33"
      ],
      "metadata": {
        "id": "ASk7zAFl101G"
      }
    },
    {
      "cell_type": "code",
      "source": [
        "dg1 = nx.DiGraph()\n",
        "dg1.add_edge(\"follower1\", \"followee\")\n",
        "dg1.add_edge(\"follower2\", \"followee\")\n",
        "pos1=nx.spring_layout(dg1)\n",
        "\n",
        "nx.draw(dg1,pos1,node_color='#A0CBE2',edge_color='#00bb5e',width=1,edge_cmap=plt.cm.Blues,with_labels=True)"
      ],
      "metadata": {
        "colab": {
          "base_uri": "https://localhost:8080/",
          "height": 319
        },
        "id": "-v-bO6oE7Mfe",
        "outputId": "f716107c-9e54-4c39-e916-94eaba76168b"
      },
      "execution_count": 10,
      "outputs": [
        {
          "output_type": "display_data",
          "data": {
            "text/plain": [
              "<Figure size 432x288 with 1 Axes>"
            ],
            "image/png": "[encoded data removed]"
          },
          "metadata": {}
        }
      ]
    },
    {
      "cell_type": "code",
      "source": [
        "dg2 = nx.DiGraph()\n",
        "dg2.add_edge(3, \"u1\")\n",
        "dg2.add_edge(4, \"u1\")\n",
        "dg2.add_edge(5, \"u1\")\n",
        "dg2.add_edge(\"u1\", 7)\n",
        "dg2.add_edge(\"u1\", 8)\n",
        "dg2.add_edge(3, \"u2\")\n",
        "dg2.add_edge(4, \"u2\")\n",
        "dg2.add_edge(6, \"u2\")\n",
        "dg2.add_edge(\"u2\", 7)\n",
        "dg2.add_edge(\"u2\", 9)\n",
        "dg2.add_edge(\"u2\", 10)\n",
        "pos2=nx.spring_layout(dg2)\n",
        "\n",
        "plt.figure(figsize=(6,6))\n",
        "nx.draw(dg2,pos2,node_color='#A0CBE2',edge_color='#00bb5e',width=1,edge_cmap=plt.cm.Blues,with_labels=True)"
      ],
      "metadata": {
        "colab": {
          "base_uri": "https://localhost:8080/",
          "height": 463
        },
        "id": "ov-bmhGE0uC_",
        "outputId": "aa000f46-1144-41d7-87c7-92427a2aef84"
      },
      "execution_count": 15,
      "outputs": [
        {
          "output_type": "display_data",
          "data": {
            "text/plain": [
              "<Figure size 432x432 with 1 Axes>"
            ],
            "image/png": "[encoded data removed]"
          },
          "metadata": {}
        }
      ]
    },
    {
      "cell_type": "markdown",
      "source": [
        "Here,<br>\n",
        "\n",
        "\n",
        "```\n",
        "X = followers of u1 = {3,4,5}\n",
        "Y = followers of u2 = {3,4,6}\n",
        "J(X, Y) =  |X∩Y| / |X∪Y|\n",
        "        = 2/4\n",
        "        = 0.5\n",
        "```\n",
        "Therefore, Jaccard index between u1 and u2 for followers is 0.5\n",
        "\n",
        "```\n",
        "X = users followed by u1 = {7,8}\n",
        "Y = users followed by u2 = {7,9,10}\n",
        "J(X, Y) =  |X∩Y| / |X∪Y|\n",
        "        = 1/4\n",
        "        = 0.25\n",
        "```\n",
        "Therefore, Jaccard index between u1 and u2 for be followee is 0.25\n",
        "\n",
        "\n",
        "\n"
      ],
      "metadata": {
        "id": "2syrAcYn4_O1"
      }
    },
    {
      "cell_type": "code",
      "source": [
        "#for followees\n",
        "def jaccard_for_following(a,b):\n",
        "    try:\n",
        "        if len(set(train_graph.successors(a))) == 0  | len(set(train_graph.successors(b))) == 0:\n",
        "            return 0\n",
        "        intersection = len(set(train_graph.successors(a)).intersection(set(train_graph.successors(b))))\n",
        "        union = len(set(train_graph.successors(a)).union(set(train_graph.successors(b))))\n",
        "        j = intersection/union\n",
        "    except:\n",
        "        return 0\n",
        "    return j\n",
        "\n",
        "#for followers\n",
        "def jaccard_for_followers(a,b):\n",
        "    try:\n",
        "        if len(set(train_graph.predecessors(a))) == 0  | len(set(train_graph.predecessors(b))) == 0:\n",
        "            return 0\n",
        "        intersection = len(set(train_graph.predecessors(a)).intersection(set(train_graph.predecessors(b))))\n",
        "        union = len(set(train_graph.predecessors(a)).union(set(train_graph.predecessors(b))))\n",
        "        j = intersection/union\n",
        "\n",
        "        return j\n",
        "    except:\n",
        "        return 0"
      ],
      "metadata": {
        "id": "5y1P5QRB7-7u"
      },
      "execution_count": 26,
      "outputs": []
    },
    {
      "cell_type": "code",
      "source": [
        "jaccard_for_followers(1,181253)"
      ],
      "metadata": {
        "colab": {
          "base_uri": "https://localhost:8080/"
        },
        "id": "wKrYWQQNtXlQ",
        "outputId": "41ec25cd-cc52-40df-8b52-b8ee8c7c4592"
      },
      "execution_count": 27,
      "outputs": [
        {
          "output_type": "execute_result",
          "data": {
            "text/plain": [
              "0.25"
            ]
          },
          "metadata": {},
          "execution_count": 27
        }
      ]
    },
    {
      "cell_type": "code",
      "source": [
        "jaccard_for_following(189226, 315892)"
      ],
      "metadata": {
        "colab": {
          "base_uri": "https://localhost:8080/"
        },
        "id": "EMT0ORv8xDXW",
        "outputId": "3a205811-9420-4d1c-dff9-d56e6db21495"
      },
      "execution_count": 28,
      "outputs": [
        {
          "output_type": "execute_result",
          "data": {
            "text/plain": [
              "0.07407407407407407"
            ]
          },
          "metadata": {},
          "execution_count": 28
        }
      ]
    },
    {
      "cell_type": "code",
      "source": [
        "# jaccard for followers on train\n",
        "df_final_train['jaccard_followers'] = df_final_train.apply(lambda row : jaccard_for_followers(row['source_node'], row['destination_node']), axis=1)\n",
        "\n",
        "# jaccard for followers on test\n",
        "df_final_test['jaccard_followers'] = df_final_test.apply(lambda row : jaccard_for_followers(row['source_node'], row['destination_node']), axis=1)\n",
        "\n",
        "# jaccard for following on train\n",
        "df_final_train['jaccard_following'] = df_final_train.apply(lambda row : jaccard_for_following(row['source_node'], row['destination_node']), axis=1)\n",
        "\n",
        "# jaccard for following on test\n",
        "df_final_test['jaccard_following'] = df_final_test.apply(lambda row : jaccard_for_following(row['source_node'], row['destination_node']), axis=1)"
      ],
      "metadata": {
        "id": "sgCPC5h-ondr"
      },
      "execution_count": 29,
      "outputs": []
    },
    {
      "cell_type": "markdown",
      "source": [
        "### Cosine Distance (Otsuka-Ochiai coefficient)\n",
        "\\begin{equation}\n",
        "CosineDistance = \\frac{|X\\cap Y|}{\\sqrt{|X|\\cdot|Y|} }\n",
        "\\end{equation}"
      ],
      "metadata": {
        "id": "1Ee3UmoPx_A2"
      }
    },
    {
      "cell_type": "code",
      "source": [
        "#for followees\n",
        "def cosine_for_following(a,b):\n",
        "    try:\n",
        "        if len(set(train_graph.successors(a))) == 0  | len(set(train_graph.successors(b))) == 0:\n",
        "            return 0\n",
        "        numerator = len(set(train_graph.successors(a)).intersection(set(train_graph.successors(b))))\n",
        "        denominator = math.sqrt(len(set(train_graph.successors(a)))*len((set(train_graph.successors(b)))))\n",
        "        c = numerator/denominator\n",
        "        return c\n",
        "    except:\n",
        "        return 0\n",
        "\n",
        "#for followers\n",
        "def cosine_for_followers(a,b):\n",
        "    try:\n",
        "        if len(set(train_graph.predecessors(a))) == 0  | len(set(train_graph.predecessors(b))) == 0:\n",
        "            return 0\n",
        "        numerator = len(set(train_graph.predecessors(a)).intersection(set(train_graph.predecessors(b))))\n",
        "        denominator = math.sqrt(len(set(train_graph.predecessors(a)))*len((set(train_graph.predecessors(b)))))\n",
        "        c = numerator/denominator\n",
        "        return c\n",
        "    except:\n",
        "        return 0"
      ],
      "metadata": {
        "id": "_w5wEgTdu8V6"
      },
      "execution_count": 41,
      "outputs": []
    },
    {
      "cell_type": "code",
      "source": [
        "cosine_for_followers(1,181253)"
      ],
      "metadata": {
        "colab": {
          "base_uri": "https://localhost:8080/"
        },
        "id": "XGna36jC01Jo",
        "outputId": "9dfa744b-d4f1-4bab-ef8a-3de62724dcc7"
      },
      "execution_count": 42,
      "outputs": [
        {
          "output_type": "execute_result",
          "data": {
            "text/plain": [
              "0.4082482904638631"
            ]
          },
          "metadata": {},
          "execution_count": 42
        }
      ]
    },
    {
      "cell_type": "code",
      "source": [
        "cosine_for_following(189226, 315892)"
      ],
      "metadata": {
        "colab": {
          "base_uri": "https://localhost:8080/"
        },
        "id": "7OdPY8PN032Q",
        "outputId": "172cf6ed-db71-408c-9c9e-83c5f8403650"
      },
      "execution_count": 43,
      "outputs": [
        {
          "output_type": "execute_result",
          "data": {
            "text/plain": [
              "0.2"
            ]
          },
          "metadata": {},
          "execution_count": 43
        }
      ]
    },
    {
      "cell_type": "code",
      "source": [
        "# cosine for followers on train\n",
        "df_final_train['cosine_followers'] = df_final_train.apply(lambda row : cosine_for_followers(row['source_node'], row['destination_node']), axis=1)\n",
        "\n",
        "# cosine for followers on test\n",
        "df_final_test['cosine_followers'] = df_final_test.apply(lambda row : cosine_for_followers(row['source_node'], row['destination_node']), axis=1)\n",
        "\n",
        "# cosine for following on train\n",
        "df_final_train['cosine_following'] = df_final_train.apply(lambda row : cosine_for_following(row['source_node'], row['destination_node']), axis=1)\n",
        "\n",
        "# cosine for following on test\n",
        "df_final_test['cosine_following'] = df_final_test.apply(lambda row : cosine_for_following(row['source_node'], row['destination_node']), axis=1)"
      ],
      "metadata": {
        "id": "d85Ms4PFqBCk"
      },
      "execution_count": 44,
      "outputs": []
    },
    {
      "cell_type": "code",
      "source": [
        "df_final_train.head()"
      ],
      "metadata": {
        "colab": {
          "base_uri": "https://localhost:8080/",
          "height": 270
        },
        "id": "M24KlYgrqL7W",
        "outputId": "94796ee4-4f02-4f20-d930-744cf548ca0e"
      },
      "execution_count": 45,
      "outputs": [
        {
          "output_type": "execute_result",
          "data": {
            "text/plain": [
              "   source_node  destination_node  indicator_link  num_followers_s  \\\n",
              "0       273084           1505602               1               11   \n",
              "1      1593259            673140               1                8   \n",
              "2       355711           1610892               1                9   \n",
              "3        80115           1473881               1                3   \n",
              "4       336918            226190               1               14   \n",
              "\n",
              "   num_followers_d  num_following_s  num_following_d  inter_followers  \\\n",
              "0               15                6                8                0   \n",
              "1                3               19                8                0   \n",
              "2               18                2                1                1   \n",
              "3               55               83               99                1   \n",
              "4               16                7                5                0   \n",
              "\n",
              "   inter_following  does_follow_back  shortest_path  same_wcc_com  adar_index  \\\n",
              "0                0                 0              4             1     0.00000   \n",
              "1                0                 0              4             1     0.00000   \n",
              "2                0                 1              3             1     0.00000   \n",
              "3               12                 0              2             1     6.12441   \n",
              "4                0                 1              4             1     0.00000   \n",
              "\n",
              "   jaccard_followers  jaccard_following  cosine_followers  cosine_following  \n",
              "0           0.000000           0.000000          0.000000          0.000000  \n",
              "1           0.000000           0.000000          0.000000          0.000000  \n",
              "2           0.100000           0.000000          0.235702          0.000000  \n",
              "3           0.011765           0.084507          0.063372          0.162623  \n",
              "4           0.000000           0.000000          0.000000          0.000000  "
            ],
            "text/html": [
              "\n",
              "  <div id=\"df-e88e830c-9288-43ff-80cd-9c3c1948c573\">\n",
              "    <div class=\"colab-df-container\">\n",
              "      <div>\n",
              "<style scoped>\n",
              "    .dataframe tbody tr th:only-of-type {\n",
              "        vertical-align: middle;\n",
              "    }\n",
              "\n",
              "    .dataframe tbody tr th {\n",
              "        vertical-align: top;\n",
              "    }\n",
              "\n",
              "    .dataframe thead th {\n",
              "        text-align: right;\n",
              "    }\n",
              "</style>\n",
              "<table border=\"1\" class=\"dataframe\">\n",
              "  <thead>\n",
              "    <tr style=\"text-align: right;\">\n",
              "      <th></th>\n",
              "      <th>source_node</th>\n",
              "      <th>destination_node</th>\n",
              "      <th>indicator_link</th>\n",
              "      <th>num_followers_s</th>\n",
              "      <th>num_followers_d</th>\n",
              "      <th>num_following_s</th>\n",
              "      <th>num_following_d</th>\n",
              "      <th>inter_followers</th>\n",
              "      <th>inter_following</th>\n",
              "      <th>does_follow_back</th>\n",
              "      <th>shortest_path</th>\n",
              "      <th>same_wcc_com</th>\n",
              "      <th>adar_index</th>\n",
              "      <th>jaccard_followers</th>\n",
              "      <th>jaccard_following</th>\n",
              "      <th>cosine_followers</th>\n",
              "      <th>cosine_following</th>\n",
              "    </tr>\n",
              "  </thead>\n",
              "  <tbody>\n",
              "    <tr>\n",
              "      <th>0</th>\n",
              "      <td>273084</td>\n",
              "      <td>1505602</td>\n",
              "      <td>1</td>\n",
              "      <td>11</td>\n",
              "      <td>15</td>\n",
              "      <td>6</td>\n",
              "      <td>8</td>\n",
              "      <td>0</td>\n",
              "      <td>0</td>\n",
              "      <td>0</td>\n",
              "      <td>4</td>\n",
              "      <td>1</td>\n",
              "      <td>0.00000</td>\n",
              "      <td>0.000000</td>\n",
              "      <td>0.000000</td>\n",
              "      <td>0.000000</td>\n",
              "      <td>0.000000</td>\n",
              "    </tr>\n",
              "    <tr>\n",
              "      <th>1</th>\n",
              "      <td>1593259</td>\n",
              "      <td>673140</td>\n",
              "      <td>1</td>\n",
              "      <td>8</td>\n",
              "      <td>3</td>\n",
              "      <td>19</td>\n",
              "      <td>8</td>\n",
              "      <td>0</td>\n",
              "      <td>0</td>\n",
              "      <td>0</td>\n",
              "      <td>4</td>\n",
              "      <td>1</td>\n",
              "      <td>0.00000</td>\n",
              "      <td>0.000000</td>\n",
              "      <td>0.000000</td>\n",
              "      <td>0.000000</td>\n",
              "      <td>0.000000</td>\n",
              "    </tr>\n",
              "    <tr>\n",
              "      <th>2</th>\n",
              "      <td>355711</td>\n",
              "      <td>1610892</td>\n",
              "      <td>1</td>\n",
              "      <td>9</td>\n",
              "      <td>18</td>\n",
              "      <td>2</td>\n",
              "      <td>1</td>\n",
              "      <td>1</td>\n",
              "      <td>0</td>\n",
              "      <td>1</td>\n",
              "      <td>3</td>\n",
              "      <td>1</td>\n",
              "      <td>0.00000</td>\n",
              "      <td>0.100000</td>\n",
              "      <td>0.000000</td>\n",
              "      <td>0.235702</td>\n",
              "      <td>0.000000</td>\n",
              "    </tr>\n",
              "    <tr>\n",
              "      <th>3</th>\n",
              "      <td>80115</td>\n",
              "      <td>1473881</td>\n",
              "      <td>1</td>\n",
              "      <td>3</td>\n",
              "      <td>55</td>\n",
              "      <td>83</td>\n",
              "      <td>99</td>\n",
              "      <td>1</td>\n",
              "      <td>12</td>\n",
              "      <td>0</td>\n",
              "      <td>2</td>\n",
              "      <td>1</td>\n",
              "      <td>6.12441</td>\n",
              "      <td>0.011765</td>\n",
              "      <td>0.084507</td>\n",
              "      <td>0.063372</td>\n",
              "      <td>0.162623</td>\n",
              "    </tr>\n",
              "    <tr>\n",
              "      <th>4</th>\n",
              "      <td>336918</td>\n",
              "      <td>226190</td>\n",
              "      <td>1</td>\n",
              "      <td>14</td>\n",
              "      <td>16</td>\n",
              "      <td>7</td>\n",
              "      <td>5</td>\n",
              "      <td>0</td>\n",
              "      <td>0</td>\n",
              "      <td>1</td>\n",
              "      <td>4</td>\n",
              "      <td>1</td>\n",
              "      <td>0.00000</td>\n",
              "      <td>0.000000</td>\n",
              "      <td>0.000000</td>\n",
              "      <td>0.000000</td>\n",
              "      <td>0.000000</td>\n",
              "    </tr>\n",
              "  </tbody>\n",
              "</table>\n",
              "</div>\n",
              "      <button class=\"colab-df-convert\" onclick=\"convertToInteractive('df-e88e830c-9288-43ff-80cd-9c3c1948c573')\"\n",
              "              title=\"Convert this dataframe to an interactive table.\"\n",
              "              style=\"display:none;\">\n",
              "        \n",
              "  <svg xmlns=\"http://www.w3.org/2000/svg\" height=\"24px\"viewBox=\"0 0 24 24\"\n",
              "       width=\"24px\">\n",
              "    <path d=\"M0 0h24v24H0V0z\" fill=\"none\"/>\n",
              "    <path d=\"M18.56 5.44l.94 2.06.94-2.06 2.06-.94-2.06-.94-.94-2.06-.94 2.06-2.06.94zm-11 1L8.5 8.5l.94-2.06 2.06-.94-2.06-.94L8.5 2.5l-.94 2.06-2.06.94zm10 10l.94 2.06.94-2.06 2.06-.94-2.06-.94-.94-2.06-.94 2.06-2.06.94z\"/><path d=\"M17.41 7.96l-1.37-1.37c-.4-.4-.92-.59-1.43-.59-.52 0-1.04.2-1.43.59L10.3 9.45l-7.72 7.72c-.78.78-.78 2.05 0 2.83L4 21.41c.39.39.9.59 1.41.59.51 0 1.02-.2 1.41-.59l7.78-7.78 2.81-2.81c.8-.78.8-2.07 0-2.86zM5.41 20L4 18.59l7.72-7.72 1.47 1.35L5.41 20z\"/>\n",
              "  </svg>\n",
              "      </button>\n",
              "      \n",
              "  <style>\n",
              "    .colab-df-container {\n",
              "      display:flex;\n",
              "      flex-wrap:wrap;\n",
              "      gap: 12px;\n",
              "    }\n",
              "\n",
              "    .colab-df-convert {\n",
              "      background-color: #E8F0FE;\n",
              "      border: none;\n",
              "      border-radius: 50%;\n",
              "      cursor: pointer;\n",
              "      display: none;\n",
              "      fill: #1967D2;\n",
              "      height: 32px;\n",
              "      padding: 0 0 0 0;\n",
              "      width: 32px;\n",
              "    }\n",
              "\n",
              "    .colab-df-convert:hover {\n",
              "      background-color: #E2EBFA;\n",
              "      box-shadow: 0px 1px 2px rgba(60, 64, 67, 0.3), 0px 1px 3px 1px rgba(60, 64, 67, 0.15);\n",
              "      fill: #174EA6;\n",
              "    }\n",
              "\n",
              "    [theme=dark] .colab-df-convert {\n",
              "      background-color: #3B4455;\n",
              "      fill: #D2E3FC;\n",
              "    }\n",
              "\n",
              "    [theme=dark] .colab-df-convert:hover {\n",
              "      background-color: #434B5C;\n",
              "      box-shadow: 0px 1px 3px 1px rgba(0, 0, 0, 0.15);\n",
              "      filter: drop-shadow(0px 1px 2px rgba(0, 0, 0, 0.3));\n",
              "      fill: #FFFFFF;\n",
              "    }\n",
              "  </style>\n",
              "\n",
              "      <script>\n",
              "        const buttonEl =\n",
              "          document.querySelector('#df-e88e830c-9288-43ff-80cd-9c3c1948c573 button.colab-df-convert');\n",
              "        buttonEl.style.display =\n",
              "          google.colab.kernel.accessAllowed ? 'block' : 'none';\n",
              "\n",
              "        async function convertToInteractive(key) {\n",
              "          const element = document.querySelector('#df-e88e830c-9288-43ff-80cd-9c3c1948c573');\n",
              "          const dataTable =\n",
              "            await google.colab.kernel.invokeFunction('convertToInteractive',\n",
              "                                                     [key], {});\n",
              "          if (!dataTable) return;\n",
              "\n",
              "          const docLinkHtml = 'Like what you see? Visit the ' +\n",
              "            '<a target=\"_blank\" href=https://colab.research.google.com/notebooks/data_table.ipynb>data table notebook</a>'\n",
              "            + ' to learn more about interactive tables.';\n",
              "          element.innerHTML = '';\n",
              "          dataTable['output_type'] = 'display_data';\n",
              "          await google.colab.output.renderOutput(dataTable, element);\n",
              "          const docLink = document.createElement('div');\n",
              "          docLink.innerHTML = docLinkHtml;\n",
              "          element.appendChild(docLink);\n",
              "        }\n",
              "      </script>\n",
              "    </div>\n",
              "  </div>\n",
              "  "
            ]
          },
          "metadata": {},
          "execution_count": 45
        }
      ]
    },
    {
      "cell_type": "markdown",
      "source": [
        "### Page Rank\n",
        "- In a nutshell, given a directed graph, page rank will give each node a relative score based on how important the node is.<br>\n",
        "- This depends on the number and quality of the in-degree links.\n",
        "- i.e. Users with more followers will get bigger score\n",
        "\n",
        "<br>\n",
        "\n",
        "![image.png](data:image/png;base64,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)\n",
        "<br>\n",
        "Reference : https://delante.co/definitions/pagerank/"
      ],
      "metadata": {
        "id": "IkLrX2a1-3xN"
      }
    },
    {
      "cell_type": "code",
      "source": [
        "pageranks = nx.pagerank(train_graph, alpha=0.85)"
      ],
      "metadata": {
        "id": "-kNm9jvT06vA"
      },
      "execution_count": 46,
      "outputs": []
    },
    {
      "cell_type": "code",
      "source": [
        "pickle.dump(pageranks, open(parent_folder + '/Features/pageranks.p', 'wb'))"
      ],
      "metadata": {
        "id": "IbX_Xy3cFmy0"
      },
      "execution_count": 47,
      "outputs": []
    },
    {
      "cell_type": "code",
      "source": [
        "mean_rank = float(sum(pageranks.values())) / len(pageranks)\n",
        "mean_rank"
      ],
      "metadata": {
        "colab": {
          "base_uri": "https://localhost:8080/"
        },
        "id": "oQGc_eEXGtFD",
        "outputId": "130aeb48-2dcc-4c85-e571-23170be6bddc"
      },
      "execution_count": 48,
      "outputs": [
        {
          "output_type": "execute_result",
          "data": {
            "text/plain": [
              "5.615699699389075e-07"
            ]
          },
          "metadata": {},
          "execution_count": 48
        }
      ]
    },
    {
      "cell_type": "code",
      "source": [
        "# for missing pagerank, imputing mean_rank\n",
        "\n",
        "# pagerank for source in train\n",
        "df_final_train['page_rank_s'] = df_final_train.source_node.apply(lambda node : pageranks.get(node, mean_rank))\n",
        "\n",
        "# pagerank for destination in train\n",
        "df_final_train['page_rank_d'] = df_final_train.destination_node.apply(lambda node : pageranks.get(node, mean_rank))\n",
        "\n",
        "# pagerank for source in test\n",
        "df_final_test['page_rank_s'] = df_final_test.source_node.apply(lambda node : pageranks.get(node, mean_rank))\n",
        "\n",
        "# pagerank for destination in test\n",
        "df_final_test['page_rank_d'] = df_final_test.destination_node.apply(lambda node : pageranks.get(node, mean_rank))"
      ],
      "metadata": {
        "id": "mb868AGmr59-"
      },
      "execution_count": 49,
      "outputs": []
    },
    {
      "cell_type": "code",
      "source": [
        "df_final_train.head(1)"
      ],
      "metadata": {
        "colab": {
          "base_uri": "https://localhost:8080/",
          "height": 162
        },
        "id": "mwpQjS89tnoX",
        "outputId": "a93d49cd-ca4a-448f-efcd-04e478010b5c"
      },
      "execution_count": 50,
      "outputs": [
        {
          "output_type": "execute_result",
          "data": {
            "text/plain": [
              "   source_node  destination_node  indicator_link  num_followers_s  \\\n",
              "0       273084           1505602               1               11   \n",
              "\n",
              "   num_followers_d  num_following_s  num_following_d  inter_followers  \\\n",
              "0               15                6                8                0   \n",
              "\n",
              "   inter_following  does_follow_back  shortest_path  same_wcc_com  adar_index  \\\n",
              "0                0                 0              4             1         0.0   \n",
              "\n",
              "   jaccard_followers  jaccard_following  cosine_followers  cosine_following  \\\n",
              "0                0.0                0.0               0.0               0.0   \n",
              "\n",
              "   page_rank_s   page_rank_d  \n",
              "0     0.000002  3.459963e-07  "
            ],
            "text/html": [
              "\n",
              "  <div id=\"df-97584821-b176-483a-840a-b2e4caab4686\">\n",
              "    <div class=\"colab-df-container\">\n",
              "      <div>\n",
              "<style scoped>\n",
              "    .dataframe tbody tr th:only-of-type {\n",
              "        vertical-align: middle;\n",
              "    }\n",
              "\n",
              "    .dataframe tbody tr th {\n",
              "        vertical-align: top;\n",
              "    }\n",
              "\n",
              "    .dataframe thead th {\n",
              "        text-align: right;\n",
              "    }\n",
              "</style>\n",
              "<table border=\"1\" class=\"dataframe\">\n",
              "  <thead>\n",
              "    <tr style=\"text-align: right;\">\n",
              "      <th></th>\n",
              "      <th>source_node</th>\n",
              "      <th>destination_node</th>\n",
              "      <th>indicator_link</th>\n",
              "      <th>num_followers_s</th>\n",
              "      <th>num_followers_d</th>\n",
              "      <th>num_following_s</th>\n",
              "      <th>num_following_d</th>\n",
              "      <th>inter_followers</th>\n",
              "      <th>inter_following</th>\n",
              "      <th>does_follow_back</th>\n",
              "      <th>shortest_path</th>\n",
              "      <th>same_wcc_com</th>\n",
              "      <th>adar_index</th>\n",
              "      <th>jaccard_followers</th>\n",
              "      <th>jaccard_following</th>\n",
              "      <th>cosine_followers</th>\n",
              "      <th>cosine_following</th>\n",
              "      <th>page_rank_s</th>\n",
              "      <th>page_rank_d</th>\n",
              "    </tr>\n",
              "  </thead>\n",
              "  <tbody>\n",
              "    <tr>\n",
              "      <th>0</th>\n",
              "      <td>273084</td>\n",
              "      <td>1505602</td>\n",
              "      <td>1</td>\n",
              "      <td>11</td>\n",
              "      <td>15</td>\n",
              "      <td>6</td>\n",
              "      <td>8</td>\n",
              "      <td>0</td>\n",
              "      <td>0</td>\n",
              "      <td>0</td>\n",
              "      <td>4</td>\n",
              "      <td>1</td>\n",
              "      <td>0.0</td>\n",
              "      <td>0.0</td>\n",
              "      <td>0.0</td>\n",
              "      <td>0.0</td>\n",
              "      <td>0.0</td>\n",
              "      <td>0.000002</td>\n",
              "      <td>3.459963e-07</td>\n",
              "    </tr>\n",
              "  </tbody>\n",
              "</table>\n",
              "</div>\n",
              "      <button class=\"colab-df-convert\" onclick=\"convertToInteractive('df-97584821-b176-483a-840a-b2e4caab4686')\"\n",
              "              title=\"Convert this dataframe to an interactive table.\"\n",
              "              style=\"display:none;\">\n",
              "        \n",
              "  <svg xmlns=\"http://www.w3.org/2000/svg\" height=\"24px\"viewBox=\"0 0 24 24\"\n",
              "       width=\"24px\">\n",
              "    <path d=\"M0 0h24v24H0V0z\" fill=\"none\"/>\n",
              "    <path d=\"M18.56 5.44l.94 2.06.94-2.06 2.06-.94-2.06-.94-.94-2.06-.94 2.06-2.06.94zm-11 1L8.5 8.5l.94-2.06 2.06-.94-2.06-.94L8.5 2.5l-.94 2.06-2.06.94zm10 10l.94 2.06.94-2.06 2.06-.94-2.06-.94-.94-2.06-.94 2.06-2.06.94z\"/><path d=\"M17.41 7.96l-1.37-1.37c-.4-.4-.92-.59-1.43-.59-.52 0-1.04.2-1.43.59L10.3 9.45l-7.72 7.72c-.78.78-.78 2.05 0 2.83L4 21.41c.39.39.9.59 1.41.59.51 0 1.02-.2 1.41-.59l7.78-7.78 2.81-2.81c.8-.78.8-2.07 0-2.86zM5.41 20L4 18.59l7.72-7.72 1.47 1.35L5.41 20z\"/>\n",
              "  </svg>\n",
              "      </button>\n",
              "      \n",
              "  <style>\n",
              "    .colab-df-container {\n",
              "      display:flex;\n",
              "      flex-wrap:wrap;\n",
              "      gap: 12px;\n",
              "    }\n",
              "\n",
              "    .colab-df-convert {\n",
              "      background-color: #E8F0FE;\n",
              "      border: none;\n",
              "      border-radius: 50%;\n",
              "      cursor: pointer;\n",
              "      display: none;\n",
              "      fill: #1967D2;\n",
              "      height: 32px;\n",
              "      padding: 0 0 0 0;\n",
              "      width: 32px;\n",
              "    }\n",
              "\n",
              "    .colab-df-convert:hover {\n",
              "      background-color: #E2EBFA;\n",
              "      box-shadow: 0px 1px 2px rgba(60, 64, 67, 0.3), 0px 1px 3px 1px rgba(60, 64, 67, 0.15);\n",
              "      fill: #174EA6;\n",
              "    }\n",
              "\n",
              "    [theme=dark] .colab-df-convert {\n",
              "      background-color: #3B4455;\n",
              "      fill: #D2E3FC;\n",
              "    }\n",
              "\n",
              "    [theme=dark] .colab-df-convert:hover {\n",
              "      background-color: #434B5C;\n",
              "      box-shadow: 0px 1px 3px 1px rgba(0, 0, 0, 0.15);\n",
              "      filter: drop-shadow(0px 1px 2px rgba(0, 0, 0, 0.3));\n",
              "      fill: #FFFFFF;\n",
              "    }\n",
              "  </style>\n",
              "\n",
              "      <script>\n",
              "        const buttonEl =\n",
              "          document.querySelector('#df-97584821-b176-483a-840a-b2e4caab4686 button.colab-df-convert');\n",
              "        buttonEl.style.display =\n",
              "          google.colab.kernel.accessAllowed ? 'block' : 'none';\n",
              "\n",
              "        async function convertToInteractive(key) {\n",
              "          const element = document.querySelector('#df-97584821-b176-483a-840a-b2e4caab4686');\n",
              "          const dataTable =\n",
              "            await google.colab.kernel.invokeFunction('convertToInteractive',\n",
              "                                                     [key], {});\n",
              "          if (!dataTable) return;\n",
              "\n",
              "          const docLinkHtml = 'Like what you see? Visit the ' +\n",
              "            '<a target=\"_blank\" href=https://colab.research.google.com/notebooks/data_table.ipynb>data table notebook</a>'\n",
              "            + ' to learn more about interactive tables.';\n",
              "          element.innerHTML = '';\n",
              "          dataTable['output_type'] = 'display_data';\n",
              "          await google.colab.output.renderOutput(dataTable, element);\n",
              "          const docLink = document.createElement('div');\n",
              "          docLink.innerHTML = docLinkHtml;\n",
              "          element.appendChild(docLink);\n",
              "        }\n",
              "      </script>\n",
              "    </div>\n",
              "  </div>\n",
              "  "
            ]
          },
          "metadata": {},
          "execution_count": 50
        }
      ]
    },
    {
      "cell_type": "markdown",
      "source": [
        "### Katz Centrality\n",
        "https://en.wikipedia.org/wiki/Katz_centrality\n",
        "\n",
        "https://www.geeksforgeeks.org/katz-centrality-centrality-measure/"
      ],
      "metadata": {
        "id": "IwfOkg7j3Jyn"
      }
    },
    {
      "cell_type": "code",
      "source": [
        "katz = nx.katz.katz_centrality(train_graph,alpha=0.005,beta=1)"
      ],
      "metadata": {
        "id": "wmC-7xk0zRoh"
      },
      "execution_count": 51,
      "outputs": []
    },
    {
      "cell_type": "code",
      "source": [
        "pickle.dump(katz, open(parent_folder + '/Features/katz.p', 'wb'))"
      ],
      "metadata": {
        "id": "sMEU64h_4C-d"
      },
      "execution_count": 52,
      "outputs": []
    },
    {
      "cell_type": "code",
      "source": [
        "mean_katz = float(sum(katz.values())) / len(katz)"
      ],
      "metadata": {
        "id": "uF0yWEGUtynV"
      },
      "execution_count": 55,
      "outputs": []
    },
    {
      "cell_type": "code",
      "source": [
        "print('min',katz[min(katz, key=katz.get)])\n",
        "print('max',katz[max(katz, key=katz.get)])\n",
        "print('mean',mean_katz)"
      ],
      "metadata": {
        "colab": {
          "base_uri": "https://localhost:8080/"
        },
        "id": "MLiAnqcw4oZv",
        "outputId": "e847751a-3cfb-4bdf-a1a8-33848d88f2a7"
      },
      "execution_count": 56,
      "outputs": [
        {
          "output_type": "stream",
          "name": "stdout",
          "text": [
            "min 0.0007313532484065916\n",
            "max 0.003394554981699122\n",
            "mean 0.0007483800935562018\n"
          ]
        }
      ]
    },
    {
      "cell_type": "code",
      "source": [
        "# for missing katz, imputing mean_katz\n",
        "\n",
        "# katz for source in train\n",
        "df_final_train['katz_s'] = df_final_train.source_node.apply(lambda node : katz.get(node, mean_katz))\n",
        "\n",
        "# katz for destination in train\n",
        "df_final_train['katz_d'] = df_final_train.destination_node.apply(lambda node : katz.get(node, mean_katz))\n",
        "\n",
        "# katz for source in test\n",
        "df_final_test['katz_s'] = df_final_test.source_node.apply(lambda node : katz.get(node, mean_katz))\n",
        "\n",
        "# katz for destination in test\n",
        "df_final_test['katz_d'] = df_final_test.destination_node.apply(lambda node : katz.get(node, mean_katz))"
      ],
      "metadata": {
        "id": "uxztwSqjtvTl"
      },
      "execution_count": 57,
      "outputs": []
    },
    {
      "cell_type": "code",
      "source": [
        "df_final_train.head(5)"
      ],
      "metadata": {
        "colab": {
          "base_uri": "https://localhost:8080/",
          "height": 386
        },
        "id": "HwKot2dfwOwk",
        "outputId": "2a3d2f5a-b331-4bd5-ea0c-6510b39b3833"
      },
      "execution_count": 59,
      "outputs": [
        {
          "output_type": "execute_result",
          "data": {
            "text/plain": [
              "   source_node  destination_node  indicator_link  num_followers_s  \\\n",
              "0       273084           1505602               1               11   \n",
              "1      1593259            673140               1                8   \n",
              "2       355711           1610892               1                9   \n",
              "3        80115           1473881               1                3   \n",
              "4       336918            226190               1               14   \n",
              "\n",
              "   num_followers_d  num_following_s  num_following_d  inter_followers  \\\n",
              "0               15                6                8                0   \n",
              "1                3               19                8                0   \n",
              "2               18                2                1                1   \n",
              "3               55               83               99                1   \n",
              "4               16                7                5                0   \n",
              "\n",
              "   inter_following  does_follow_back  ...  same_wcc_com  adar_index  \\\n",
              "0                0                 0  ...             1     0.00000   \n",
              "1                0                 0  ...             1     0.00000   \n",
              "2                0                 1  ...             1     0.00000   \n",
              "3               12                 0  ...             1     6.12441   \n",
              "4                0                 1  ...             1     0.00000   \n",
              "\n",
              "   jaccard_followers  jaccard_following  cosine_followers  cosine_following  \\\n",
              "0           0.000000           0.000000          0.000000          0.000000   \n",
              "1           0.000000           0.000000          0.000000          0.000000   \n",
              "2           0.100000           0.000000          0.235702          0.000000   \n",
              "3           0.011765           0.084507          0.063372          0.162623   \n",
              "4           0.000000           0.000000          0.000000          0.000000   \n",
              "\n",
              "    page_rank_s   page_rank_d    katz_s    katz_d  \n",
              "0  2.045290e-06  3.459963e-07  0.000773  0.000756  \n",
              "1  1.373377e-06  1.886069e-06  0.000762  0.000806  \n",
              "2  1.394824e-06  2.875504e-07  0.000766  0.000739  \n",
              "3  1.827472e-07  8.809712e-07  0.000745  0.001098  \n",
              "4  1.198466e-06  5.000005e-07  0.000785  0.000758  \n",
              "\n",
              "[5 rows x 21 columns]"
            ],
            "text/html": [
              "\n",
              "  <div id=\"df-cad9ca57-adcb-4b7a-8fbe-69c28e7275c1\">\n",
              "    <div class=\"colab-df-container\">\n",
              "      <div>\n",
              "<style scoped>\n",
              "    .dataframe tbody tr th:only-of-type {\n",
              "        vertical-align: middle;\n",
              "    }\n",
              "\n",
              "    .dataframe tbody tr th {\n",
              "        vertical-align: top;\n",
              "    }\n",
              "\n",
              "    .dataframe thead th {\n",
              "        text-align: right;\n",
              "    }\n",
              "</style>\n",
              "<table border=\"1\" class=\"dataframe\">\n",
              "  <thead>\n",
              "    <tr style=\"text-align: right;\">\n",
              "      <th></th>\n",
              "      <th>source_node</th>\n",
              "      <th>destination_node</th>\n",
              "      <th>indicator_link</th>\n",
              "      <th>num_followers_s</th>\n",
              "      <th>num_followers_d</th>\n",
              "      <th>num_following_s</th>\n",
              "      <th>num_following_d</th>\n",
              "      <th>inter_followers</th>\n",
              "      <th>inter_following</th>\n",
              "      <th>does_follow_back</th>\n",
              "      <th>...</th>\n",
              "      <th>same_wcc_com</th>\n",
              "      <th>adar_index</th>\n",
              "      <th>jaccard_followers</th>\n",
              "      <th>jaccard_following</th>\n",
              "      <th>cosine_followers</th>\n",
              "      <th>cosine_following</th>\n",
              "      <th>page_rank_s</th>\n",
              "      <th>page_rank_d</th>\n",
              "      <th>katz_s</th>\n",
              "      <th>katz_d</th>\n",
              "    </tr>\n",
              "  </thead>\n",
              "  <tbody>\n",
              "    <tr>\n",
              "      <th>0</th>\n",
              "      <td>273084</td>\n",
              "      <td>1505602</td>\n",
              "      <td>1</td>\n",
              "      <td>11</td>\n",
              "      <td>15</td>\n",
              "      <td>6</td>\n",
              "      <td>8</td>\n",
              "      <td>0</td>\n",
              "      <td>0</td>\n",
              "      <td>0</td>\n",
              "      <td>...</td>\n",
              "      <td>1</td>\n",
              "      <td>0.00000</td>\n",
              "      <td>0.000000</td>\n",
              "      <td>0.000000</td>\n",
              "      <td>0.000000</td>\n",
              "      <td>0.000000</td>\n",
              "      <td>2.045290e-06</td>\n",
              "      <td>3.459963e-07</td>\n",
              "      <td>0.000773</td>\n",
              "      <td>0.000756</td>\n",
              "    </tr>\n",
              "    <tr>\n",
              "      <th>1</th>\n",
              "      <td>1593259</td>\n",
              "      <td>673140</td>\n",
              "      <td>1</td>\n",
              "      <td>8</td>\n",
              "      <td>3</td>\n",
              "      <td>19</td>\n",
              "      <td>8</td>\n",
              "      <td>0</td>\n",
              "      <td>0</td>\n",
              "      <td>0</td>\n",
              "      <td>...</td>\n",
              "      <td>1</td>\n",
              "      <td>0.00000</td>\n",
              "      <td>0.000000</td>\n",
              "      <td>0.000000</td>\n",
              "      <td>0.000000</td>\n",
              "      <td>0.000000</td>\n",
              "      <td>1.373377e-06</td>\n",
              "      <td>1.886069e-06</td>\n",
              "      <td>0.000762</td>\n",
              "      <td>0.000806</td>\n",
              "    </tr>\n",
              "    <tr>\n",
              "      <th>2</th>\n",
              "      <td>355711</td>\n",
              "      <td>1610892</td>\n",
              "      <td>1</td>\n",
              "      <td>9</td>\n",
              "      <td>18</td>\n",
              "      <td>2</td>\n",
              "      <td>1</td>\n",
              "      <td>1</td>\n",
              "      <td>0</td>\n",
              "      <td>1</td>\n",
              "      <td>...</td>\n",
              "      <td>1</td>\n",
              "      <td>0.00000</td>\n",
              "      <td>0.100000</td>\n",
              "      <td>0.000000</td>\n",
              "      <td>0.235702</td>\n",
              "      <td>0.000000</td>\n",
              "      <td>1.394824e-06</td>\n",
              "      <td>2.875504e-07</td>\n",
              "      <td>0.000766</td>\n",
              "      <td>0.000739</td>\n",
              "    </tr>\n",
              "    <tr>\n",
              "      <th>3</th>\n",
              "      <td>80115</td>\n",
              "      <td>1473881</td>\n",
              "      <td>1</td>\n",
              "      <td>3</td>\n",
              "      <td>55</td>\n",
              "      <td>83</td>\n",
              "      <td>99</td>\n",
              "      <td>1</td>\n",
              "      <td>12</td>\n",
              "      <td>0</td>\n",
              "      <td>...</td>\n",
              "      <td>1</td>\n",
              "      <td>6.12441</td>\n",
              "      <td>0.011765</td>\n",
              "      <td>0.084507</td>\n",
              "      <td>0.063372</td>\n",
              "      <td>0.162623</td>\n",
              "      <td>1.827472e-07</td>\n",
              "      <td>8.809712e-07</td>\n",
              "      <td>0.000745</td>\n",
              "      <td>0.001098</td>\n",
              "    </tr>\n",
              "    <tr>\n",
              "      <th>4</th>\n",
              "      <td>336918</td>\n",
              "      <td>226190</td>\n",
              "      <td>1</td>\n",
              "      <td>14</td>\n",
              "      <td>16</td>\n",
              "      <td>7</td>\n",
              "      <td>5</td>\n",
              "      <td>0</td>\n",
              "      <td>0</td>\n",
              "      <td>1</td>\n",
              "      <td>...</td>\n",
              "      <td>1</td>\n",
              "      <td>0.00000</td>\n",
              "      <td>0.000000</td>\n",
              "      <td>0.000000</td>\n",
              "      <td>0.000000</td>\n",
              "      <td>0.000000</td>\n",
              "      <td>1.198466e-06</td>\n",
              "      <td>5.000005e-07</td>\n",
              "      <td>0.000785</td>\n",
              "      <td>0.000758</td>\n",
              "    </tr>\n",
              "  </tbody>\n",
              "</table>\n",
              "<p>5 rows × 21 columns</p>\n",
              "</div>\n",
              "      <button class=\"colab-df-convert\" onclick=\"convertToInteractive('df-cad9ca57-adcb-4b7a-8fbe-69c28e7275c1')\"\n",
              "              title=\"Convert this dataframe to an interactive table.\"\n",
              "              style=\"display:none;\">\n",
              "        \n",
              "  <svg xmlns=\"http://www.w3.org/2000/svg\" height=\"24px\"viewBox=\"0 0 24 24\"\n",
              "       width=\"24px\">\n",
              "    <path d=\"M0 0h24v24H0V0z\" fill=\"none\"/>\n",
              "    <path d=\"M18.56 5.44l.94 2.06.94-2.06 2.06-.94-2.06-.94-.94-2.06-.94 2.06-2.06.94zm-11 1L8.5 8.5l.94-2.06 2.06-.94-2.06-.94L8.5 2.5l-.94 2.06-2.06.94zm10 10l.94 2.06.94-2.06 2.06-.94-2.06-.94-.94-2.06-.94 2.06-2.06.94z\"/><path d=\"M17.41 7.96l-1.37-1.37c-.4-.4-.92-.59-1.43-.59-.52 0-1.04.2-1.43.59L10.3 9.45l-7.72 7.72c-.78.78-.78 2.05 0 2.83L4 21.41c.39.39.9.59 1.41.59.51 0 1.02-.2 1.41-.59l7.78-7.78 2.81-2.81c.8-.78.8-2.07 0-2.86zM5.41 20L4 18.59l7.72-7.72 1.47 1.35L5.41 20z\"/>\n",
              "  </svg>\n",
              "      </button>\n",
              "      \n",
              "  <style>\n",
              "    .colab-df-container {\n",
              "      display:flex;\n",
              "      flex-wrap:wrap;\n",
              "      gap: 12px;\n",
              "    }\n",
              "\n",
              "    .colab-df-convert {\n",
              "      background-color: #E8F0FE;\n",
              "      border: none;\n",
              "      border-radius: 50%;\n",
              "      cursor: pointer;\n",
              "      display: none;\n",
              "      fill: #1967D2;\n",
              "      height: 32px;\n",
              "      padding: 0 0 0 0;\n",
              "      width: 32px;\n",
              "    }\n",
              "\n",
              "    .colab-df-convert:hover {\n",
              "      background-color: #E2EBFA;\n",
              "      box-shadow: 0px 1px 2px rgba(60, 64, 67, 0.3), 0px 1px 3px 1px rgba(60, 64, 67, 0.15);\n",
              "      fill: #174EA6;\n",
              "    }\n",
              "\n",
              "    [theme=dark] .colab-df-convert {\n",
              "      background-color: #3B4455;\n",
              "      fill: #D2E3FC;\n",
              "    }\n",
              "\n",
              "    [theme=dark] .colab-df-convert:hover {\n",
              "      background-color: #434B5C;\n",
              "      box-shadow: 0px 1px 3px 1px rgba(0, 0, 0, 0.15);\n",
              "      filter: drop-shadow(0px 1px 2px rgba(0, 0, 0, 0.3));\n",
              "      fill: #FFFFFF;\n",
              "    }\n",
              "  </style>\n",
              "\n",
              "      <script>\n",
              "        const buttonEl =\n",
              "          document.querySelector('#df-cad9ca57-adcb-4b7a-8fbe-69c28e7275c1 button.colab-df-convert');\n",
              "        buttonEl.style.display =\n",
              "          google.colab.kernel.accessAllowed ? 'block' : 'none';\n",
              "\n",
              "        async function convertToInteractive(key) {\n",
              "          const element = document.querySelector('#df-cad9ca57-adcb-4b7a-8fbe-69c28e7275c1');\n",
              "          const dataTable =\n",
              "            await google.colab.kernel.invokeFunction('convertToInteractive',\n",
              "                                                     [key], {});\n",
              "          if (!dataTable) return;\n",
              "\n",
              "          const docLinkHtml = 'Like what you see? Visit the ' +\n",
              "            '<a target=\"_blank\" href=https://colab.research.google.com/notebooks/data_table.ipynb>data table notebook</a>'\n",
              "            + ' to learn more about interactive tables.';\n",
              "          element.innerHTML = '';\n",
              "          dataTable['output_type'] = 'display_data';\n",
              "          await google.colab.output.renderOutput(dataTable, element);\n",
              "          const docLink = document.createElement('div');\n",
              "          docLink.innerHTML = docLinkHtml;\n",
              "          element.appendChild(docLink);\n",
              "        }\n",
              "      </script>\n",
              "    </div>\n",
              "  </div>\n",
              "  "
            ]
          },
          "metadata": {},
          "execution_count": 59
        }
      ]
    },
    {
      "cell_type": "markdown",
      "source": [
        "### Features added\n",
        "\n",
        "*   jaccard_followers : Jaccard index between source and destination for followers\n",
        "*   jaccard_following : Jaccard index between source and destination for following\n",
        "*   cosine_followers : Cosine distance between source and destination for followers\n",
        "*   cosine_following : Cosine distance between source and destination for following\n",
        "*   page_rank_s : Page rank for source node\n",
        "*   page_rank_d : Page rank for destination node\n",
        "*   katz_s : Katz centrality for source node\n",
        "*   katz_d : Katz centrality for destination node\n"
      ],
      "metadata": {
        "id": "hOnKazlbke7g"
      }
    },
    {
      "cell_type": "markdown",
      "source": [
        "### Save results"
      ],
      "metadata": {
        "id": "5C6jCUHxeDv3"
      }
    },
    {
      "cell_type": "code",
      "source": [
        "hdf = pd.HDFStore(parent_folder + '/Features/sample_with_features_3.h5')\n",
        "hdf.put('train_df',df_final_train, format='table', data_columns=True)\n",
        "hdf.put('test_df',df_final_test, format='table', data_columns=True)\n",
        "hdf.close()"
      ],
      "metadata": {
        "id": "_gBamSACW6i3"
      },
      "execution_count": 60,
      "outputs": []
    },
    {
      "cell_type": "code",
      "source": [
        ""
      ],
      "metadata": {
        "id": "J2OPI_4wxBKc"
      },
      "execution_count": null,
      "outputs": []
    }
  ]
}