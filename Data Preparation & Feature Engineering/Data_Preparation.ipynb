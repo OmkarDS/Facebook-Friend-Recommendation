{
  "nbformat": 4,
  "nbformat_minor": 0,
  "metadata": {
    "colab": {
      "name": "Data Preparation.ipynb",
      "provenance": [],
      "collapsed_sections": []
    },
    "kernelspec": {
      "name": "python3",
      "display_name": "Python 3"
    },
    "language_info": {
      "name": "python"
    }
  },
  "cells": [
    {
      "cell_type": "code",
      "execution_count": 1,
      "metadata": {
        "id": "Gij-4sMD9psL"
      },
      "outputs": [],
      "source": [
        "# This notebook was built on Google colab and uses data form google drive\n",
        "# Also the notebook was built using multiple sessions saving the intermediate outputs to avoid overshooting the RAM"
      ]
    },
    {
      "cell_type": "code",
      "source": [
        "import numpy as np\n",
        "import pandas as pd\n",
        "import matplotlib.pyplot as plt\n",
        "\n",
        "import networkx as nx\n",
        "import csv\n",
        "import random\n",
        "import pickle"
      ],
      "metadata": {
        "id": "_meS5n9BA-Pj"
      },
      "execution_count": 2,
      "outputs": []
    },
    {
      "cell_type": "markdown",
      "source": [
        "### Generating data for class 0"
      ],
      "metadata": {
        "id": "6iH-p1Ra-uar"
      }
    },
    {
      "cell_type": "markdown",
      "source": [
        "class 1: edge exists<br>\n",
        "class 0 : edge does not exist<br>\n",
        "We have 1862220 nodes and 9437519 edges. i.e. 9437519 data points with class 1<br><br>\n",
        "\n",
        "We need to generate data points where the edge does not exist<br>\n",
        "Total possible 1 to 1 edges are 1862220 * 1862219 = 3467861466180\n",
        "<br>\n",
        "We have a lot of possible 1 to 1 edges missing<br><br>\n",
        "\n",
        "Let's take a sample of those missing edges which will serve as class 0<br>\n"
      ],
      "metadata": {
        "id": "zyPuityz-0Tv"
      }
    },
    {
      "cell_type": "code",
      "source": [
        "dg = nx.DiGraph()\n",
        "dg.add_edge(1, 2)\n",
        "dg.add_edge(1, 3)\n",
        "dg.add_edge(2, 3)\n",
        "dg.add_edge(3, 4)\n",
        "dg.add_edge(2, 5)\n",
        "dg.add_edge(2, 4)\n",
        "dg.add_edge(4, 6)\n",
        "\n",
        "pos=nx.spring_layout(dg)\n",
        "# pos=graphviz_layout(dg)\n",
        "nx.draw(dg,pos,node_color='#A0CBE2',edge_color='#00bb5e',width=1,edge_cmap=plt.cm.Blues,with_labels=True)"
      ],
      "metadata": {
        "colab": {
          "base_uri": "https://localhost:8080/",
          "height": 319
        },
        "id": "A8UgxoHu-pjR",
        "outputId": "13f97435-0306-4122-e9ef-cf5826b2fd15"
      },
      "execution_count": 5,
      "outputs": [
        {
          "output_type": "display_data",
          "data": {
            "text/plain": [
              "<Figure size 432x288 with 1 Axes>"
            ],
            "image/png": "[encoded data removed]"
          },
          "metadata": {}
        }
      ]
    },
    {
      "cell_type": "markdown",
      "source": [
        "In above graph,<br>\n",
        "1 follows 2 & 3<br>\n",
        "2 & 3 follow 4<br>\n",
        "1 does not directly follow 4. However there's very high chance that 1 will follow 4 as the shortest path between 1 and 4 is 2.<br><br>\n",
        "\n",
        "Therefore, we will only sample those points for class 0 where shortest path >2<br>\n",
        "For e.g. We will have (1,6) as a data point for class 0"
      ],
      "metadata": {
        "id": "apWRVcfEC3kC"
      }
    },
    {
      "cell_type": "code",
      "source": [
        "parent_folder = \"/content/drive/MyDrive/AAIC/Projects/Facebook Friend Recommendation /data\"\n",
        "without_header_filepath = parent_folder + \"/train_without_header.csv\""
      ],
      "metadata": {
        "id": "EqDFQXnCB7FR"
      },
      "execution_count": 6,
      "outputs": []
    },
    {
      "cell_type": "code",
      "source": [
        "g = nx.read_edgelist(without_header_filepath, delimiter=',', create_using=nx.DiGraph(), nodetype=int)"
      ],
      "metadata": {
        "id": "u5EnTNc5GtWR"
      },
      "execution_count": 7,
      "outputs": []
    },
    {
      "cell_type": "code",
      "source": [
        "f = csv.reader(open(without_header_filepath, 'r'))\n",
        "\n",
        "edges = dict()\n",
        "\n",
        "for edge in f:\n",
        "    edges[(edge[0], edge[1])] = 1"
      ],
      "metadata": {
        "id": "Yx0gPOs9EqZy"
      },
      "execution_count": 8,
      "outputs": []
    },
    {
      "cell_type": "code",
      "source": [
        "missing_edges = set()\n",
        "\n",
        "while len(missing_edges)<100:\n",
        "    user1 = random.randint(1, 1862220)\n",
        "    user2 = random.randint(1, 1862220)\n",
        "    path_exists = edges.get((user1, user2), 0)\n",
        "\n",
        "    if (path_exists==0) and (user1 != user2):\n",
        "        #checking if edge exists and shortest path length > 2\n",
        "        try:\n",
        "            if nx.shortest_path_length(G=g, source=user1, target=user2)>2:\n",
        "                missing_edges.add((user1, user2))\n",
        "            else:\n",
        "                continue\n",
        "        #if path doesn't exist\n",
        "        except:\n",
        "            missing_edges.add((user1, user2))\n",
        "    else:\n",
        "        continue\n",
        "\n",
        "\n",
        "pickle.dump(missing_edges,open(parent_folder+'/missing_edges.p','wb'))"
      ],
      "metadata": {
        "id": "eYOit0MAFH7g"
      },
      "execution_count": 9,
      "outputs": []
    },
    {
      "cell_type": "code",
      "source": [
        "path = parent_folder+'/missing_edges.p'\n",
        "missing_edges = pickle.load(open(path,'rb'))"
      ],
      "metadata": {
        "id": "0o0VyHvsMDN2"
      },
      "execution_count": 10,
      "outputs": []
    },
    {
      "cell_type": "code",
      "source": [
        "len(missing_edges)"
      ],
      "metadata": {
        "colab": {
          "base_uri": "https://localhost:8080/"
        },
        "id": "PjaawG6Swqcb",
        "outputId": "fc953aba-b979-42d0-b96c-15f7cb8c10d5"
      },
      "execution_count": 11,
      "outputs": [
        {
          "output_type": "execute_result",
          "data": {
            "text/plain": [
              "9437519"
            ]
          },
          "metadata": {},
          "execution_count": 11
        }
      ]
    },
    {
      "cell_type": "markdown",
      "source": [
        "### Train Test Split"
      ],
      "metadata": {
        "id": "PkLH8kZ68O8Y"
      }
    },
    {
      "cell_type": "code",
      "source": [
        "import numpy as np\n",
        "import pandas as pd\n",
        "from sklearn.model_selection import train_test_split\n",
        "import pickle\n",
        "import networkx as nx"
      ],
      "metadata": {
        "id": "xGrgoHys1YsB"
      },
      "execution_count": 1,
      "outputs": []
    },
    {
      "cell_type": "code",
      "source": [
        "parent_folder = \"/content/drive/MyDrive/AAIC/Projects/Facebook Friend Recommendation /data\"\n",
        "train_csv = parent_folder + \"/train.csv\"\n",
        "missing_edges_pickle = parent_folder+'/missing_edges.p'\n",
        "missing_edges = pickle.load(open(missing_edges_pickle,'rb'))"
      ],
      "metadata": {
        "id": "Ad6IuZmF9IL8"
      },
      "execution_count": 2,
      "outputs": []
    },
    {
      "cell_type": "code",
      "source": [
        "df_pos = pd.read_csv(train_csv)\n",
        "df_neg = pd.DataFrame(list(missing_edges), columns=['source_node', 'destination_node'])"
      ],
      "metadata": {
        "id": "unRIRGywQrqO"
      },
      "execution_count": 3,
      "outputs": []
    },
    {
      "cell_type": "code",
      "source": [
        "df_pos.head()"
      ],
      "metadata": {
        "colab": {
          "base_uri": "https://localhost:8080/",
          "height": 206
        },
        "id": "wEDyBO__Q3NB",
        "outputId": "eee45a3a-6f93-45f8-f13d-289b1a7f362e"
      },
      "execution_count": 4,
      "outputs": [
        {
          "output_type": "execute_result",
          "data": {
            "text/plain": [
              "   source_node  destination_node\n",
              "0            1            690569\n",
              "1            1            315892\n",
              "2            1            189226\n",
              "3            2            834328\n",
              "4            2           1615927"
            ],
            "text/html": [
              "\n",
              "  <div id=\"df-b74733da-bbad-447d-8098-9ec1842fc3c3\">\n",
              "    <div class=\"colab-df-container\">\n",
              "      <div>\n",
              "<style scoped>\n",
              "    .dataframe tbody tr th:only-of-type {\n",
              "        vertical-align: middle;\n",
              "    }\n",
              "\n",
              "    .dataframe tbody tr th {\n",
              "        vertical-align: top;\n",
              "    }\n",
              "\n",
              "    .dataframe thead th {\n",
              "        text-align: right;\n",
              "    }\n",
              "</style>\n",
              "<table border=\"1\" class=\"dataframe\">\n",
              "  <thead>\n",
              "    <tr style=\"text-align: right;\">\n",
              "      <th></th>\n",
              "      <th>source_node</th>\n",
              "      <th>destination_node</th>\n",
              "    </tr>\n",
              "  </thead>\n",
              "  <tbody>\n",
              "    <tr>\n",
              "      <th>0</th>\n",
              "      <td>1</td>\n",
              "      <td>690569</td>\n",
              "    </tr>\n",
              "    <tr>\n",
              "      <th>1</th>\n",
              "      <td>1</td>\n",
              "      <td>315892</td>\n",
              "    </tr>\n",
              "    <tr>\n",
              "      <th>2</th>\n",
              "      <td>1</td>\n",
              "      <td>189226</td>\n",
              "    </tr>\n",
              "    <tr>\n",
              "      <th>3</th>\n",
              "      <td>2</td>\n",
              "      <td>834328</td>\n",
              "    </tr>\n",
              "    <tr>\n",
              "      <th>4</th>\n",
              "      <td>2</td>\n",
              "      <td>1615927</td>\n",
              "    </tr>\n",
              "  </tbody>\n",
              "</table>\n",
              "</div>\n",
              "      <button class=\"colab-df-convert\" onclick=\"convertToInteractive('df-b74733da-bbad-447d-8098-9ec1842fc3c3')\"\n",
              "              title=\"Convert this dataframe to an interactive table.\"\n",
              "              style=\"display:none;\">\n",
              "        \n",
              "  <svg xmlns=\"http://www.w3.org/2000/svg\" height=\"24px\"viewBox=\"0 0 24 24\"\n",
              "       width=\"24px\">\n",
              "    <path d=\"M0 0h24v24H0V0z\" fill=\"none\"/>\n",
              "    <path d=\"M18.56 5.44l.94 2.06.94-2.06 2.06-.94-2.06-.94-.94-2.06-.94 2.06-2.06.94zm-11 1L8.5 8.5l.94-2.06 2.06-.94-2.06-.94L8.5 2.5l-.94 2.06-2.06.94zm10 10l.94 2.06.94-2.06 2.06-.94-2.06-.94-.94-2.06-.94 2.06-2.06.94z\"/><path d=\"M17.41 7.96l-1.37-1.37c-.4-.4-.92-.59-1.43-.59-.52 0-1.04.2-1.43.59L10.3 9.45l-7.72 7.72c-.78.78-.78 2.05 0 2.83L4 21.41c.39.39.9.59 1.41.59.51 0 1.02-.2 1.41-.59l7.78-7.78 2.81-2.81c.8-.78.8-2.07 0-2.86zM5.41 20L4 18.59l7.72-7.72 1.47 1.35L5.41 20z\"/>\n",
              "  </svg>\n",
              "      </button>\n",
              "      \n",
              "  <style>\n",
              "    .colab-df-container {\n",
              "      display:flex;\n",
              "      flex-wrap:wrap;\n",
              "      gap: 12px;\n",
              "    }\n",
              "\n",
              "    .colab-df-convert {\n",
              "      background-color: #E8F0FE;\n",
              "      border: none;\n",
              "      border-radius: 50%;\n",
              "      cursor: pointer;\n",
              "      display: none;\n",
              "      fill: #1967D2;\n",
              "      height: 32px;\n",
              "      padding: 0 0 0 0;\n",
              "      width: 32px;\n",
              "    }\n",
              "\n",
              "    .colab-df-convert:hover {\n",
              "      background-color: #E2EBFA;\n",
              "      box-shadow: 0px 1px 2px rgba(60, 64, 67, 0.3), 0px 1px 3px 1px rgba(60, 64, 67, 0.15);\n",
              "      fill: #174EA6;\n",
              "    }\n",
              "\n",
              "    [theme=dark] .colab-df-convert {\n",
              "      background-color: #3B4455;\n",
              "      fill: #D2E3FC;\n",
              "    }\n",
              "\n",
              "    [theme=dark] .colab-df-convert:hover {\n",
              "      background-color: #434B5C;\n",
              "      box-shadow: 0px 1px 3px 1px rgba(0, 0, 0, 0.15);\n",
              "      filter: drop-shadow(0px 1px 2px rgba(0, 0, 0, 0.3));\n",
              "      fill: #FFFFFF;\n",
              "    }\n",
              "  </style>\n",
              "\n",
              "      <script>\n",
              "        const buttonEl =\n",
              "          document.querySelector('#df-b74733da-bbad-447d-8098-9ec1842fc3c3 button.colab-df-convert');\n",
              "        buttonEl.style.display =\n",
              "          google.colab.kernel.accessAllowed ? 'block' : 'none';\n",
              "\n",
              "        async function convertToInteractive(key) {\n",
              "          const element = document.querySelector('#df-b74733da-bbad-447d-8098-9ec1842fc3c3');\n",
              "          const dataTable =\n",
              "            await google.colab.kernel.invokeFunction('convertToInteractive',\n",
              "                                                     [key], {});\n",
              "          if (!dataTable) return;\n",
              "\n",
              "          const docLinkHtml = 'Like what you see? Visit the ' +\n",
              "            '<a target=\"_blank\" href=https://colab.research.google.com/notebooks/data_table.ipynb>data table notebook</a>'\n",
              "            + ' to learn more about interactive tables.';\n",
              "          element.innerHTML = '';\n",
              "          dataTable['output_type'] = 'display_data';\n",
              "          await google.colab.output.renderOutput(dataTable, element);\n",
              "          const docLink = document.createElement('div');\n",
              "          docLink.innerHTML = docLinkHtml;\n",
              "          element.appendChild(docLink);\n",
              "        }\n",
              "      </script>\n",
              "    </div>\n",
              "  </div>\n",
              "  "
            ]
          },
          "metadata": {},
          "execution_count": 4
        }
      ]
    },
    {
      "cell_type": "code",
      "source": [
        "df_neg.head()"
      ],
      "metadata": {
        "colab": {
          "base_uri": "https://localhost:8080/",
          "height": 206
        },
        "id": "rlIymyLsQ6UG",
        "outputId": "ac89ec04-a584-4368-c993-0ea6977bd3ed"
      },
      "execution_count": 5,
      "outputs": [
        {
          "output_type": "execute_result",
          "data": {
            "text/plain": [
              "   source_node  destination_node\n",
              "0       601436           1322692\n",
              "1       891928            411442\n",
              "2       114606           1845732\n",
              "3       669241            486296\n",
              "4       941565            676512"
            ],
            "text/html": [
              "\n",
              "  <div id=\"df-a962038a-bdbc-4b11-9a38-8851aedb4ced\">\n",
              "    <div class=\"colab-df-container\">\n",
              "      <div>\n",
              "<style scoped>\n",
              "    .dataframe tbody tr th:only-of-type {\n",
              "        vertical-align: middle;\n",
              "    }\n",
              "\n",
              "    .dataframe tbody tr th {\n",
              "        vertical-align: top;\n",
              "    }\n",
              "\n",
              "    .dataframe thead th {\n",
              "        text-align: right;\n",
              "    }\n",
              "</style>\n",
              "<table border=\"1\" class=\"dataframe\">\n",
              "  <thead>\n",
              "    <tr style=\"text-align: right;\">\n",
              "      <th></th>\n",
              "      <th>source_node</th>\n",
              "      <th>destination_node</th>\n",
              "    </tr>\n",
              "  </thead>\n",
              "  <tbody>\n",
              "    <tr>\n",
              "      <th>0</th>\n",
              "      <td>601436</td>\n",
              "      <td>1322692</td>\n",
              "    </tr>\n",
              "    <tr>\n",
              "      <th>1</th>\n",
              "      <td>891928</td>\n",
              "      <td>411442</td>\n",
              "    </tr>\n",
              "    <tr>\n",
              "      <th>2</th>\n",
              "      <td>114606</td>\n",
              "      <td>1845732</td>\n",
              "    </tr>\n",
              "    <tr>\n",
              "      <th>3</th>\n",
              "      <td>669241</td>\n",
              "      <td>486296</td>\n",
              "    </tr>\n",
              "    <tr>\n",
              "      <th>4</th>\n",
              "      <td>941565</td>\n",
              "      <td>676512</td>\n",
              "    </tr>\n",
              "  </tbody>\n",
              "</table>\n",
              "</div>\n",
              "      <button class=\"colab-df-convert\" onclick=\"convertToInteractive('df-a962038a-bdbc-4b11-9a38-8851aedb4ced')\"\n",
              "              title=\"Convert this dataframe to an interactive table.\"\n",
              "              style=\"display:none;\">\n",
              "        \n",
              "  <svg xmlns=\"http://www.w3.org/2000/svg\" height=\"24px\"viewBox=\"0 0 24 24\"\n",
              "       width=\"24px\">\n",
              "    <path d=\"M0 0h24v24H0V0z\" fill=\"none\"/>\n",
              "    <path d=\"M18.56 5.44l.94 2.06.94-2.06 2.06-.94-2.06-.94-.94-2.06-.94 2.06-2.06.94zm-11 1L8.5 8.5l.94-2.06 2.06-.94-2.06-.94L8.5 2.5l-.94 2.06-2.06.94zm10 10l.94 2.06.94-2.06 2.06-.94-2.06-.94-.94-2.06-.94 2.06-2.06.94z\"/><path d=\"M17.41 7.96l-1.37-1.37c-.4-.4-.92-.59-1.43-.59-.52 0-1.04.2-1.43.59L10.3 9.45l-7.72 7.72c-.78.78-.78 2.05 0 2.83L4 21.41c.39.39.9.59 1.41.59.51 0 1.02-.2 1.41-.59l7.78-7.78 2.81-2.81c.8-.78.8-2.07 0-2.86zM5.41 20L4 18.59l7.72-7.72 1.47 1.35L5.41 20z\"/>\n",
              "  </svg>\n",
              "      </button>\n",
              "      \n",
              "  <style>\n",
              "    .colab-df-container {\n",
              "      display:flex;\n",
              "      flex-wrap:wrap;\n",
              "      gap: 12px;\n",
              "    }\n",
              "\n",
              "    .colab-df-convert {\n",
              "      background-color: #E8F0FE;\n",
              "      border: none;\n",
              "      border-radius: 50%;\n",
              "      cursor: pointer;\n",
              "      display: none;\n",
              "      fill: #1967D2;\n",
              "      height: 32px;\n",
              "      padding: 0 0 0 0;\n",
              "      width: 32px;\n",
              "    }\n",
              "\n",
              "    .colab-df-convert:hover {\n",
              "      background-color: #E2EBFA;\n",
              "      box-shadow: 0px 1px 2px rgba(60, 64, 67, 0.3), 0px 1px 3px 1px rgba(60, 64, 67, 0.15);\n",
              "      fill: #174EA6;\n",
              "    }\n",
              "\n",
              "    [theme=dark] .colab-df-convert {\n",
              "      background-color: #3B4455;\n",
              "      fill: #D2E3FC;\n",
              "    }\n",
              "\n",
              "    [theme=dark] .colab-df-convert:hover {\n",
              "      background-color: #434B5C;\n",
              "      box-shadow: 0px 1px 3px 1px rgba(0, 0, 0, 0.15);\n",
              "      filter: drop-shadow(0px 1px 2px rgba(0, 0, 0, 0.3));\n",
              "      fill: #FFFFFF;\n",
              "    }\n",
              "  </style>\n",
              "\n",
              "      <script>\n",
              "        const buttonEl =\n",
              "          document.querySelector('#df-a962038a-bdbc-4b11-9a38-8851aedb4ced button.colab-df-convert');\n",
              "        buttonEl.style.display =\n",
              "          google.colab.kernel.accessAllowed ? 'block' : 'none';\n",
              "\n",
              "        async function convertToInteractive(key) {\n",
              "          const element = document.querySelector('#df-a962038a-bdbc-4b11-9a38-8851aedb4ced');\n",
              "          const dataTable =\n",
              "            await google.colab.kernel.invokeFunction('convertToInteractive',\n",
              "                                                     [key], {});\n",
              "          if (!dataTable) return;\n",
              "\n",
              "          const docLinkHtml = 'Like what you see? Visit the ' +\n",
              "            '<a target=\"_blank\" href=https://colab.research.google.com/notebooks/data_table.ipynb>data table notebook</a>'\n",
              "            + ' to learn more about interactive tables.';\n",
              "          element.innerHTML = '';\n",
              "          dataTable['output_type'] = 'display_data';\n",
              "          await google.colab.output.renderOutput(dataTable, element);\n",
              "          const docLink = document.createElement('div');\n",
              "          docLink.innerHTML = docLinkHtml;\n",
              "          element.appendChild(docLink);\n",
              "        }\n",
              "      </script>\n",
              "    </div>\n",
              "  </div>\n",
              "  "
            ]
          },
          "metadata": {},
          "execution_count": 5
        }
      ]
    },
    {
      "cell_type": "code",
      "source": [
        "print(\"Number of nodes in the graph with edges\", df_pos.shape[0])\n",
        "print(\"Number of nodes in the graph without edges\", df_neg.shape[0])"
      ],
      "metadata": {
        "colab": {
          "base_uri": "https://localhost:8080/"
        },
        "id": "Kar9o0aZR35f",
        "outputId": "eaeb012f-8d67-4c51-84b9-053868c708a8"
      },
      "execution_count": 6,
      "outputs": [
        {
          "output_type": "stream",
          "name": "stdout",
          "text": [
            "Number of nodes in the graph with edges 9437519\n",
            "Number of nodes in the graph without edges 9437519\n"
          ]
        }
      ]
    },
    {
      "cell_type": "code",
      "source": [
        "X_train_pos, X_test_pos, y_train_pos, y_test_pos  = train_test_split(df_pos,np.ones(len(df_pos)),test_size=0.2, random_state=9)\n",
        "X_train_neg, X_test_neg, y_train_neg, y_test_neg  = train_test_split(df_neg,np.zeros(len(df_neg)),test_size=0.2, random_state=9)"
      ],
      "metadata": {
        "id": "oFG88rDlSfa5"
      },
      "execution_count": 7,
      "outputs": []
    },
    {
      "cell_type": "code",
      "source": [
        "print(\"Number of nodes in the train data graph with edges\", X_train_pos.shape[0],\"=\",y_train_pos.shape[0])\n",
        "print(\"Number of nodes in the train data graph without edges\", X_train_neg.shape[0],\"=\", y_train_neg.shape[0])\n",
        "print()\n",
        "print(\"Number of nodes in the test data graph with edges\", X_test_pos.shape[0],\"=\",y_test_pos.shape[0])\n",
        "print(\"Number of nodes in the test data graph without edges\", X_test_neg.shape[0],\"=\",y_test_neg.shape[0])"
      ],
      "metadata": {
        "colab": {
          "base_uri": "https://localhost:8080/"
        },
        "id": "7fVAZJbXSsMq",
        "outputId": "2db49075-c280-4f4e-b60f-308342f5f579"
      },
      "execution_count": 8,
      "outputs": [
        {
          "output_type": "stream",
          "name": "stdout",
          "text": [
            "Number of nodes in the train data graph with edges 7550015 = 7550015\n",
            "Number of nodes in the train data graph without edges 7550015 = 7550015\n",
            "\n",
            "Number of nodes in the test data graph with edges 1887504 = 1887504\n",
            "Number of nodes in the test data graph without edges 1887504 = 1887504\n"
          ]
        }
      ]
    },
    {
      "cell_type": "code",
      "source": [
        "X_train_pos.to_csv(parent_folder +'/train_pos.csv',header=False, index=False)\n",
        "X_test_pos.to_csv(parent_folder +'/test_pos.csv',header=False, index=False)\n",
        "X_train_neg.to_csv(parent_folder +'/train_neg.csv',header=False, index=False)\n",
        "X_test_neg.to_csv(parent_folder +'/test_neg.csv',header=False, index=False)"
      ],
      "metadata": {
        "id": "aC1j8M9iTKOy"
      },
      "execution_count": 9,
      "outputs": []
    },
    {
      "cell_type": "markdown",
      "source": [
        "### Find common and unique nodes in train and test graph"
      ],
      "metadata": {
        "id": "0obfHhKvoE2l"
      }
    },
    {
      "cell_type": "code",
      "source": [
        "import numpy as np\n",
        "import pandas as pd\n",
        "import networkx as nx"
      ],
      "metadata": {
        "id": "9TsI9qf9oa7u"
      },
      "execution_count": 81,
      "outputs": []
    },
    {
      "cell_type": "code",
      "source": [
        "parent_folder = \"/content/drive/MyDrive/AAIC/Projects/Facebook Friend Recommendation /data\""
      ],
      "metadata": {
        "id": "ZO42QUt3oZL6"
      },
      "execution_count": 82,
      "outputs": []
    },
    {
      "cell_type": "code",
      "source": [
        "train_graph = nx.read_edgelist(parent_folder +'/train_pos.csv', delimiter=',', create_using=nx.DiGraph(), nodetype=int)\n",
        "test_graph = nx.read_edgelist(parent_folder +'/test_pos.csv', delimiter=',', create_using=nx.DiGraph(), nodetype=int)"
      ],
      "metadata": {
        "id": "LGyldasgn5TH"
      },
      "execution_count": 83,
      "outputs": []
    },
    {
      "cell_type": "code",
      "source": [
        "train_nodes_pos = set(train_graph.nodes())\n",
        "test_nodes_pos = set(test_graph.nodes())"
      ],
      "metadata": {
        "id": "LIFq8BPWoUXm"
      },
      "execution_count": 84,
      "outputs": []
    },
    {
      "cell_type": "code",
      "source": [
        "total_common_nodes = len(train_nodes_pos.intersection(test_nodes_pos))\n",
        "total_nodes_only_in_train = len(train_nodes_pos - test_nodes_pos)\n",
        "total_nodes_only_in_test = len(test_nodes_pos - train_nodes_pos)\n",
        "\n",
        "print(f\"Total common nodes in train and test graph :{total_common_nodes}\")\n",
        "print(f\"Total nodes present in train graph and not in test graph :{total_nodes_only_in_train}\")\n",
        "print(f\"Total nodes present in test graph and not in train graph :{total_nodes_only_in_test}\")\n",
        "print(f\"% of nodes present in test graph and not in train graph {format(total_nodes_only_in_test/len(test_nodes_pos)*100)} %\")"
      ],
      "metadata": {
        "colab": {
          "base_uri": "https://localhost:8080/"
        },
        "id": "-oAY7uOPpMoR",
        "outputId": "40fce7ea-1ef9-47ea-c5fd-f1320b8905a0"
      },
      "execution_count": 85,
      "outputs": [
        {
          "output_type": "stream",
          "name": "stdout",
          "text": [
            "Total common nodes in train and test graph :1063125\n",
            "Total nodes present in train graph and not in test graph :717597\n",
            "Total nodes present in test graph and not in train graph :81498\n",
            "% of nodes present in test graph and not in train graph 7.1200735962845405 %\n"
          ]
        }
      ]
    },
    {
      "cell_type": "markdown",
      "source": [
        "We have a cold start problem<br>\n",
        "i.e. there are ~7% of the users in the test data for whom we do not have any information about their network."
      ],
      "metadata": {
        "id": "M4PAg_oVsD7l"
      }
    },
    {
      "cell_type": "markdown",
      "source": [
        "### Preparing data"
      ],
      "metadata": {
        "id": "YK2krAUqtqch"
      }
    },
    {
      "cell_type": "code",
      "source": [
        "X_train_pos = pd.read_csv(parent_folder +'/train_pos.csv', names=['source_node', 'destination_node'])\n",
        "X_test_pos = pd.read_csv(parent_folder +'/test_pos.csv', names=['source_node', 'destination_node'])\n",
        "X_train_neg = pd.read_csv(parent_folder +'/train_neg.csv', names=['source_node', 'destination_node'])\n",
        "X_test_neg = pd.read_csv(parent_folder +'/test_neg.csv', names=['source_node', 'destination_node'])"
      ],
      "metadata": {
        "id": "_RHtMCKaq3yz"
      },
      "execution_count": 86,
      "outputs": []
    },
    {
      "cell_type": "code",
      "source": [
        "y_train_pos = np.ones(X_train_pos.shape[0])\n",
        "y_train_neg = np.zeros(X_train_neg.shape[0])\n",
        "\n",
        "y_test_pos = np.ones(X_test_pos.shape[0])\n",
        "y_test_neg = np.zeros(X_test_neg.shape[0])"
      ],
      "metadata": {
        "id": "1lqGZZikuhqy"
      },
      "execution_count": 87,
      "outputs": []
    },
    {
      "cell_type": "code",
      "source": [
        "X_train = X_train_pos.append(X_train_neg,ignore_index=True)\n",
        "y_train = np.concatenate((y_train_pos,y_train_neg))\n",
        "X_test = X_test_pos.append(X_test_neg,ignore_index=True)\n",
        "y_test = np.concatenate((y_test_pos,y_test_neg))"
      ],
      "metadata": {
        "id": "KU42CaRwtvH2"
      },
      "execution_count": 88,
      "outputs": []
    },
    {
      "cell_type": "code",
      "source": [
        "print(f\"Train data shape : {X_train.shape}, Labels shape : {y_train.shape}\")\n",
        "print(f\"Test data shape : {X_test.shape}, Labels shape : {y_test.shape}\")"
      ],
      "metadata": {
        "colab": {
          "base_uri": "https://localhost:8080/"
        },
        "id": "9S82giRfuLmy",
        "outputId": "78458fc2-5c05-415e-c0f7-d12b4154fb24"
      },
      "execution_count": 89,
      "outputs": [
        {
          "output_type": "stream",
          "name": "stdout",
          "text": [
            "Train data shape : (15100030, 2), Labels shape : (15100030,)\n",
            "Test data shape : (3775008, 2), Labels shape : (3775008,)\n"
          ]
        }
      ]
    },
    {
      "cell_type": "code",
      "source": [
        "X_train.to_csv(parent_folder + '/train_after_eda.csv',header=False,index=False)\n",
        "X_test.to_csv(parent_folder + '/test_after_eda.csv',header=False,index=False)\n",
        "pd.DataFrame(y_train.astype(int)).to_csv(parent_folder + '/train_y.csv',header=False,index=False)\n",
        "pd.DataFrame(y_test.astype(int)).to_csv(parent_folder + '/test_y.csv',header=False,index=False)"
      ],
      "metadata": {
        "id": "HGW0zVa4vXiY"
      },
      "execution_count": 90,
      "outputs": []
    }
  ]
}