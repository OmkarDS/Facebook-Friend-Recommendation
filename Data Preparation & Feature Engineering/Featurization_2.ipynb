{
  "nbformat": 4,
  "nbformat_minor": 0,
  "metadata": {
    "colab": {
      "name": "Featurization_2.ipynb",
      "provenance": [],
      "collapsed_sections": []
    },
    "kernelspec": {
      "name": "python3",
      "display_name": "Python 3"
    },
    "language_info": {
      "name": "python"
    }
  },
  "cells": [
    {
      "cell_type": "code",
      "execution_count": 1,
      "metadata": {
        "id": "-PkeUTCtsZQp"
      },
      "outputs": [],
      "source": [
        "# This notebook was built on Google colab and uses data form google drive\n",
        "# Also the notebook was built using multiple sessions saving the intermediate outputs to avoid overshooting the RAM"
      ]
    },
    {
      "cell_type": "code",
      "source": [
        "import numpy as np\n",
        "import pandas as pd\n",
        "import matplotlib.pyplot as plt\n",
        "\n",
        "import networkx as nx\n",
        "import math\n",
        "import pickle"
      ],
      "metadata": {
        "id": "PLuz-s670nnc"
      },
      "execution_count": 2,
      "outputs": []
    },
    {
      "cell_type": "markdown",
      "source": [
        "### Load data"
      ],
      "metadata": {
        "id": "S2XaBcfPSnBa"
      }
    },
    {
      "cell_type": "code",
      "source": [
        "parent_folder = \"/content/drive/MyDrive/AAIC/Projects/Facebook Friend Recommendation /data\"\n",
        "train_graph = nx.read_edgelist(parent_folder + '/train_pos.csv', delimiter=',', create_using=nx.DiGraph(), nodetype=int)\n",
        "print(nx.info(train_graph))"
      ],
      "metadata": {
        "colab": {
          "base_uri": "https://localhost:8080/"
        },
        "id": "L8DjXDao8eu5",
        "outputId": "71005e6b-16d2-409b-94fb-1a001e585ae0"
      },
      "execution_count": 4,
      "outputs": [
        {
          "output_type": "stream",
          "name": "stdout",
          "text": [
            "DiGraph with 1780722 nodes and 7550015 edges\n"
          ]
        }
      ]
    },
    {
      "cell_type": "code",
      "source": [
        "df_final_train = pd.read_hdf(parent_folder + '/Features/sample_with_features_1.h5', 'train_df',mode='r')\n",
        "df_final_test = pd.read_hdf(parent_folder + '/Features/sample_with_features_1.h5', 'test_df',mode='r')"
      ],
      "metadata": {
        "id": "e-YT715UaYmz"
      },
      "execution_count": 5,
      "outputs": []
    },
    {
      "cell_type": "code",
      "source": [
        "df_final_train.shape"
      ],
      "metadata": {
        "colab": {
          "base_uri": "https://localhost:8080/"
        },
        "id": "wCPLZHX7bgCb",
        "outputId": "2781dc69-277b-414f-c7b9-f5e3a48f2b49"
      },
      "execution_count": 9,
      "outputs": [
        {
          "output_type": "execute_result",
          "data": {
            "text/plain": [
              "(100001, 9)"
            ]
          },
          "metadata": {},
          "execution_count": 9
        }
      ]
    },
    {
      "cell_type": "code",
      "source": [
        "df_final_train.head()"
      ],
      "metadata": {
        "colab": {
          "base_uri": "https://localhost:8080/",
          "height": 206
        },
        "id": "Rvj7eaNCbiI7",
        "outputId": "dbad207d-0cec-4974-b0ff-12646158cc53"
      },
      "execution_count": 13,
      "outputs": [
        {
          "output_type": "execute_result",
          "data": {
            "text/plain": [
              "   source_node  destination_node  indicator_link  num_followers_s  \\\n",
              "0       273084           1505602               1               11   \n",
              "1      1593259            673140               1                8   \n",
              "2       355711           1610892               1                9   \n",
              "3        80115           1473881               1                3   \n",
              "4       336918            226190               1               14   \n",
              "\n",
              "   num_followers_d  num_following_s  num_following_d  inter_followers  \\\n",
              "0               15                6                8                0   \n",
              "1                3               19                8                0   \n",
              "2               18                2                1                1   \n",
              "3               55               83               99                1   \n",
              "4               16                7                5                0   \n",
              "\n",
              "   inter_following  \n",
              "0                0  \n",
              "1                0  \n",
              "2                0  \n",
              "3               12  \n",
              "4                0  "
            ],
            "text/html": [
              "\n",
              "  <div id=\"df-702e80cc-0e1f-4e87-b768-276fd147c1b6\">\n",
              "    <div class=\"colab-df-container\">\n",
              "      <div>\n",
              "<style scoped>\n",
              "    .dataframe tbody tr th:only-of-type {\n",
              "        vertical-align: middle;\n",
              "    }\n",
              "\n",
              "    .dataframe tbody tr th {\n",
              "        vertical-align: top;\n",
              "    }\n",
              "\n",
              "    .dataframe thead th {\n",
              "        text-align: right;\n",
              "    }\n",
              "</style>\n",
              "<table border=\"1\" class=\"dataframe\">\n",
              "  <thead>\n",
              "    <tr style=\"text-align: right;\">\n",
              "      <th></th>\n",
              "      <th>source_node</th>\n",
              "      <th>destination_node</th>\n",
              "      <th>indicator_link</th>\n",
              "      <th>num_followers_s</th>\n",
              "      <th>num_followers_d</th>\n",
              "      <th>num_following_s</th>\n",
              "      <th>num_following_d</th>\n",
              "      <th>inter_followers</th>\n",
              "      <th>inter_following</th>\n",
              "    </tr>\n",
              "  </thead>\n",
              "  <tbody>\n",
              "    <tr>\n",
              "      <th>0</th>\n",
              "      <td>273084</td>\n",
              "      <td>1505602</td>\n",
              "      <td>1</td>\n",
              "      <td>11</td>\n",
              "      <td>15</td>\n",
              "      <td>6</td>\n",
              "      <td>8</td>\n",
              "      <td>0</td>\n",
              "      <td>0</td>\n",
              "    </tr>\n",
              "    <tr>\n",
              "      <th>1</th>\n",
              "      <td>1593259</td>\n",
              "      <td>673140</td>\n",
              "      <td>1</td>\n",
              "      <td>8</td>\n",
              "      <td>3</td>\n",
              "      <td>19</td>\n",
              "      <td>8</td>\n",
              "      <td>0</td>\n",
              "      <td>0</td>\n",
              "    </tr>\n",
              "    <tr>\n",
              "      <th>2</th>\n",
              "      <td>355711</td>\n",
              "      <td>1610892</td>\n",
              "      <td>1</td>\n",
              "      <td>9</td>\n",
              "      <td>18</td>\n",
              "      <td>2</td>\n",
              "      <td>1</td>\n",
              "      <td>1</td>\n",
              "      <td>0</td>\n",
              "    </tr>\n",
              "    <tr>\n",
              "      <th>3</th>\n",
              "      <td>80115</td>\n",
              "      <td>1473881</td>\n",
              "      <td>1</td>\n",
              "      <td>3</td>\n",
              "      <td>55</td>\n",
              "      <td>83</td>\n",
              "      <td>99</td>\n",
              "      <td>1</td>\n",
              "      <td>12</td>\n",
              "    </tr>\n",
              "    <tr>\n",
              "      <th>4</th>\n",
              "      <td>336918</td>\n",
              "      <td>226190</td>\n",
              "      <td>1</td>\n",
              "      <td>14</td>\n",
              "      <td>16</td>\n",
              "      <td>7</td>\n",
              "      <td>5</td>\n",
              "      <td>0</td>\n",
              "      <td>0</td>\n",
              "    </tr>\n",
              "  </tbody>\n",
              "</table>\n",
              "</div>\n",
              "      <button class=\"colab-df-convert\" onclick=\"convertToInteractive('df-702e80cc-0e1f-4e87-b768-276fd147c1b6')\"\n",
              "              title=\"Convert this dataframe to an interactive table.\"\n",
              "              style=\"display:none;\">\n",
              "        \n",
              "  <svg xmlns=\"http://www.w3.org/2000/svg\" height=\"24px\"viewBox=\"0 0 24 24\"\n",
              "       width=\"24px\">\n",
              "    <path d=\"M0 0h24v24H0V0z\" fill=\"none\"/>\n",
              "    <path d=\"M18.56 5.44l.94 2.06.94-2.06 2.06-.94-2.06-.94-.94-2.06-.94 2.06-2.06.94zm-11 1L8.5 8.5l.94-2.06 2.06-.94-2.06-.94L8.5 2.5l-.94 2.06-2.06.94zm10 10l.94 2.06.94-2.06 2.06-.94-2.06-.94-.94-2.06-.94 2.06-2.06.94z\"/><path d=\"M17.41 7.96l-1.37-1.37c-.4-.4-.92-.59-1.43-.59-.52 0-1.04.2-1.43.59L10.3 9.45l-7.72 7.72c-.78.78-.78 2.05 0 2.83L4 21.41c.39.39.9.59 1.41.59.51 0 1.02-.2 1.41-.59l7.78-7.78 2.81-2.81c.8-.78.8-2.07 0-2.86zM5.41 20L4 18.59l7.72-7.72 1.47 1.35L5.41 20z\"/>\n",
              "  </svg>\n",
              "      </button>\n",
              "      \n",
              "  <style>\n",
              "    .colab-df-container {\n",
              "      display:flex;\n",
              "      flex-wrap:wrap;\n",
              "      gap: 12px;\n",
              "    }\n",
              "\n",
              "    .colab-df-convert {\n",
              "      background-color: #E8F0FE;\n",
              "      border: none;\n",
              "      border-radius: 50%;\n",
              "      cursor: pointer;\n",
              "      display: none;\n",
              "      fill: #1967D2;\n",
              "      height: 32px;\n",
              "      padding: 0 0 0 0;\n",
              "      width: 32px;\n",
              "    }\n",
              "\n",
              "    .colab-df-convert:hover {\n",
              "      background-color: #E2EBFA;\n",
              "      box-shadow: 0px 1px 2px rgba(60, 64, 67, 0.3), 0px 1px 3px 1px rgba(60, 64, 67, 0.15);\n",
              "      fill: #174EA6;\n",
              "    }\n",
              "\n",
              "    [theme=dark] .colab-df-convert {\n",
              "      background-color: #3B4455;\n",
              "      fill: #D2E3FC;\n",
              "    }\n",
              "\n",
              "    [theme=dark] .colab-df-convert:hover {\n",
              "      background-color: #434B5C;\n",
              "      box-shadow: 0px 1px 3px 1px rgba(0, 0, 0, 0.15);\n",
              "      filter: drop-shadow(0px 1px 2px rgba(0, 0, 0, 0.3));\n",
              "      fill: #FFFFFF;\n",
              "    }\n",
              "  </style>\n",
              "\n",
              "      <script>\n",
              "        const buttonEl =\n",
              "          document.querySelector('#df-702e80cc-0e1f-4e87-b768-276fd147c1b6 button.colab-df-convert');\n",
              "        buttonEl.style.display =\n",
              "          google.colab.kernel.accessAllowed ? 'block' : 'none';\n",
              "\n",
              "        async function convertToInteractive(key) {\n",
              "          const element = document.querySelector('#df-702e80cc-0e1f-4e87-b768-276fd147c1b6');\n",
              "          const dataTable =\n",
              "            await google.colab.kernel.invokeFunction('convertToInteractive',\n",
              "                                                     [key], {});\n",
              "          if (!dataTable) return;\n",
              "\n",
              "          const docLinkHtml = 'Like what you see? Visit the ' +\n",
              "            '<a target=\"_blank\" href=https://colab.research.google.com/notebooks/data_table.ipynb>data table notebook</a>'\n",
              "            + ' to learn more about interactive tables.';\n",
              "          element.innerHTML = '';\n",
              "          dataTable['output_type'] = 'display_data';\n",
              "          await google.colab.output.renderOutput(dataTable, element);\n",
              "          const docLink = document.createElement('div');\n",
              "          docLink.innerHTML = docLinkHtml;\n",
              "          element.appendChild(docLink);\n",
              "        }\n",
              "      </script>\n",
              "    </div>\n",
              "  </div>\n",
              "  "
            ]
          },
          "metadata": {},
          "execution_count": 13
        }
      ]
    },
    {
      "cell_type": "code",
      "source": [
        "df_final_test.shape"
      ],
      "metadata": {
        "colab": {
          "base_uri": "https://localhost:8080/"
        },
        "id": "IAfT6fJrQ9iY",
        "outputId": "6eb3e553-0f31-4103-f91e-e53afaae366c"
      },
      "execution_count": 14,
      "outputs": [
        {
          "output_type": "execute_result",
          "data": {
            "text/plain": [
              "(50001, 9)"
            ]
          },
          "metadata": {},
          "execution_count": 14
        }
      ]
    },
    {
      "cell_type": "code",
      "source": [
        "df_final_test.head()"
      ],
      "metadata": {
        "colab": {
          "base_uri": "https://localhost:8080/",
          "height": 206
        },
        "id": "5wQ8rJ39RhIZ",
        "outputId": "6c226be5-2fdb-4603-ff41-f8800f3cc3de"
      },
      "execution_count": 15,
      "outputs": [
        {
          "output_type": "execute_result",
          "data": {
            "text/plain": [
              "   source_node  destination_node  indicator_link  num_followers_s  \\\n",
              "0       848424            784690               1                6   \n",
              "1      1190268            217891               1               34   \n",
              "2      1095925            325140               1                0   \n",
              "3       571364            684722               1                1   \n",
              "4      1851322            840484               1                5   \n",
              "\n",
              "   num_followers_d  num_following_s  num_following_d  inter_followers  \\\n",
              "0                6               14                9                1   \n",
              "1               35               17               21                3   \n",
              "2                2               12               13                0   \n",
              "3                6                7                2                0   \n",
              "4                7                7               13                2   \n",
              "\n",
              "   inter_following  \n",
              "0                0  \n",
              "1                5  \n",
              "2                1  \n",
              "3                0  \n",
              "4                5  "
            ],
            "text/html": [
              "\n",
              "  <div id=\"df-282dc449-27e0-40e0-9ca0-cfd2b9749c01\">\n",
              "    <div class=\"colab-df-container\">\n",
              "      <div>\n",
              "<style scoped>\n",
              "    .dataframe tbody tr th:only-of-type {\n",
              "        vertical-align: middle;\n",
              "    }\n",
              "\n",
              "    .dataframe tbody tr th {\n",
              "        vertical-align: top;\n",
              "    }\n",
              "\n",
              "    .dataframe thead th {\n",
              "        text-align: right;\n",
              "    }\n",
              "</style>\n",
              "<table border=\"1\" class=\"dataframe\">\n",
              "  <thead>\n",
              "    <tr style=\"text-align: right;\">\n",
              "      <th></th>\n",
              "      <th>source_node</th>\n",
              "      <th>destination_node</th>\n",
              "      <th>indicator_link</th>\n",
              "      <th>num_followers_s</th>\n",
              "      <th>num_followers_d</th>\n",
              "      <th>num_following_s</th>\n",
              "      <th>num_following_d</th>\n",
              "      <th>inter_followers</th>\n",
              "      <th>inter_following</th>\n",
              "    </tr>\n",
              "  </thead>\n",
              "  <tbody>\n",
              "    <tr>\n",
              "      <th>0</th>\n",
              "      <td>848424</td>\n",
              "      <td>784690</td>\n",
              "      <td>1</td>\n",
              "      <td>6</td>\n",
              "      <td>6</td>\n",
              "      <td>14</td>\n",
              "      <td>9</td>\n",
              "      <td>1</td>\n",
              "      <td>0</td>\n",
              "    </tr>\n",
              "    <tr>\n",
              "      <th>1</th>\n",
              "      <td>1190268</td>\n",
              "      <td>217891</td>\n",
              "      <td>1</td>\n",
              "      <td>34</td>\n",
              "      <td>35</td>\n",
              "      <td>17</td>\n",
              "      <td>21</td>\n",
              "      <td>3</td>\n",
              "      <td>5</td>\n",
              "    </tr>\n",
              "    <tr>\n",
              "      <th>2</th>\n",
              "      <td>1095925</td>\n",
              "      <td>325140</td>\n",
              "      <td>1</td>\n",
              "      <td>0</td>\n",
              "      <td>2</td>\n",
              "      <td>12</td>\n",
              "      <td>13</td>\n",
              "      <td>0</td>\n",
              "      <td>1</td>\n",
              "    </tr>\n",
              "    <tr>\n",
              "      <th>3</th>\n",
              "      <td>571364</td>\n",
              "      <td>684722</td>\n",
              "      <td>1</td>\n",
              "      <td>1</td>\n",
              "      <td>6</td>\n",
              "      <td>7</td>\n",
              "      <td>2</td>\n",
              "      <td>0</td>\n",
              "      <td>0</td>\n",
              "    </tr>\n",
              "    <tr>\n",
              "      <th>4</th>\n",
              "      <td>1851322</td>\n",
              "      <td>840484</td>\n",
              "      <td>1</td>\n",
              "      <td>5</td>\n",
              "      <td>7</td>\n",
              "      <td>7</td>\n",
              "      <td>13</td>\n",
              "      <td>2</td>\n",
              "      <td>5</td>\n",
              "    </tr>\n",
              "  </tbody>\n",
              "</table>\n",
              "</div>\n",
              "      <button class=\"colab-df-convert\" onclick=\"convertToInteractive('df-282dc449-27e0-40e0-9ca0-cfd2b9749c01')\"\n",
              "              title=\"Convert this dataframe to an interactive table.\"\n",
              "              style=\"display:none;\">\n",
              "        \n",
              "  <svg xmlns=\"http://www.w3.org/2000/svg\" height=\"24px\"viewBox=\"0 0 24 24\"\n",
              "       width=\"24px\">\n",
              "    <path d=\"M0 0h24v24H0V0z\" fill=\"none\"/>\n",
              "    <path d=\"M18.56 5.44l.94 2.06.94-2.06 2.06-.94-2.06-.94-.94-2.06-.94 2.06-2.06.94zm-11 1L8.5 8.5l.94-2.06 2.06-.94-2.06-.94L8.5 2.5l-.94 2.06-2.06.94zm10 10l.94 2.06.94-2.06 2.06-.94-2.06-.94-.94-2.06-.94 2.06-2.06.94z\"/><path d=\"M17.41 7.96l-1.37-1.37c-.4-.4-.92-.59-1.43-.59-.52 0-1.04.2-1.43.59L10.3 9.45l-7.72 7.72c-.78.78-.78 2.05 0 2.83L4 21.41c.39.39.9.59 1.41.59.51 0 1.02-.2 1.41-.59l7.78-7.78 2.81-2.81c.8-.78.8-2.07 0-2.86zM5.41 20L4 18.59l7.72-7.72 1.47 1.35L5.41 20z\"/>\n",
              "  </svg>\n",
              "      </button>\n",
              "      \n",
              "  <style>\n",
              "    .colab-df-container {\n",
              "      display:flex;\n",
              "      flex-wrap:wrap;\n",
              "      gap: 12px;\n",
              "    }\n",
              "\n",
              "    .colab-df-convert {\n",
              "      background-color: #E8F0FE;\n",
              "      border: none;\n",
              "      border-radius: 50%;\n",
              "      cursor: pointer;\n",
              "      display: none;\n",
              "      fill: #1967D2;\n",
              "      height: 32px;\n",
              "      padding: 0 0 0 0;\n",
              "      width: 32px;\n",
              "    }\n",
              "\n",
              "    .colab-df-convert:hover {\n",
              "      background-color: #E2EBFA;\n",
              "      box-shadow: 0px 1px 2px rgba(60, 64, 67, 0.3), 0px 1px 3px 1px rgba(60, 64, 67, 0.15);\n",
              "      fill: #174EA6;\n",
              "    }\n",
              "\n",
              "    [theme=dark] .colab-df-convert {\n",
              "      background-color: #3B4455;\n",
              "      fill: #D2E3FC;\n",
              "    }\n",
              "\n",
              "    [theme=dark] .colab-df-convert:hover {\n",
              "      background-color: #434B5C;\n",
              "      box-shadow: 0px 1px 3px 1px rgba(0, 0, 0, 0.15);\n",
              "      filter: drop-shadow(0px 1px 2px rgba(0, 0, 0, 0.3));\n",
              "      fill: #FFFFFF;\n",
              "    }\n",
              "  </style>\n",
              "\n",
              "      <script>\n",
              "        const buttonEl =\n",
              "          document.querySelector('#df-282dc449-27e0-40e0-9ca0-cfd2b9749c01 button.colab-df-convert');\n",
              "        buttonEl.style.display =\n",
              "          google.colab.kernel.accessAllowed ? 'block' : 'none';\n",
              "\n",
              "        async function convertToInteractive(key) {\n",
              "          const element = document.querySelector('#df-282dc449-27e0-40e0-9ca0-cfd2b9749c01');\n",
              "          const dataTable =\n",
              "            await google.colab.kernel.invokeFunction('convertToInteractive',\n",
              "                                                     [key], {});\n",
              "          if (!dataTable) return;\n",
              "\n",
              "          const docLinkHtml = 'Like what you see? Visit the ' +\n",
              "            '<a target=\"_blank\" href=https://colab.research.google.com/notebooks/data_table.ipynb>data table notebook</a>'\n",
              "            + ' to learn more about interactive tables.';\n",
              "          element.innerHTML = '';\n",
              "          dataTable['output_type'] = 'display_data';\n",
              "          await google.colab.output.renderOutput(dataTable, element);\n",
              "          const docLink = document.createElement('div');\n",
              "          docLink.innerHTML = docLinkHtml;\n",
              "          element.appendChild(docLink);\n",
              "        }\n",
              "      </script>\n",
              "    </div>\n",
              "  </div>\n",
              "  "
            ]
          },
          "metadata": {},
          "execution_count": 15
        }
      ]
    },
    {
      "cell_type": "markdown",
      "source": [
        "## Features"
      ],
      "metadata": {
        "id": "Ya4qCFhIcnS0"
      }
    },
    {
      "cell_type": "markdown",
      "source": [
        "### Is user following back ?"
      ],
      "metadata": {
        "id": "UiualXOB3BUq"
      }
    },
    {
      "cell_type": "code",
      "source": [
        "def does_follow_back(a,b):\n",
        "    if train_graph.has_edge(b,a):\n",
        "        return 1\n",
        "    else:\n",
        "        return 0"
      ],
      "metadata": {
        "id": "bHGGFeGE3Fen"
      },
      "execution_count": 16,
      "outputs": []
    },
    {
      "cell_type": "markdown",
      "source": [
        "### Shortest path\n",
        "- If there exists a direct link, we consider the shortest path except direct link\n",
        "- If no path found, we assign -1"
      ],
      "metadata": {
        "id": "nDV-QD59OdsB"
      }
    },
    {
      "cell_type": "code",
      "source": [
        "def get_shortest_path_length(a, b):\n",
        "    l = -1\n",
        "    try:\n",
        "        if train_graph.has_edge(a,b):\n",
        "            train_graph.remove_edge(a,b)\n",
        "            l = nx.shortest_path_length(G=train_graph, source=a, target=b)\n",
        "            train_graph.add_edge(a,b)\n",
        "        else :\n",
        "            l = nx.shortest_path_length(G=train_graph, source=a, target=b)\n",
        "        return l\n",
        "    except:\n",
        "        return -1"
      ],
      "metadata": {
        "id": "RMoRPgDNHdx6"
      },
      "execution_count": 24,
      "outputs": []
    },
    {
      "cell_type": "code",
      "source": [
        "get_shortest_path_length(77697, 826021)"
      ],
      "metadata": {
        "colab": {
          "base_uri": "https://localhost:8080/"
        },
        "id": "eCbz_-1lPwh0",
        "outputId": "a51ea81a-e6f2-4d39-95ce-dc019959f8c9"
      },
      "execution_count": 25,
      "outputs": [
        {
          "output_type": "execute_result",
          "data": {
            "text/plain": [
              "10"
            ]
          },
          "metadata": {},
          "execution_count": 25
        }
      ]
    },
    {
      "cell_type": "markdown",
      "source": [
        "### Checking for same community\n",
        "![image.png](data:image/png;base64,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)\n",
        "https://commons.wikimedia.org/wiki/File:Scc.png#%2Fmedia%2FFile%3AScc.png\n",
        "<br>\n",
        "References : https://www.quora.com/What-are-strongly-and-weakly-connected-components"
      ],
      "metadata": {
        "id": "boylaCpbodHX"
      }
    },
    {
      "cell_type": "markdown",
      "source": [
        "Here a,b,e belong to same community\n",
        "<br>\n",
        "Intution :  if there is the path other then direct path then they both belong to same WCC community else they don't belong to same WCC community"
      ],
      "metadata": {
        "id": "SqbG2-6KpAj1"
      }
    },
    {
      "cell_type": "code",
      "source": [
        "#getting weekly connected edges from graph \n",
        "wcc=list(nx.weakly_connected_components(train_graph))\n",
        "\n",
        "def belongs_to_same_wcc(a,b):\n",
        "    community = []\n",
        "    if train_graph.has_edge(b,a):\n",
        "        return 1\n",
        "    if train_graph.has_edge(a,b):\n",
        "            for i in wcc:\n",
        "                if a in i:\n",
        "                    community= i\n",
        "                    break\n",
        "            if (b in community):\n",
        "                train_graph.remove_edge(a,b)\n",
        "                if get_shortest_path_length(a,b)==-1:\n",
        "                    train_graph.add_edge(a,b)\n",
        "                    return 0\n",
        "                else:\n",
        "                    train_graph.add_edge(a,b)\n",
        "                    return 1\n",
        "            else:\n",
        "                return 0\n",
        "    else:\n",
        "            for i in wcc:\n",
        "                if a in i:\n",
        "                    community= i\n",
        "                    break\n",
        "            if(b in community):\n",
        "                return 1\n",
        "            else:\n",
        "                return 0"
      ],
      "metadata": {
        "id": "Uw2_5_f9QJmg"
      },
      "execution_count": 48,
      "outputs": []
    },
    {
      "cell_type": "code",
      "source": [
        "wcc[10]"
      ],
      "metadata": {
        "colab": {
          "base_uri": "https://localhost:8080/"
        },
        "id": "B4AQyqGepb4M",
        "outputId": "32673a92-fbb7-413a-c6f4-5c966e232012"
      },
      "execution_count": 53,
      "outputs": [
        {
          "output_type": "execute_result",
          "data": {
            "text/plain": [
              "{265641, 1007826, 1757704}"
            ]
          },
          "metadata": {},
          "execution_count": 53
        }
      ]
    },
    {
      "cell_type": "code",
      "source": [
        "belongs_to_same_wcc(265641, 1757704)"
      ],
      "metadata": {
        "colab": {
          "base_uri": "https://localhost:8080/"
        },
        "id": "Q4kgJ3tUpMgI",
        "outputId": "c68b58d3-7278-4dd2-fd64-e8a94d7b32ec"
      },
      "execution_count": 54,
      "outputs": [
        {
          "output_type": "execute_result",
          "data": {
            "text/plain": [
              "1"
            ]
          },
          "metadata": {},
          "execution_count": 54
        }
      ]
    },
    {
      "cell_type": "markdown",
      "source": [
        "### Adamic - Adar index\n",
        "\n",
        "$$A(x,y)=\\sum_{u \\in N(x) \\cap N(y)}\\frac{1}{log(|N(u)|)}$$\n",
        "\n",
        "where N(u) is the set of nodes adjacent to u. \n",
        "<br>\n",
        "The definition is based on the concept that common elements with very large neighbourhoods are less significant when predicting a connection between two nodes compared with elements shared between a small number of nodes.\n",
        "<br>\n",
        "Reference : https://en.wikipedia.org/wiki/Adamic%E2%80%93Adar_index"
      ],
      "metadata": {
        "id": "ppHQpMQlw5TS"
      }
    },
    {
      "cell_type": "code",
      "source": [
        "def get_adar_index(a,b):\n",
        "    sum=0\n",
        "    try:\n",
        "        n=list(set(train_graph.successors(a)).intersection(set(train_graph.successors(b))))\n",
        "        if len(n)!=0:\n",
        "            for i in n:\n",
        "                sum=sum+(1/np.log10(len(list(train_graph.predecessors(i)))))\n",
        "            return sum\n",
        "        else:\n",
        "            return 0\n",
        "    except:\n",
        "        return 0"
      ],
      "metadata": {
        "id": "lRuZrUkvqNfM"
      },
      "execution_count": 68,
      "outputs": []
    },
    {
      "cell_type": "code",
      "source": [
        "get_adar_index(1,189226)"
      ],
      "metadata": {
        "colab": {
          "base_uri": "https://localhost:8080/"
        },
        "id": "VHM9eEKlzKK_",
        "outputId": "0795b362-a272-4b19-d686-1a5e298d9bce"
      },
      "execution_count": 71,
      "outputs": [
        {
          "output_type": "execute_result",
          "data": {
            "text/plain": [
              "0"
            ]
          },
          "metadata": {},
          "execution_count": 71
        }
      ]
    },
    {
      "cell_type": "markdown",
      "source": [
        "## Compute features"
      ],
      "metadata": {
        "id": "5_st_2VjSpRJ"
      }
    },
    {
      "cell_type": "code",
      "source": [
        "# does followback or not on train\n",
        "df_final_train['does_follow_back'] = df_final_train.apply(lambda row: does_follow_back(row['source_node'],row['destination_node']),axis=1)\n",
        "\n",
        "# does followback or not on test\n",
        "df_final_test['does_follow_back'] = df_final_test.apply(lambda row: does_follow_back(row['source_node'],row['destination_node']),axis=1)"
      ],
      "metadata": {
        "id": "B13FjudHdA5F"
      },
      "execution_count": 72,
      "outputs": []
    },
    {
      "cell_type": "code",
      "source": [
        "# shortest path on train \n",
        "df_final_train['shortest_path'] = df_final_train.apply(lambda row: get_shortest_path_length(row['source_node'],row['destination_node']),axis=1)\n",
        "\n",
        "# shortest path on test\n",
        "df_final_test['shortest_path'] = df_final_test.apply(lambda row: get_shortest_path_length(row['source_node'],row['destination_node']),axis=1)"
      ],
      "metadata": {
        "id": "X7XmMcK9dL5S"
      },
      "execution_count": 73,
      "outputs": []
    },
    {
      "cell_type": "code",
      "source": [
        "# same component of wcc or not on train\n",
        "df_final_train['same_wcc_com'] = df_final_train.apply(lambda row: belongs_to_same_wcc(row['source_node'],row['destination_node']),axis=1)\n",
        "\n",
        "# same component of wcc or not on train\n",
        "df_final_test['same_wcc_com'] = df_final_test.apply(lambda row: belongs_to_same_wcc(row['source_node'],row['destination_node']),axis=1)"
      ],
      "metadata": {
        "id": "rG32RURFddrz"
      },
      "execution_count": 74,
      "outputs": []
    },
    {
      "cell_type": "code",
      "source": [
        "# adar index on train\n",
        "df_final_train['adar_index'] = df_final_train.apply(lambda row: get_adar_index(row['source_node'],row['destination_node']),axis=1)\n",
        "\n",
        "# adar index on test\n",
        "df_final_test['adar_index'] = df_final_test.apply(lambda row: get_adar_index(row['source_node'],row['destination_node']),axis=1)"
      ],
      "metadata": {
        "id": "KkOErbhYRi-w"
      },
      "execution_count": 75,
      "outputs": []
    },
    {
      "cell_type": "code",
      "source": [
        "df_final_train.tail(2)"
      ],
      "metadata": {
        "colab": {
          "base_uri": "https://localhost:8080/",
          "height": 176
        },
        "id": "U33oDSpxUKsX",
        "outputId": "1cbc154d-4e6f-4d2a-859f-61a36f5414d4"
      },
      "execution_count": 78,
      "outputs": [
        {
          "output_type": "execute_result",
          "data": {
            "text/plain": [
              "        source_node  destination_node  indicator_link  num_followers_s  \\\n",
              "99999       1091070            224583               0                3   \n",
              "100000      1073208            805728               0                0   \n",
              "\n",
              "        num_followers_d  num_following_s  num_following_d  inter_followers  \\\n",
              "99999                 7                2                2                0   \n",
              "100000                0                1                1                0   \n",
              "\n",
              "        inter_following  does_follow_back  shortest_path  same_wcc_com  \\\n",
              "99999                 0                 0             11             1   \n",
              "100000                0                 0             -1             0   \n",
              "\n",
              "        adar_index  \n",
              "99999          0.0  \n",
              "100000         0.0  "
            ],
            "text/html": [
              "\n",
              "  <div id=\"df-a47b516b-ebe7-4e23-9494-3c33b93e849b\">\n",
              "    <div class=\"colab-df-container\">\n",
              "      <div>\n",
              "<style scoped>\n",
              "    .dataframe tbody tr th:only-of-type {\n",
              "        vertical-align: middle;\n",
              "    }\n",
              "\n",
              "    .dataframe tbody tr th {\n",
              "        vertical-align: top;\n",
              "    }\n",
              "\n",
              "    .dataframe thead th {\n",
              "        text-align: right;\n",
              "    }\n",
              "</style>\n",
              "<table border=\"1\" class=\"dataframe\">\n",
              "  <thead>\n",
              "    <tr style=\"text-align: right;\">\n",
              "      <th></th>\n",
              "      <th>source_node</th>\n",
              "      <th>destination_node</th>\n",
              "      <th>indicator_link</th>\n",
              "      <th>num_followers_s</th>\n",
              "      <th>num_followers_d</th>\n",
              "      <th>num_following_s</th>\n",
              "      <th>num_following_d</th>\n",
              "      <th>inter_followers</th>\n",
              "      <th>inter_following</th>\n",
              "      <th>does_follow_back</th>\n",
              "      <th>shortest_path</th>\n",
              "      <th>same_wcc_com</th>\n",
              "      <th>adar_index</th>\n",
              "    </tr>\n",
              "  </thead>\n",
              "  <tbody>\n",
              "    <tr>\n",
              "      <th>99999</th>\n",
              "      <td>1091070</td>\n",
              "      <td>224583</td>\n",
              "      <td>0</td>\n",
              "      <td>3</td>\n",
              "      <td>7</td>\n",
              "      <td>2</td>\n",
              "      <td>2</td>\n",
              "      <td>0</td>\n",
              "      <td>0</td>\n",
              "      <td>0</td>\n",
              "      <td>11</td>\n",
              "      <td>1</td>\n",
              "      <td>0.0</td>\n",
              "    </tr>\n",
              "    <tr>\n",
              "      <th>100000</th>\n",
              "      <td>1073208</td>\n",
              "      <td>805728</td>\n",
              "      <td>0</td>\n",
              "      <td>0</td>\n",
              "      <td>0</td>\n",
              "      <td>1</td>\n",
              "      <td>1</td>\n",
              "      <td>0</td>\n",
              "      <td>0</td>\n",
              "      <td>0</td>\n",
              "      <td>-1</td>\n",
              "      <td>0</td>\n",
              "      <td>0.0</td>\n",
              "    </tr>\n",
              "  </tbody>\n",
              "</table>\n",
              "</div>\n",
              "      <button class=\"colab-df-convert\" onclick=\"convertToInteractive('df-a47b516b-ebe7-4e23-9494-3c33b93e849b')\"\n",
              "              title=\"Convert this dataframe to an interactive table.\"\n",
              "              style=\"display:none;\">\n",
              "        \n",
              "  <svg xmlns=\"http://www.w3.org/2000/svg\" height=\"24px\"viewBox=\"0 0 24 24\"\n",
              "       width=\"24px\">\n",
              "    <path d=\"M0 0h24v24H0V0z\" fill=\"none\"/>\n",
              "    <path d=\"M18.56 5.44l.94 2.06.94-2.06 2.06-.94-2.06-.94-.94-2.06-.94 2.06-2.06.94zm-11 1L8.5 8.5l.94-2.06 2.06-.94-2.06-.94L8.5 2.5l-.94 2.06-2.06.94zm10 10l.94 2.06.94-2.06 2.06-.94-2.06-.94-.94-2.06-.94 2.06-2.06.94z\"/><path d=\"M17.41 7.96l-1.37-1.37c-.4-.4-.92-.59-1.43-.59-.52 0-1.04.2-1.43.59L10.3 9.45l-7.72 7.72c-.78.78-.78 2.05 0 2.83L4 21.41c.39.39.9.59 1.41.59.51 0 1.02-.2 1.41-.59l7.78-7.78 2.81-2.81c.8-.78.8-2.07 0-2.86zM5.41 20L4 18.59l7.72-7.72 1.47 1.35L5.41 20z\"/>\n",
              "  </svg>\n",
              "      </button>\n",
              "      \n",
              "  <style>\n",
              "    .colab-df-container {\n",
              "      display:flex;\n",
              "      flex-wrap:wrap;\n",
              "      gap: 12px;\n",
              "    }\n",
              "\n",
              "    .colab-df-convert {\n",
              "      background-color: #E8F0FE;\n",
              "      border: none;\n",
              "      border-radius: 50%;\n",
              "      cursor: pointer;\n",
              "      display: none;\n",
              "      fill: #1967D2;\n",
              "      height: 32px;\n",
              "      padding: 0 0 0 0;\n",
              "      width: 32px;\n",
              "    }\n",
              "\n",
              "    .colab-df-convert:hover {\n",
              "      background-color: #E2EBFA;\n",
              "      box-shadow: 0px 1px 2px rgba(60, 64, 67, 0.3), 0px 1px 3px 1px rgba(60, 64, 67, 0.15);\n",
              "      fill: #174EA6;\n",
              "    }\n",
              "\n",
              "    [theme=dark] .colab-df-convert {\n",
              "      background-color: #3B4455;\n",
              "      fill: #D2E3FC;\n",
              "    }\n",
              "\n",
              "    [theme=dark] .colab-df-convert:hover {\n",
              "      background-color: #434B5C;\n",
              "      box-shadow: 0px 1px 3px 1px rgba(0, 0, 0, 0.15);\n",
              "      filter: drop-shadow(0px 1px 2px rgba(0, 0, 0, 0.3));\n",
              "      fill: #FFFFFF;\n",
              "    }\n",
              "  </style>\n",
              "\n",
              "      <script>\n",
              "        const buttonEl =\n",
              "          document.querySelector('#df-a47b516b-ebe7-4e23-9494-3c33b93e849b button.colab-df-convert');\n",
              "        buttonEl.style.display =\n",
              "          google.colab.kernel.accessAllowed ? 'block' : 'none';\n",
              "\n",
              "        async function convertToInteractive(key) {\n",
              "          const element = document.querySelector('#df-a47b516b-ebe7-4e23-9494-3c33b93e849b');\n",
              "          const dataTable =\n",
              "            await google.colab.kernel.invokeFunction('convertToInteractive',\n",
              "                                                     [key], {});\n",
              "          if (!dataTable) return;\n",
              "\n",
              "          const docLinkHtml = 'Like what you see? Visit the ' +\n",
              "            '<a target=\"_blank\" href=https://colab.research.google.com/notebooks/data_table.ipynb>data table notebook</a>'\n",
              "            + ' to learn more about interactive tables.';\n",
              "          element.innerHTML = '';\n",
              "          dataTable['output_type'] = 'display_data';\n",
              "          await google.colab.output.renderOutput(dataTable, element);\n",
              "          const docLink = document.createElement('div');\n",
              "          docLink.innerHTML = docLinkHtml;\n",
              "          element.appendChild(docLink);\n",
              "        }\n",
              "      </script>\n",
              "    </div>\n",
              "  </div>\n",
              "  "
            ]
          },
          "metadata": {},
          "execution_count": 78
        }
      ]
    },
    {
      "cell_type": "code",
      "source": [
        "df_final_test.head(2)"
      ],
      "metadata": {
        "colab": {
          "base_uri": "https://localhost:8080/",
          "height": 176
        },
        "id": "ap20LArwUdff",
        "outputId": "f46d513f-2cb5-4a96-8924-3d8b48229798"
      },
      "execution_count": 77,
      "outputs": [
        {
          "output_type": "execute_result",
          "data": {
            "text/plain": [
              "   source_node  destination_node  indicator_link  num_followers_s  \\\n",
              "0       848424            784690               1                6   \n",
              "1      1190268            217891               1               34   \n",
              "\n",
              "   num_followers_d  num_following_s  num_following_d  inter_followers  \\\n",
              "0                6               14                9                1   \n",
              "1               35               17               21                3   \n",
              "\n",
              "   inter_following  does_follow_back  shortest_path  same_wcc_com  adar_index  \n",
              "0                0                 1              2             1    0.000000  \n",
              "1                5                 1              2             1    3.450508  "
            ],
            "text/html": [
              "\n",
              "  <div id=\"df-e5cc3e3c-b725-4aa1-8689-03166449c90e\">\n",
              "    <div class=\"colab-df-container\">\n",
              "      <div>\n",
              "<style scoped>\n",
              "    .dataframe tbody tr th:only-of-type {\n",
              "        vertical-align: middle;\n",
              "    }\n",
              "\n",
              "    .dataframe tbody tr th {\n",
              "        vertical-align: top;\n",
              "    }\n",
              "\n",
              "    .dataframe thead th {\n",
              "        text-align: right;\n",
              "    }\n",
              "</style>\n",
              "<table border=\"1\" class=\"dataframe\">\n",
              "  <thead>\n",
              "    <tr style=\"text-align: right;\">\n",
              "      <th></th>\n",
              "      <th>source_node</th>\n",
              "      <th>destination_node</th>\n",
              "      <th>indicator_link</th>\n",
              "      <th>num_followers_s</th>\n",
              "      <th>num_followers_d</th>\n",
              "      <th>num_following_s</th>\n",
              "      <th>num_following_d</th>\n",
              "      <th>inter_followers</th>\n",
              "      <th>inter_following</th>\n",
              "      <th>does_follow_back</th>\n",
              "      <th>shortest_path</th>\n",
              "      <th>same_wcc_com</th>\n",
              "      <th>adar_index</th>\n",
              "    </tr>\n",
              "  </thead>\n",
              "  <tbody>\n",
              "    <tr>\n",
              "      <th>0</th>\n",
              "      <td>848424</td>\n",
              "      <td>784690</td>\n",
              "      <td>1</td>\n",
              "      <td>6</td>\n",
              "      <td>6</td>\n",
              "      <td>14</td>\n",
              "      <td>9</td>\n",
              "      <td>1</td>\n",
              "      <td>0</td>\n",
              "      <td>1</td>\n",
              "      <td>2</td>\n",
              "      <td>1</td>\n",
              "      <td>0.000000</td>\n",
              "    </tr>\n",
              "    <tr>\n",
              "      <th>1</th>\n",
              "      <td>1190268</td>\n",
              "      <td>217891</td>\n",
              "      <td>1</td>\n",
              "      <td>34</td>\n",
              "      <td>35</td>\n",
              "      <td>17</td>\n",
              "      <td>21</td>\n",
              "      <td>3</td>\n",
              "      <td>5</td>\n",
              "      <td>1</td>\n",
              "      <td>2</td>\n",
              "      <td>1</td>\n",
              "      <td>3.450508</td>\n",
              "    </tr>\n",
              "  </tbody>\n",
              "</table>\n",
              "</div>\n",
              "      <button class=\"colab-df-convert\" onclick=\"convertToInteractive('df-e5cc3e3c-b725-4aa1-8689-03166449c90e')\"\n",
              "              title=\"Convert this dataframe to an interactive table.\"\n",
              "              style=\"display:none;\">\n",
              "        \n",
              "  <svg xmlns=\"http://www.w3.org/2000/svg\" height=\"24px\"viewBox=\"0 0 24 24\"\n",
              "       width=\"24px\">\n",
              "    <path d=\"M0 0h24v24H0V0z\" fill=\"none\"/>\n",
              "    <path d=\"M18.56 5.44l.94 2.06.94-2.06 2.06-.94-2.06-.94-.94-2.06-.94 2.06-2.06.94zm-11 1L8.5 8.5l.94-2.06 2.06-.94-2.06-.94L8.5 2.5l-.94 2.06-2.06.94zm10 10l.94 2.06.94-2.06 2.06-.94-2.06-.94-.94-2.06-.94 2.06-2.06.94z\"/><path d=\"M17.41 7.96l-1.37-1.37c-.4-.4-.92-.59-1.43-.59-.52 0-1.04.2-1.43.59L10.3 9.45l-7.72 7.72c-.78.78-.78 2.05 0 2.83L4 21.41c.39.39.9.59 1.41.59.51 0 1.02-.2 1.41-.59l7.78-7.78 2.81-2.81c.8-.78.8-2.07 0-2.86zM5.41 20L4 18.59l7.72-7.72 1.47 1.35L5.41 20z\"/>\n",
              "  </svg>\n",
              "      </button>\n",
              "      \n",
              "  <style>\n",
              "    .colab-df-container {\n",
              "      display:flex;\n",
              "      flex-wrap:wrap;\n",
              "      gap: 12px;\n",
              "    }\n",
              "\n",
              "    .colab-df-convert {\n",
              "      background-color: #E8F0FE;\n",
              "      border: none;\n",
              "      border-radius: 50%;\n",
              "      cursor: pointer;\n",
              "      display: none;\n",
              "      fill: #1967D2;\n",
              "      height: 32px;\n",
              "      padding: 0 0 0 0;\n",
              "      width: 32px;\n",
              "    }\n",
              "\n",
              "    .colab-df-convert:hover {\n",
              "      background-color: #E2EBFA;\n",
              "      box-shadow: 0px 1px 2px rgba(60, 64, 67, 0.3), 0px 1px 3px 1px rgba(60, 64, 67, 0.15);\n",
              "      fill: #174EA6;\n",
              "    }\n",
              "\n",
              "    [theme=dark] .colab-df-convert {\n",
              "      background-color: #3B4455;\n",
              "      fill: #D2E3FC;\n",
              "    }\n",
              "\n",
              "    [theme=dark] .colab-df-convert:hover {\n",
              "      background-color: #434B5C;\n",
              "      box-shadow: 0px 1px 3px 1px rgba(0, 0, 0, 0.15);\n",
              "      filter: drop-shadow(0px 1px 2px rgba(0, 0, 0, 0.3));\n",
              "      fill: #FFFFFF;\n",
              "    }\n",
              "  </style>\n",
              "\n",
              "      <script>\n",
              "        const buttonEl =\n",
              "          document.querySelector('#df-e5cc3e3c-b725-4aa1-8689-03166449c90e button.colab-df-convert');\n",
              "        buttonEl.style.display =\n",
              "          google.colab.kernel.accessAllowed ? 'block' : 'none';\n",
              "\n",
              "        async function convertToInteractive(key) {\n",
              "          const element = document.querySelector('#df-e5cc3e3c-b725-4aa1-8689-03166449c90e');\n",
              "          const dataTable =\n",
              "            await google.colab.kernel.invokeFunction('convertToInteractive',\n",
              "                                                     [key], {});\n",
              "          if (!dataTable) return;\n",
              "\n",
              "          const docLinkHtml = 'Like what you see? Visit the ' +\n",
              "            '<a target=\"_blank\" href=https://colab.research.google.com/notebooks/data_table.ipynb>data table notebook</a>'\n",
              "            + ' to learn more about interactive tables.';\n",
              "          element.innerHTML = '';\n",
              "          dataTable['output_type'] = 'display_data';\n",
              "          await google.colab.output.renderOutput(dataTable, element);\n",
              "          const docLink = document.createElement('div');\n",
              "          docLink.innerHTML = docLinkHtml;\n",
              "          element.appendChild(docLink);\n",
              "        }\n",
              "      </script>\n",
              "    </div>\n",
              "  </div>\n",
              "  "
            ]
          },
          "metadata": {},
          "execution_count": 77
        }
      ]
    },
    {
      "cell_type": "markdown",
      "source": [
        "### Save results"
      ],
      "metadata": {
        "id": "5C6jCUHxeDv3"
      }
    },
    {
      "cell_type": "code",
      "source": [
        "hdf = pd.HDFStore(parent_folder + '/Features/sample_with_features_2.h5')\n",
        "hdf.put('train_df',df_final_train, format='table', data_columns=True)\n",
        "hdf.put('test_df',df_final_test, format='table', data_columns=True)\n",
        "hdf.close()"
      ],
      "metadata": {
        "id": "_gBamSACW6i3"
      },
      "execution_count": 79,
      "outputs": []
    },
    {
      "cell_type": "code",
      "source": [
        ""
      ],
      "metadata": {
        "id": "pk3xYIPuXkiD"
      },
      "execution_count": null,
      "outputs": []
    }
  ]
}