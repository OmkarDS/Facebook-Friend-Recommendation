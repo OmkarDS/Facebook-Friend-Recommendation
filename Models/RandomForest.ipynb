{
  "nbformat": 4,
  "nbformat_minor": 0,
  "metadata": {
    "colab": {
      "provenance": []
    },
    "kernelspec": {
      "name": "python3",
      "display_name": "Python 3"
    },
    "language_info": {
      "name": "python"
    },
    "gpuClass": "standard"
  },
  "cells": [
    {
      "cell_type": "code",
      "execution_count": null,
      "metadata": {
        "id": "pzEpOMdVLu_Q"
      },
      "outputs": [],
      "source": [
        "# This notebook was built on Google colab and uses data form google drive\n",
        "# Also the notebook was built using multiple sessions saving the intermediate outputs to avoid overshooting the RAM"
      ]
    },
    {
      "cell_type": "code",
      "source": [
        "import numpy as np\n",
        "import pandas as pd\n",
        "import matplotlib.pyplot as plt\n",
        "from tqdm import tqdm\n",
        "\n",
        "from sklearn.ensemble import RandomForestClassifier\n",
        "from sklearn.metrics import f1_score\n",
        "from sklearn.model_selection import RandomizedSearchCV\n",
        "from scipy.stats import randint\n",
        "from sklearn.metrics import roc_curve, auc"
      ],
      "metadata": {
        "id": "Ydn_8cNXL3wM"
      },
      "execution_count": null,
      "outputs": []
    },
    {
      "cell_type": "code",
      "source": [
        "parent_folder = \"/content/drive/MyDrive/AAIC/Projects/Facebook Friend Recommendation /data\""
      ],
      "metadata": {
        "id": "AEUYWVxuL-CM"
      },
      "execution_count": null,
      "outputs": []
    },
    {
      "cell_type": "code",
      "source": [
        "df_train = pd.read_hdf(parent_folder + '/Features/sample_with_features_4.h5', 'train_df',mode='r')\n",
        "df_test = pd.read_hdf(parent_folder + '/Features/sample_with_features_4.h5', 'test_df',mode='r')"
      ],
      "metadata": {
        "id": "CDihsc30MAmT"
      },
      "execution_count": null,
      "outputs": []
    },
    {
      "cell_type": "code",
      "source": [
        "df_train.head()"
      ],
      "metadata": {
        "colab": {
          "base_uri": "https://localhost:8080/",
          "height": 386
        },
        "id": "Z9HC1zXPN9jN",
        "outputId": "1e96abb7-9cb8-4030-81d2-95a97d0a30bd"
      },
      "execution_count": null,
      "outputs": [
        {
          "output_type": "execute_result",
          "data": {
            "text/plain": [
              "   source_node  destination_node  indicator_link  num_followers_s  \\\n",
              "0       273084           1505602               1               11   \n",
              "1      1593259            673140               1                8   \n",
              "2       355711           1610892               1                9   \n",
              "3        80115           1473881               1                3   \n",
              "4       336918            226190               1               14   \n",
              "\n",
              "   num_followers_d  num_following_s  num_following_d  inter_followers  \\\n",
              "0               15                6                8                0   \n",
              "1                3               19                8                0   \n",
              "2               18                2                1                1   \n",
              "3               55               83               99                1   \n",
              "4               16                7                5                0   \n",
              "\n",
              "   inter_following  does_follow_back  ...  jaccard_following  \\\n",
              "0                0                 0  ...           0.000000   \n",
              "1                0                 0  ...           0.000000   \n",
              "2                0                 1  ...           0.000000   \n",
              "3               12                 0  ...           0.084507   \n",
              "4                0                 1  ...           0.000000   \n",
              "\n",
              "   cosine_followers  cosine_following   page_rank_s   page_rank_d    katz_s  \\\n",
              "0          0.000000          0.000000  2.045290e-06  3.459963e-07  0.000773   \n",
              "1          0.000000          0.000000  1.373377e-06  1.886069e-06  0.000762   \n",
              "2          0.235702          0.000000  1.394824e-06  2.875504e-07  0.000766   \n",
              "3          0.063372          0.162623  1.827472e-07  8.809712e-07  0.000745   \n",
              "4          0.000000          0.000000  1.198466e-06  5.000005e-07  0.000785   \n",
              "\n",
              "     katz_d  weight_out_s  weight_in_d  weight_out_plus_in  \n",
              "0  0.000756      0.250000     0.377964            0.627964  \n",
              "1  0.000806      0.500000     0.223607            0.723607  \n",
              "2  0.000739      0.229416     0.577350            0.806766  \n",
              "3  0.001098      0.133631     0.109109            0.242740  \n",
              "4  0.000758      0.242536     0.353553            0.596089  \n",
              "\n",
              "[5 rows x 24 columns]"
            ],
            "text/html": [
              "\n",
              "  <div id=\"df-fb2be27d-4084-4496-85b9-f1893cc61a92\">\n",
              "    <div class=\"colab-df-container\">\n",
              "      <div>\n",
              "<style scoped>\n",
              "    .dataframe tbody tr th:only-of-type {\n",
              "        vertical-align: middle;\n",
              "    }\n",
              "\n",
              "    .dataframe tbody tr th {\n",
              "        vertical-align: top;\n",
              "    }\n",
              "\n",
              "    .dataframe thead th {\n",
              "        text-align: right;\n",
              "    }\n",
              "</style>\n",
              "<table border=\"1\" class=\"dataframe\">\n",
              "  <thead>\n",
              "    <tr style=\"text-align: right;\">\n",
              "      <th></th>\n",
              "      <th>source_node</th>\n",
              "      <th>destination_node</th>\n",
              "      <th>indicator_link</th>\n",
              "      <th>num_followers_s</th>\n",
              "      <th>num_followers_d</th>\n",
              "      <th>num_following_s</th>\n",
              "      <th>num_following_d</th>\n",
              "      <th>inter_followers</th>\n",
              "      <th>inter_following</th>\n",
              "      <th>does_follow_back</th>\n",
              "      <th>...</th>\n",
              "      <th>jaccard_following</th>\n",
              "      <th>cosine_followers</th>\n",
              "      <th>cosine_following</th>\n",
              "      <th>page_rank_s</th>\n",
              "      <th>page_rank_d</th>\n",
              "      <th>katz_s</th>\n",
              "      <th>katz_d</th>\n",
              "      <th>weight_out_s</th>\n",
              "      <th>weight_in_d</th>\n",
              "      <th>weight_out_plus_in</th>\n",
              "    </tr>\n",
              "  </thead>\n",
              "  <tbody>\n",
              "    <tr>\n",
              "      <th>0</th>\n",
              "      <td>273084</td>\n",
              "      <td>1505602</td>\n",
              "      <td>1</td>\n",
              "      <td>11</td>\n",
              "      <td>15</td>\n",
              "      <td>6</td>\n",
              "      <td>8</td>\n",
              "      <td>0</td>\n",
              "      <td>0</td>\n",
              "      <td>0</td>\n",
              "      <td>...</td>\n",
              "      <td>0.000000</td>\n",
              "      <td>0.000000</td>\n",
              "      <td>0.000000</td>\n",
              "      <td>2.045290e-06</td>\n",
              "      <td>3.459963e-07</td>\n",
              "      <td>0.000773</td>\n",
              "      <td>0.000756</td>\n",
              "      <td>0.250000</td>\n",
              "      <td>0.377964</td>\n",
              "      <td>0.627964</td>\n",
              "    </tr>\n",
              "    <tr>\n",
              "      <th>1</th>\n",
              "      <td>1593259</td>\n",
              "      <td>673140</td>\n",
              "      <td>1</td>\n",
              "      <td>8</td>\n",
              "      <td>3</td>\n",
              "      <td>19</td>\n",
              "      <td>8</td>\n",
              "      <td>0</td>\n",
              "      <td>0</td>\n",
              "      <td>0</td>\n",
              "      <td>...</td>\n",
              "      <td>0.000000</td>\n",
              "      <td>0.000000</td>\n",
              "      <td>0.000000</td>\n",
              "      <td>1.373377e-06</td>\n",
              "      <td>1.886069e-06</td>\n",
              "      <td>0.000762</td>\n",
              "      <td>0.000806</td>\n",
              "      <td>0.500000</td>\n",
              "      <td>0.223607</td>\n",
              "      <td>0.723607</td>\n",
              "    </tr>\n",
              "    <tr>\n",
              "      <th>2</th>\n",
              "      <td>355711</td>\n",
              "      <td>1610892</td>\n",
              "      <td>1</td>\n",
              "      <td>9</td>\n",
              "      <td>18</td>\n",
              "      <td>2</td>\n",
              "      <td>1</td>\n",
              "      <td>1</td>\n",
              "      <td>0</td>\n",
              "      <td>1</td>\n",
              "      <td>...</td>\n",
              "      <td>0.000000</td>\n",
              "      <td>0.235702</td>\n",
              "      <td>0.000000</td>\n",
              "      <td>1.394824e-06</td>\n",
              "      <td>2.875504e-07</td>\n",
              "      <td>0.000766</td>\n",
              "      <td>0.000739</td>\n",
              "      <td>0.229416</td>\n",
              "      <td>0.577350</td>\n",
              "      <td>0.806766</td>\n",
              "    </tr>\n",
              "    <tr>\n",
              "      <th>3</th>\n",
              "      <td>80115</td>\n",
              "      <td>1473881</td>\n",
              "      <td>1</td>\n",
              "      <td>3</td>\n",
              "      <td>55</td>\n",
              "      <td>83</td>\n",
              "      <td>99</td>\n",
              "      <td>1</td>\n",
              "      <td>12</td>\n",
              "      <td>0</td>\n",
              "      <td>...</td>\n",
              "      <td>0.084507</td>\n",
              "      <td>0.063372</td>\n",
              "      <td>0.162623</td>\n",
              "      <td>1.827472e-07</td>\n",
              "      <td>8.809712e-07</td>\n",
              "      <td>0.000745</td>\n",
              "      <td>0.001098</td>\n",
              "      <td>0.133631</td>\n",
              "      <td>0.109109</td>\n",
              "      <td>0.242740</td>\n",
              "    </tr>\n",
              "    <tr>\n",
              "      <th>4</th>\n",
              "      <td>336918</td>\n",
              "      <td>226190</td>\n",
              "      <td>1</td>\n",
              "      <td>14</td>\n",
              "      <td>16</td>\n",
              "      <td>7</td>\n",
              "      <td>5</td>\n",
              "      <td>0</td>\n",
              "      <td>0</td>\n",
              "      <td>1</td>\n",
              "      <td>...</td>\n",
              "      <td>0.000000</td>\n",
              "      <td>0.000000</td>\n",
              "      <td>0.000000</td>\n",
              "      <td>1.198466e-06</td>\n",
              "      <td>5.000005e-07</td>\n",
              "      <td>0.000785</td>\n",
              "      <td>0.000758</td>\n",
              "      <td>0.242536</td>\n",
              "      <td>0.353553</td>\n",
              "      <td>0.596089</td>\n",
              "    </tr>\n",
              "  </tbody>\n",
              "</table>\n",
              "<p>5 rows × 24 columns</p>\n",
              "</div>\n",
              "      <button class=\"colab-df-convert\" onclick=\"convertToInteractive('df-fb2be27d-4084-4496-85b9-f1893cc61a92')\"\n",
              "              title=\"Convert this dataframe to an interactive table.\"\n",
              "              style=\"display:none;\">\n",
              "        \n",
              "  <svg xmlns=\"http://www.w3.org/2000/svg\" height=\"24px\"viewBox=\"0 0 24 24\"\n",
              "       width=\"24px\">\n",
              "    <path d=\"M0 0h24v24H0V0z\" fill=\"none\"/>\n",
              "    <path d=\"M18.56 5.44l.94 2.06.94-2.06 2.06-.94-2.06-.94-.94-2.06-.94 2.06-2.06.94zm-11 1L8.5 8.5l.94-2.06 2.06-.94-2.06-.94L8.5 2.5l-.94 2.06-2.06.94zm10 10l.94 2.06.94-2.06 2.06-.94-2.06-.94-.94-2.06-.94 2.06-2.06.94z\"/><path d=\"M17.41 7.96l-1.37-1.37c-.4-.4-.92-.59-1.43-.59-.52 0-1.04.2-1.43.59L10.3 9.45l-7.72 7.72c-.78.78-.78 2.05 0 2.83L4 21.41c.39.39.9.59 1.41.59.51 0 1.02-.2 1.41-.59l7.78-7.78 2.81-2.81c.8-.78.8-2.07 0-2.86zM5.41 20L4 18.59l7.72-7.72 1.47 1.35L5.41 20z\"/>\n",
              "  </svg>\n",
              "      </button>\n",
              "      \n",
              "  <style>\n",
              "    .colab-df-container {\n",
              "      display:flex;\n",
              "      flex-wrap:wrap;\n",
              "      gap: 12px;\n",
              "    }\n",
              "\n",
              "    .colab-df-convert {\n",
              "      background-color: #E8F0FE;\n",
              "      border: none;\n",
              "      border-radius: 50%;\n",
              "      cursor: pointer;\n",
              "      display: none;\n",
              "      fill: #1967D2;\n",
              "      height: 32px;\n",
              "      padding: 0 0 0 0;\n",
              "      width: 32px;\n",
              "    }\n",
              "\n",
              "    .colab-df-convert:hover {\n",
              "      background-color: #E2EBFA;\n",
              "      box-shadow: 0px 1px 2px rgba(60, 64, 67, 0.3), 0px 1px 3px 1px rgba(60, 64, 67, 0.15);\n",
              "      fill: #174EA6;\n",
              "    }\n",
              "\n",
              "    [theme=dark] .colab-df-convert {\n",
              "      background-color: #3B4455;\n",
              "      fill: #D2E3FC;\n",
              "    }\n",
              "\n",
              "    [theme=dark] .colab-df-convert:hover {\n",
              "      background-color: #434B5C;\n",
              "      box-shadow: 0px 1px 3px 1px rgba(0, 0, 0, 0.15);\n",
              "      filter: drop-shadow(0px 1px 2px rgba(0, 0, 0, 0.3));\n",
              "      fill: #FFFFFF;\n",
              "    }\n",
              "  </style>\n",
              "\n",
              "      <script>\n",
              "        const buttonEl =\n",
              "          document.querySelector('#df-fb2be27d-4084-4496-85b9-f1893cc61a92 button.colab-df-convert');\n",
              "        buttonEl.style.display =\n",
              "          google.colab.kernel.accessAllowed ? 'block' : 'none';\n",
              "\n",
              "        async function convertToInteractive(key) {\n",
              "          const element = document.querySelector('#df-fb2be27d-4084-4496-85b9-f1893cc61a92');\n",
              "          const dataTable =\n",
              "            await google.colab.kernel.invokeFunction('convertToInteractive',\n",
              "                                                     [key], {});\n",
              "          if (!dataTable) return;\n",
              "\n",
              "          const docLinkHtml = 'Like what you see? Visit the ' +\n",
              "            '<a target=\"_blank\" href=https://colab.research.google.com/notebooks/data_table.ipynb>data table notebook</a>'\n",
              "            + ' to learn more about interactive tables.';\n",
              "          element.innerHTML = '';\n",
              "          dataTable['output_type'] = 'display_data';\n",
              "          await google.colab.output.renderOutput(dataTable, element);\n",
              "          const docLink = document.createElement('div');\n",
              "          docLink.innerHTML = docLinkHtml;\n",
              "          element.appendChild(docLink);\n",
              "        }\n",
              "      </script>\n",
              "    </div>\n",
              "  </div>\n",
              "  "
            ]
          },
          "metadata": {},
          "execution_count": 5
        }
      ]
    },
    {
      "cell_type": "code",
      "source": [
        "y_train = df_train['indicator_link']\n",
        "y_test = df_test['indicator_link']"
      ],
      "metadata": {
        "id": "ZtWJQBeKN_tr"
      },
      "execution_count": null,
      "outputs": []
    },
    {
      "cell_type": "code",
      "source": [
        "df_train.drop(columns=['source_node', 'destination_node','indicator_link'],axis=1,inplace=True)\n",
        "df_test.drop(columns=['source_node', 'destination_node','indicator_link'],axis=1,inplace=True)"
      ],
      "metadata": {
        "id": "x1MofIfIOQuj"
      },
      "execution_count": null,
      "outputs": []
    },
    {
      "cell_type": "code",
      "source": [
        "estimators = [10,50,100,200,500]\n",
        "train_scores = []\n",
        "test_scores = []\n",
        "\n",
        "for i in tqdm(estimators):\n",
        "    clf = RandomForestClassifier(max_depth=5,\n",
        "                             max_features='auto',\n",
        "                             min_samples_leaf=50,\n",
        "                             min_samples_split=100,\n",
        "                             n_estimators=i,\n",
        "                             n_jobs=-1,\n",
        "                             random_state=0)\n",
        "    clf.fit(df_train, y_train)\n",
        "\n",
        "    train_score = f1_score(y_train, clf.predict(df_train))\n",
        "    train_scores.append(train_score)\n",
        "\n",
        "    test_score = f1_score(y_test, clf.predict(df_test))\n",
        "    test_scores.append(test_score)\n",
        "\n",
        "    print(f'Estimators : {i}, Train score : {train_score}, Test score : {test_score}')"
      ],
      "metadata": {
        "colab": {
          "base_uri": "https://localhost:8080/"
        },
        "id": "lHv8DMk_Obqz",
        "outputId": "787e1e78-0a0f-40a8-c2ac-2cdd1a42d584"
      },
      "execution_count": null,
      "outputs": [
        {
          "output_type": "stream",
          "name": "stderr",
          "text": [
            " 20%|██        | 1/5 [00:00<00:02,  1.38it/s]"
          ]
        },
        {
          "output_type": "stream",
          "name": "stdout",
          "text": [
            "Estimators : 10, Train score : 0.9227234042553192, Test score : 0.9046165749656121\n"
          ]
        },
        {
          "output_type": "stream",
          "name": "stderr",
          "text": [
            "\r 40%|████      | 2/5 [00:02<00:04,  1.44s/it]"
          ]
        },
        {
          "output_type": "stream",
          "name": "stdout",
          "text": [
            "Estimators : 50, Train score : 0.9239820833909629, Test score : 0.9197349980889286\n"
          ]
        },
        {
          "output_type": "stream",
          "name": "stderr",
          "text": [
            "\r 60%|██████    | 3/5 [00:06<00:05,  2.72s/it]"
          ]
        },
        {
          "output_type": "stream",
          "name": "stdout",
          "text": [
            "Estimators : 100, Train score : 0.9236893927297888, Test score : 0.9194987255734919\n"
          ]
        },
        {
          "output_type": "stream",
          "name": "stderr",
          "text": [
            "\r 80%|████████  | 4/5 [00:14<00:04,  4.59s/it]"
          ]
        },
        {
          "output_type": "stream",
          "name": "stdout",
          "text": [
            "Estimators : 200, Train score : 0.9242047555300568, Test score : 0.9198566369053931\n"
          ]
        },
        {
          "output_type": "stream",
          "name": "stderr",
          "text": [
            "100%|██████████| 5/5 [00:32<00:00,  6.55s/it]"
          ]
        },
        {
          "output_type": "stream",
          "name": "stdout",
          "text": [
            "Estimators : 500, Train score : 0.9242219646787381, Test score : 0.9198378504573721\n"
          ]
        },
        {
          "output_type": "stream",
          "name": "stderr",
          "text": [
            "\n"
          ]
        }
      ]
    },
    {
      "cell_type": "code",
      "source": [
        "plt.plot(estimators, train_scores, label=\"Train\")\n",
        "plt.plot(estimators, test_scores, label=\"Test\")\n",
        "\n",
        "plt.xlabel(\"Estimator\")\n",
        "plt.ylabel(\"F1 Score\")\n",
        "plt.legend()\n",
        "plt.title(\"F1 scores for different estimators at depth 5\")\n",
        "\n",
        "plt.show()"
      ],
      "metadata": {
        "colab": {
          "base_uri": "https://localhost:8080/",
          "height": 295
        },
        "id": "QcSzS-xeSxvJ",
        "outputId": "5a90edf6-e64a-418e-f751-4477e800ba32"
      },
      "execution_count": null,
      "outputs": [
        {
          "output_type": "display_data",
          "data": {
            "text/plain": [
              "<Figure size 432x288 with 1 Axes>"
            ],
            "image/png": "[encoded data removed]"
          },
          "metadata": {
            "needs_background": "light"
          }
        }
      ]
    },
    {
      "cell_type": "code",
      "source": [
        "depths = [3,5,10,20,35,50,70,100]\n",
        "train_scores = []\n",
        "test_scores = []\n",
        "\n",
        "for i in tqdm(depths):\n",
        "    clf = RandomForestClassifier(n_estimators=150,\n",
        "                             max_depth=i,\n",
        "                             max_features='auto',\n",
        "                             min_samples_leaf=50,\n",
        "                             min_samples_split=100,\n",
        "                             n_jobs=-1,\n",
        "                             random_state=0)\n",
        "    clf.fit(df_train, y_train)\n",
        "\n",
        "    train_score = f1_score(y_train, clf.predict(df_train))\n",
        "    train_scores.append(train_score)\n",
        "\n",
        "    test_score = f1_score(y_test, clf.predict(df_test))\n",
        "    test_scores.append(test_score)\n",
        "\n",
        "    print(f'Depth : {i}, Train score : {train_score}, Test score : {test_score}')"
      ],
      "metadata": {
        "colab": {
          "base_uri": "https://localhost:8080/"
        },
        "id": "0KCZNnTkS5s8",
        "outputId": "8cd24273-2ac7-4afa-b2e4-0e595e91c512"
      },
      "execution_count": null,
      "outputs": [
        {
          "output_type": "stream",
          "name": "stderr",
          "text": [
            " 12%|█▎        | 1/8 [00:05<00:39,  5.63s/it]"
          ]
        },
        {
          "output_type": "stream",
          "name": "stdout",
          "text": [
            "Depth : 3, Train score : 0.9181084941628809, Test score : 0.91540798425399\n"
          ]
        },
        {
          "output_type": "stream",
          "name": "stderr",
          "text": [
            "\r 25%|██▌       | 2/8 [00:11<00:33,  5.64s/it]"
          ]
        },
        {
          "output_type": "stream",
          "name": "stdout",
          "text": [
            "Depth : 5, Train score : 0.9243147299839511, Test score : 0.919953325554259\n"
          ]
        },
        {
          "output_type": "stream",
          "name": "stderr",
          "text": [
            "\r 38%|███▊      | 3/8 [00:18<00:32,  6.51s/it]"
          ]
        },
        {
          "output_type": "stream",
          "name": "stdout",
          "text": [
            "Depth : 10, Train score : 0.9455906043756171, Test score : 0.9264696616470292\n"
          ]
        },
        {
          "output_type": "stream",
          "name": "stderr",
          "text": [
            "\r 50%|█████     | 4/8 [00:27<00:28,  7.24s/it]"
          ]
        },
        {
          "output_type": "stream",
          "name": "stdout",
          "text": [
            "Depth : 20, Train score : 0.956946139097089, Test score : 0.9276174152958636\n"
          ]
        },
        {
          "output_type": "stream",
          "name": "stderr",
          "text": [
            "\r 62%|██████▎   | 5/8 [00:37<00:24,  8.20s/it]"
          ]
        },
        {
          "output_type": "stream",
          "name": "stdout",
          "text": [
            "Depth : 35, Train score : 0.9570289275683211, Test score : 0.9278027374360046\n"
          ]
        },
        {
          "output_type": "stream",
          "name": "stderr",
          "text": [
            "\r 75%|███████▌  | 6/8 [00:45<00:16,  8.21s/it]"
          ]
        },
        {
          "output_type": "stream",
          "name": "stdout",
          "text": [
            "Depth : 50, Train score : 0.9570289275683211, Test score : 0.9278027374360046\n"
          ]
        },
        {
          "output_type": "stream",
          "name": "stderr",
          "text": [
            "\r 88%|████████▊ | 7/8 [00:53<00:08,  8.22s/it]"
          ]
        },
        {
          "output_type": "stream",
          "name": "stdout",
          "text": [
            "Depth : 70, Train score : 0.9570289275683211, Test score : 0.9278027374360046\n"
          ]
        },
        {
          "output_type": "stream",
          "name": "stderr",
          "text": [
            "100%|██████████| 8/8 [01:01<00:00,  7.73s/it]"
          ]
        },
        {
          "output_type": "stream",
          "name": "stdout",
          "text": [
            "Depth : 100, Train score : 0.9570289275683211, Test score : 0.9278027374360046\n"
          ]
        },
        {
          "output_type": "stream",
          "name": "stderr",
          "text": [
            "\n"
          ]
        }
      ]
    },
    {
      "cell_type": "code",
      "source": [
        "plt.plot(depths, train_scores, label=\"Train\")\n",
        "plt.plot(depths, test_scores, label=\"Test\")\n",
        "\n",
        "plt.xlabel(\"Depth\")\n",
        "plt.ylabel(\"F1 Score\")\n",
        "plt.legend()\n",
        "plt.title(\"F1 scores for different depths at n_estimators 150\")\n",
        "\n",
        "plt.show()"
      ],
      "metadata": {
        "colab": {
          "base_uri": "https://localhost:8080/",
          "height": 295
        },
        "id": "zPWYAARLUxTo",
        "outputId": "1e181a9d-457e-4ace-e529-5aaedd7191d1"
      },
      "execution_count": null,
      "outputs": [
        {
          "output_type": "display_data",
          "data": {
            "text/plain": [
              "<Figure size 432x288 with 1 Axes>"
            ],
            "image/png": "[encoded data removed]"
          },
          "metadata": {
            "needs_background": "light"
          }
        }
      ]
    },
    {
      "cell_type": "code",
      "source": [
        "param_dist = {\"n_estimators\":randint(100,150),\n",
        "              \"max_depth\": randint(5,15),\n",
        "              \"min_samples_split\": randint(100,200),\n",
        "              \"min_samples_leaf\": randint(10,60)}\n",
        "\n",
        "clf = RandomForestClassifier(random_state=0,n_jobs=-1)\n",
        "\n",
        "rf_random_search = RandomizedSearchCV(clf,\n",
        "                               param_distributions=param_dist,\n",
        "                               n_iter=5,\n",
        "                               cv=10,\n",
        "                               scoring='f1',\n",
        "                               random_state=0)\n",
        "\n",
        "rf_random_search.fit(df_train,y_train)"
      ],
      "metadata": {
        "colab": {
          "base_uri": "https://localhost:8080/"
        },
        "id": "68FnAV3WVYt5",
        "outputId": "7647c1b0-f861-4e30-cda0-e83585b264a6"
      },
      "execution_count": null,
      "outputs": [
        {
          "output_type": "execute_result",
          "data": {
            "text/plain": [
              "RandomizedSearchCV(cv=10,\n",
              "                   estimator=RandomForestClassifier(n_jobs=-1, random_state=0),\n",
              "                   n_iter=5,\n",
              "                   param_distributions={'max_depth': <scipy.stats._distn_infrastructure.rv_frozen object at 0x7f347c0c14d0>,\n",
              "                                        'min_samples_leaf': <scipy.stats._distn_infrastructure.rv_frozen object at 0x7f347c186e10>,\n",
              "                                        'min_samples_split': <scipy.stats._distn_infrastructure.rv_frozen object at 0x7f347c18d350>,\n",
              "                                        'n_estimators': <scipy.stats._distn_infrastructure.rv_frozen object at 0x7f347c0c1410>},\n",
              "                   random_state=0, scoring='f1')"
            ]
          },
          "metadata": {},
          "execution_count": 22
        }
      ]
    },
    {
      "cell_type": "code",
      "source": [
        "pd.DataFrame(rf_random_search.cv_results_)"
      ],
      "metadata": {
        "colab": {
          "base_uri": "https://localhost:8080/",
          "height": 473
        },
        "id": "niDtGdvvV1CZ",
        "outputId": "30fb18ab-1e3f-4c6f-a629-a95b3284f705"
      },
      "execution_count": null,
      "outputs": [
        {
          "output_type": "execute_result",
          "data": {
            "text/plain": [
              "   mean_fit_time  std_fit_time  mean_score_time  std_score_time  \\\n",
              "0       4.445677      0.272842         0.107896        0.000580   \n",
              "1       5.448051      0.362602         0.117881        0.031126   \n",
              "2       3.762863      0.047206         0.107561        0.000341   \n",
              "3       4.659053      0.562410         0.107329        0.000178   \n",
              "4       6.256630      0.535089         0.178269        0.046393   \n",
              "\n",
              "  param_max_depth param_min_samples_leaf param_min_samples_split  \\\n",
              "0              10                     10                     167   \n",
              "1              12                     19                     183   \n",
              "2               7                     46                     187   \n",
              "3              13                     34                     112   \n",
              "4              11                     49                     187   \n",
              "\n",
              "  param_n_estimators                                             params  \\\n",
              "0                103  {'max_depth': 10, 'min_samples_leaf': 10, 'min...   \n",
              "1                121  {'max_depth': 12, 'min_samples_leaf': 19, 'min...   \n",
              "2                106  {'max_depth': 7, 'min_samples_leaf': 46, 'min_...   \n",
              "3                101  {'max_depth': 13, 'min_samples_leaf': 34, 'min...   \n",
              "4                146  {'max_depth': 11, 'min_samples_leaf': 49, 'min...   \n",
              "\n",
              "   split0_test_score  ...  split3_test_score  split4_test_score  \\\n",
              "0           0.945929  ...           0.944214           0.950248   \n",
              "1           0.949655  ...           0.949212           0.953713   \n",
              "2           0.927898  ...           0.930399           0.928579   \n",
              "3           0.951872  ...           0.951117           0.955331   \n",
              "4           0.944744  ...           0.945974           0.949648   \n",
              "\n",
              "   split5_test_score  split6_test_score  split7_test_score  split8_test_score  \\\n",
              "0           0.943797           0.950955           0.942699           0.949541   \n",
              "1           0.950422           0.954321           0.948535           0.955058   \n",
              "2           0.926602           0.932883           0.926616           0.933235   \n",
              "3           0.949726           0.956495           0.950511           0.957536   \n",
              "4           0.946746           0.950538           0.942935           0.949188   \n",
              "\n",
              "   split9_test_score  mean_test_score  std_test_score  rank_test_score  \n",
              "0           0.948784         0.946669        0.002804                4  \n",
              "1           0.955129         0.951834        0.002398                2  \n",
              "2           0.929425         0.929550        0.002261                5  \n",
              "3           0.954242         0.953173        0.002496                1  \n",
              "4           0.952184         0.947608        0.002659                3  \n",
              "\n",
              "[5 rows x 22 columns]"
            ],
            "text/html": [
              "\n",
              "  <div id=\"df-4b7133dc-d3c3-4a7b-9f98-81ae406da3d9\">\n",
              "    <div class=\"colab-df-container\">\n",
              "      <div>\n",
              "<style scoped>\n",
              "    .dataframe tbody tr th:only-of-type {\n",
              "        vertical-align: middle;\n",
              "    }\n",
              "\n",
              "    .dataframe tbody tr th {\n",
              "        vertical-align: top;\n",
              "    }\n",
              "\n",
              "    .dataframe thead th {\n",
              "        text-align: right;\n",
              "    }\n",
              "</style>\n",
              "<table border=\"1\" class=\"dataframe\">\n",
              "  <thead>\n",
              "    <tr style=\"text-align: right;\">\n",
              "      <th></th>\n",
              "      <th>mean_fit_time</th>\n",
              "      <th>std_fit_time</th>\n",
              "      <th>mean_score_time</th>\n",
              "      <th>std_score_time</th>\n",
              "      <th>param_max_depth</th>\n",
              "      <th>param_min_samples_leaf</th>\n",
              "      <th>param_min_samples_split</th>\n",
              "      <th>param_n_estimators</th>\n",
              "      <th>params</th>\n",
              "      <th>split0_test_score</th>\n",
              "      <th>...</th>\n",
              "      <th>split3_test_score</th>\n",
              "      <th>split4_test_score</th>\n",
              "      <th>split5_test_score</th>\n",
              "      <th>split6_test_score</th>\n",
              "      <th>split7_test_score</th>\n",
              "      <th>split8_test_score</th>\n",
              "      <th>split9_test_score</th>\n",
              "      <th>mean_test_score</th>\n",
              "      <th>std_test_score</th>\n",
              "      <th>rank_test_score</th>\n",
              "    </tr>\n",
              "  </thead>\n",
              "  <tbody>\n",
              "    <tr>\n",
              "      <th>0</th>\n",
              "      <td>4.445677</td>\n",
              "      <td>0.272842</td>\n",
              "      <td>0.107896</td>\n",
              "      <td>0.000580</td>\n",
              "      <td>10</td>\n",
              "      <td>10</td>\n",
              "      <td>167</td>\n",
              "      <td>103</td>\n",
              "      <td>{'max_depth': 10, 'min_samples_leaf': 10, 'min...</td>\n",
              "      <td>0.945929</td>\n",
              "      <td>...</td>\n",
              "      <td>0.944214</td>\n",
              "      <td>0.950248</td>\n",
              "      <td>0.943797</td>\n",
              "      <td>0.950955</td>\n",
              "      <td>0.942699</td>\n",
              "      <td>0.949541</td>\n",
              "      <td>0.948784</td>\n",
              "      <td>0.946669</td>\n",
              "      <td>0.002804</td>\n",
              "      <td>4</td>\n",
              "    </tr>\n",
              "    <tr>\n",
              "      <th>1</th>\n",
              "      <td>5.448051</td>\n",
              "      <td>0.362602</td>\n",
              "      <td>0.117881</td>\n",
              "      <td>0.031126</td>\n",
              "      <td>12</td>\n",
              "      <td>19</td>\n",
              "      <td>183</td>\n",
              "      <td>121</td>\n",
              "      <td>{'max_depth': 12, 'min_samples_leaf': 19, 'min...</td>\n",
              "      <td>0.949655</td>\n",
              "      <td>...</td>\n",
              "      <td>0.949212</td>\n",
              "      <td>0.953713</td>\n",
              "      <td>0.950422</td>\n",
              "      <td>0.954321</td>\n",
              "      <td>0.948535</td>\n",
              "      <td>0.955058</td>\n",
              "      <td>0.955129</td>\n",
              "      <td>0.951834</td>\n",
              "      <td>0.002398</td>\n",
              "      <td>2</td>\n",
              "    </tr>\n",
              "    <tr>\n",
              "      <th>2</th>\n",
              "      <td>3.762863</td>\n",
              "      <td>0.047206</td>\n",
              "      <td>0.107561</td>\n",
              "      <td>0.000341</td>\n",
              "      <td>7</td>\n",
              "      <td>46</td>\n",
              "      <td>187</td>\n",
              "      <td>106</td>\n",
              "      <td>{'max_depth': 7, 'min_samples_leaf': 46, 'min_...</td>\n",
              "      <td>0.927898</td>\n",
              "      <td>...</td>\n",
              "      <td>0.930399</td>\n",
              "      <td>0.928579</td>\n",
              "      <td>0.926602</td>\n",
              "      <td>0.932883</td>\n",
              "      <td>0.926616</td>\n",
              "      <td>0.933235</td>\n",
              "      <td>0.929425</td>\n",
              "      <td>0.929550</td>\n",
              "      <td>0.002261</td>\n",
              "      <td>5</td>\n",
              "    </tr>\n",
              "    <tr>\n",
              "      <th>3</th>\n",
              "      <td>4.659053</td>\n",
              "      <td>0.562410</td>\n",
              "      <td>0.107329</td>\n",
              "      <td>0.000178</td>\n",
              "      <td>13</td>\n",
              "      <td>34</td>\n",
              "      <td>112</td>\n",
              "      <td>101</td>\n",
              "      <td>{'max_depth': 13, 'min_samples_leaf': 34, 'min...</td>\n",
              "      <td>0.951872</td>\n",
              "      <td>...</td>\n",
              "      <td>0.951117</td>\n",
              "      <td>0.955331</td>\n",
              "      <td>0.949726</td>\n",
              "      <td>0.956495</td>\n",
              "      <td>0.950511</td>\n",
              "      <td>0.957536</td>\n",
              "      <td>0.954242</td>\n",
              "      <td>0.953173</td>\n",
              "      <td>0.002496</td>\n",
              "      <td>1</td>\n",
              "    </tr>\n",
              "    <tr>\n",
              "      <th>4</th>\n",
              "      <td>6.256630</td>\n",
              "      <td>0.535089</td>\n",
              "      <td>0.178269</td>\n",
              "      <td>0.046393</td>\n",
              "      <td>11</td>\n",
              "      <td>49</td>\n",
              "      <td>187</td>\n",
              "      <td>146</td>\n",
              "      <td>{'max_depth': 11, 'min_samples_leaf': 49, 'min...</td>\n",
              "      <td>0.944744</td>\n",
              "      <td>...</td>\n",
              "      <td>0.945974</td>\n",
              "      <td>0.949648</td>\n",
              "      <td>0.946746</td>\n",
              "      <td>0.950538</td>\n",
              "      <td>0.942935</td>\n",
              "      <td>0.949188</td>\n",
              "      <td>0.952184</td>\n",
              "      <td>0.947608</td>\n",
              "      <td>0.002659</td>\n",
              "      <td>3</td>\n",
              "    </tr>\n",
              "  </tbody>\n",
              "</table>\n",
              "<p>5 rows × 22 columns</p>\n",
              "</div>\n",
              "      <button class=\"colab-df-convert\" onclick=\"convertToInteractive('df-4b7133dc-d3c3-4a7b-9f98-81ae406da3d9')\"\n",
              "              title=\"Convert this dataframe to an interactive table.\"\n",
              "              style=\"display:none;\">\n",
              "        \n",
              "  <svg xmlns=\"http://www.w3.org/2000/svg\" height=\"24px\"viewBox=\"0 0 24 24\"\n",
              "       width=\"24px\">\n",
              "    <path d=\"M0 0h24v24H0V0z\" fill=\"none\"/>\n",
              "    <path d=\"M18.56 5.44l.94 2.06.94-2.06 2.06-.94-2.06-.94-.94-2.06-.94 2.06-2.06.94zm-11 1L8.5 8.5l.94-2.06 2.06-.94-2.06-.94L8.5 2.5l-.94 2.06-2.06.94zm10 10l.94 2.06.94-2.06 2.06-.94-2.06-.94-.94-2.06-.94 2.06-2.06.94z\"/><path d=\"M17.41 7.96l-1.37-1.37c-.4-.4-.92-.59-1.43-.59-.52 0-1.04.2-1.43.59L10.3 9.45l-7.72 7.72c-.78.78-.78 2.05 0 2.83L4 21.41c.39.39.9.59 1.41.59.51 0 1.02-.2 1.41-.59l7.78-7.78 2.81-2.81c.8-.78.8-2.07 0-2.86zM5.41 20L4 18.59l7.72-7.72 1.47 1.35L5.41 20z\"/>\n",
              "  </svg>\n",
              "      </button>\n",
              "      \n",
              "  <style>\n",
              "    .colab-df-container {\n",
              "      display:flex;\n",
              "      flex-wrap:wrap;\n",
              "      gap: 12px;\n",
              "    }\n",
              "\n",
              "    .colab-df-convert {\n",
              "      background-color: #E8F0FE;\n",
              "      border: none;\n",
              "      border-radius: 50%;\n",
              "      cursor: pointer;\n",
              "      display: none;\n",
              "      fill: #1967D2;\n",
              "      height: 32px;\n",
              "      padding: 0 0 0 0;\n",
              "      width: 32px;\n",
              "    }\n",
              "\n",
              "    .colab-df-convert:hover {\n",
              "      background-color: #E2EBFA;\n",
              "      box-shadow: 0px 1px 2px rgba(60, 64, 67, 0.3), 0px 1px 3px 1px rgba(60, 64, 67, 0.15);\n",
              "      fill: #174EA6;\n",
              "    }\n",
              "\n",
              "    [theme=dark] .colab-df-convert {\n",
              "      background-color: #3B4455;\n",
              "      fill: #D2E3FC;\n",
              "    }\n",
              "\n",
              "    [theme=dark] .colab-df-convert:hover {\n",
              "      background-color: #434B5C;\n",
              "      box-shadow: 0px 1px 3px 1px rgba(0, 0, 0, 0.15);\n",
              "      filter: drop-shadow(0px 1px 2px rgba(0, 0, 0, 0.3));\n",
              "      fill: #FFFFFF;\n",
              "    }\n",
              "  </style>\n",
              "\n",
              "      <script>\n",
              "        const buttonEl =\n",
              "          document.querySelector('#df-4b7133dc-d3c3-4a7b-9f98-81ae406da3d9 button.colab-df-convert');\n",
              "        buttonEl.style.display =\n",
              "          google.colab.kernel.accessAllowed ? 'block' : 'none';\n",
              "\n",
              "        async function convertToInteractive(key) {\n",
              "          const element = document.querySelector('#df-4b7133dc-d3c3-4a7b-9f98-81ae406da3d9');\n",
              "          const dataTable =\n",
              "            await google.colab.kernel.invokeFunction('convertToInteractive',\n",
              "                                                     [key], {});\n",
              "          if (!dataTable) return;\n",
              "\n",
              "          const docLinkHtml = 'Like what you see? Visit the ' +\n",
              "            '<a target=\"_blank\" href=https://colab.research.google.com/notebooks/data_table.ipynb>data table notebook</a>'\n",
              "            + ' to learn more about interactive tables.';\n",
              "          element.innerHTML = '';\n",
              "          dataTable['output_type'] = 'display_data';\n",
              "          await google.colab.output.renderOutput(dataTable, element);\n",
              "          const docLink = document.createElement('div');\n",
              "          docLink.innerHTML = docLinkHtml;\n",
              "          element.appendChild(docLink);\n",
              "        }\n",
              "      </script>\n",
              "    </div>\n",
              "  </div>\n",
              "  "
            ]
          },
          "metadata": {},
          "execution_count": 25
        }
      ]
    },
    {
      "cell_type": "code",
      "source": [
        "print('Mean test scores : ', rf_random_search.cv_results_['mean_test_score'])"
      ],
      "metadata": {
        "colab": {
          "base_uri": "https://localhost:8080/"
        },
        "id": "q552rVs_aKAr",
        "outputId": "6011de8e-8e9e-41f2-de43-945f7ab51733"
      },
      "execution_count": null,
      "outputs": [
        {
          "output_type": "stream",
          "name": "stdout",
          "text": [
            "Mean test scores :  [0.94666854 0.9518343  0.92955005 0.95317278 0.94760802]\n"
          ]
        }
      ]
    },
    {
      "cell_type": "code",
      "source": [
        "best_clf = rf_random_search.best_estimator_\n",
        "best_clf"
      ],
      "metadata": {
        "colab": {
          "base_uri": "https://localhost:8080/"
        },
        "id": "Wgl5keCAbPAf",
        "outputId": "f0709a2e-3c7f-41f6-dccd-f7d2ff70b79e"
      },
      "execution_count": null,
      "outputs": [
        {
          "output_type": "execute_result",
          "data": {
            "text/plain": [
              "RandomForestClassifier(max_depth=13, min_samples_leaf=34, min_samples_split=112,\n",
              "                       n_estimators=101, n_jobs=-1, random_state=0)"
            ]
          },
          "metadata": {},
          "execution_count": 31
        }
      ]
    },
    {
      "cell_type": "code",
      "source": [
        "best_clf.fit(df_train, y_train)\n",
        "y_train_pred = best_clf.predict(df_train)\n",
        "y_test_pred = best_clf.predict(df_test)"
      ],
      "metadata": {
        "id": "WuVQrkCRbrnQ"
      },
      "execution_count": null,
      "outputs": []
    },
    {
      "cell_type": "code",
      "source": [
        "print('Train f1 score : ', f1_score(y_train, y_train_pred))\n",
        "print('Test f1 score : ', f1_score(y_test, y_test_pred))"
      ],
      "metadata": {
        "colab": {
          "base_uri": "https://localhost:8080/"
        },
        "id": "woP56VEkcYKJ",
        "outputId": "378d695a-1d18-4d62-9bad-f884dead4338"
      },
      "execution_count": null,
      "outputs": [
        {
          "output_type": "stream",
          "name": "stdout",
          "text": [
            "Train f1 score :  0.9551407249028597\n",
            "Test f1 score :  0.9283680817215105\n"
          ]
        }
      ]
    },
    {
      "cell_type": "code",
      "source": [
        "fpr, tpr, thresholds = roc_curve(y_train, y_train_pred)\n",
        "auc_sc = auc(fpr, tpr)\n",
        "plt.plot(fpr, tpr, label=f'Train ROC curve (area = {auc_sc:.2f})')\n",
        "\n",
        "fpr, tpr, thresholds = roc_curve(y_test, y_test_pred)\n",
        "auc_sc = auc(fpr, tpr)\n",
        "plt.plot(fpr, tpr, label=f'Test ROC curve (area = {auc_sc:.2f})')\n",
        "\n",
        "plt.xlabel('False Positive Rate')\n",
        "plt.ylabel('True Positive Rate')\n",
        "plt.legend()\n",
        "plt.title('ROC curve with train and test data')\n",
        "\n",
        "plt.show()"
      ],
      "metadata": {
        "colab": {
          "base_uri": "https://localhost:8080/",
          "height": 295
        },
        "id": "vb5iGWhHci9v",
        "outputId": "7f411595-f24f-4b26-8a8b-833d608fb0a9"
      },
      "execution_count": null,
      "outputs": [
        {
          "output_type": "display_data",
          "data": {
            "text/plain": [
              "<Figure size 432x288 with 1 Axes>"
            ],
            "image/png": "[encoded data removed]"
          },
          "metadata": {
            "needs_background": "light"
          }
        }
      ]
    },
    {
      "cell_type": "code",
      "source": [
        "df_train.columns"
      ],
      "metadata": {
        "colab": {
          "base_uri": "https://localhost:8080/"
        },
        "id": "pcRjmjgYd_9v",
        "outputId": "452dc079-00c6-4957-dcdc-590d5d4b74fa"
      },
      "execution_count": null,
      "outputs": [
        {
          "output_type": "execute_result",
          "data": {
            "text/plain": [
              "Index(['num_followers_s', 'num_followers_d', 'num_following_s',\n",
              "       'num_following_d', 'inter_followers', 'inter_following',\n",
              "       'does_follow_back', 'shortest_path', 'same_wcc_com', 'adar_index',\n",
              "       'jaccard_followers', 'jaccard_following', 'cosine_followers',\n",
              "       'cosine_following', 'page_rank_s', 'page_rank_d', 'katz_s', 'katz_d',\n",
              "       'weight_out_s', 'weight_in_d', 'weight_out_plus_in'],\n",
              "      dtype='object')"
            ]
          },
          "metadata": {},
          "execution_count": 40
        }
      ]
    },
    {
      "cell_type": "code",
      "source": [
        "np.set_printoptions(precision=3, suppress=True)\n",
        "np.array(best_clf.feature_importances_)"
      ],
      "metadata": {
        "colab": {
          "base_uri": "https://localhost:8080/"
        },
        "id": "WdUMIuqZn1wE",
        "outputId": "3c5dd5f3-3b82-4748-f15c-befbd1dfd4c9"
      },
      "execution_count": null,
      "outputs": [
        {
          "output_type": "execute_result",
          "data": {
            "text/plain": [
              "array([0.005, 0.036, 0.021, 0.009, 0.076, 0.041, 0.264, 0.092, 0.02 ,\n",
              "       0.034, 0.062, 0.043, 0.072, 0.038, 0.   , 0.003, 0.006, 0.012,\n",
              "       0.029, 0.017, 0.12 ])"
            ]
          },
          "metadata": {},
          "execution_count": 49
        }
      ]
    },
    {
      "cell_type": "code",
      "source": [
        "features = df_train.columns\n",
        "importances = best_clf.feature_importances_\n",
        "indices = (np.argsort(importances))[-25:]\n",
        "\n",
        "\n",
        "plt.figure(figsize=(10,12))\n",
        "plt.title('Feature Importances')\n",
        "plt.barh(range(len(indices)), importances[indices], align='center')\n",
        "plt.yticks(range(len(indices)), [features[i] for i in indices])\n",
        "plt.xlabel('Relative Importance')\n",
        "plt.show()"
      ],
      "metadata": {
        "colab": {
          "base_uri": "https://localhost:8080/",
          "height": 730
        },
        "id": "gyNL9fxNe7et",
        "outputId": "5e5a33ec-1b18-4dc4-e574-c1354f2053aa"
      },
      "execution_count": null,
      "outputs": [
        {
          "output_type": "display_data",
          "data": {
            "text/plain": [
              "<Figure size 720x864 with 1 Axes>"
            ],
            "image/png": "[encoded data removed]"
          },
          "metadata": {
            "needs_background": "light"
          }
        }
      ]
    }
  ]
}